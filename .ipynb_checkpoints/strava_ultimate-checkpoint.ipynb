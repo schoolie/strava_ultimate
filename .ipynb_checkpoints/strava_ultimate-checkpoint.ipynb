{
 "cells": [
  {
   "cell_type": "code",
   "execution_count": 25,
   "metadata": {
    "collapsed": false
   },
   "outputs": [],
   "source": [
    "import stravalib\n",
    "import logging\n",
    "from xml.dom import minidom\n",
    "import dateutil\n",
    "import numpy as np\n",
    "\n",
    "logger = logging.getLogger()\n",
    "logger.setLevel(logging.ERROR)"
   ]
  },
  {
   "cell_type": "code",
   "execution_count": 2,
   "metadata": {
    "collapsed": false
   },
   "outputs": [],
   "source": [
    "#Global Variables - put your data in the file 'client.secret' and separate the fields with a comma!\n",
    "client = stravalib.client.Client()\n",
    "access_token = 'e3ccedc91fceef32077fbb31fc44676446d14bdd'\n",
    "\n",
    "client.access_token = access_token\n",
    "athlete = client.get_athlete()"
   ]
  },
  {
   "cell_type": "code",
   "execution_count": 4,
   "metadata": {
    "collapsed": false
   },
   "outputs": [
    {
     "data": {
      "text/html": [
       "<a href=\"https://www.strava.com/oauth/authorize?client_id=19435&redirect_uri=http%3A%2F%2Flocalhost%3A8282%2Fauthorized&approval_prompt=auto&response_type=code&scope=view_private%2Cwrite\">https://www.strava.com/oauth/authorize?client_id=19435&redirect_uri=http%3A%2F%2Flocalhost%3A8282%2Fauthorized&approval_prompt=auto&response_type=code&scope=view_private%2Cwrite</a>"
      ],
      "text/plain": [
       "<IPython.core.display.HTML object>"
      ]
     },
     "metadata": {},
     "output_type": "display_data"
    }
   ],
   "source": [
    "auth_url= client.authorization_url(client_id=19435, redirect_uri='http://localhost:8282/authorized', approval_prompt=u'auto', scope='view_private,write', state=None)\n",
    "from IPython.core.display import display, HTML\n",
    "display(HTML(\"\"\"<a href=\"{}\">{}</a>\"\"\".format(auth_url,auth_url)))"
   ]
  },
  {
   "cell_type": "code",
   "execution_count": 5,
   "metadata": {
    "collapsed": false
   },
   "outputs": [],
   "source": [
    "code = '6d057263b427852b0489af26e921f8fd25a78852'\n",
    "access_token = client.exchange_code_for_token(client_id=19435, client_secret='45b776d5beceeb34c290b8a56bf9829d6d4ea5d7', code=code)\n"
   ]
  },
  {
   "cell_type": "code",
   "execution_count": 6,
   "metadata": {
    "collapsed": false
   },
   "outputs": [
    {
     "name": "stdout",
     "output_type": "stream",
     "text": [
      "athlete name Brian, athlete id 3360678.\n"
     ]
    }
   ],
   "source": [
    "client = stravalib.client.Client(access_token=access_token)\n",
    "athlete = client.get_athlete()\n",
    "print('athlete name %s, athlete id %s.' %(athlete.firstname, athlete.id))\n"
   ]
  },
  {
   "cell_type": "code",
   "execution_count": 7,
   "metadata": {
    "collapsed": false
   },
   "outputs": [
    {
     "data": {
      "text/plain": [
       "datetime.datetime(2017, 9, 28, 0, 0)"
      ]
     },
     "execution_count": 7,
     "metadata": {},
     "output_type": "execute_result"
    }
   ],
   "source": [
    "import datetime\n",
    "lap_start_date = datetime.datetime(2017, 9, 28)\n",
    "lap_start_date"
   ]
  },
  {
   "cell_type": "code",
   "execution_count": 11,
   "metadata": {
    "collapsed": false,
    "scrolled": false
   },
   "outputs": [
    {
     "name": "stdout",
     "output_type": "stream",
     "text": [
      "Ultimate Run 2017-09-29 17:16:08+00:00\n",
      "Ultimate Run 2017-10-04 00:29:08+00:00\n"
     ]
    }
   ],
   "source": [
    "runs = []\n",
    "for activity in client.get_activities(after=lap_start_date):\n",
    "    if 'ltimate' in activity.name and activity.type == 'Run':\n",
    "        print(activity.name, activity.type, activity.start_date)\n",
    "        runs.append(activity)"
   ]
  },
  {
   "cell_type": "code",
   "execution_count": 13,
   "metadata": {
    "collapsed": false
   },
   "outputs": [
    {
     "name": "stdout",
     "output_type": "stream",
     "text": [
      "<Activity id=1207538661 name='Ultimate' resource_state=2>\n",
      "0:07:56\n",
      "0:04:53\n",
      "0:03:15\n",
      "<Activity id=1214171210 name='Ultimate' resource_state=2>\n",
      "0:07:56\n",
      "0:04:53\n",
      "0:03:15\n"
     ]
    }
   ],
   "source": [
    "for run in runs:\n",
    "    print(run)\n",
    "    for lap in runs[1].laps:\n",
    "        print(lap.elapsed_time)"
   ]
  },
  {
   "cell_type": "code",
   "execution_count": 40,
   "metadata": {
    "collapsed": false
   },
   "outputs": [
    {
     "data": {
      "text/plain": [
       "<ActivityLap id=3766238393 name='Lap 1' resource_state=2>"
      ]
     },
     "execution_count": 40,
     "metadata": {},
     "output_type": "execute_result"
    }
   ],
   "source": [
    "lap"
   ]
  },
  {
   "cell_type": "code",
   "execution_count": 23,
   "metadata": {
    "collapsed": true
   },
   "outputs": [],
   "source": [
    "\n",
    "def xml_to_float(element):\n",
    "    if element is not None:\n",
    "        return float(element[0].firstChild.data)\n",
    "    else:\n",
    "        return np.nan\n",
    "        \n",
    "def xml_to_time(element):\n",
    "    if element is not None:\n",
    "        return datetime.datetime.strptime(element[0].firstChild.data, '%Y-%m-%dT%H:%M:%S.%fZ')\n",
    "#         return dateutil.parser.parse(element[0].firstChild.data)\n",
    "    else:\n",
    "        return np.nan"
   ]
  },
  {
   "cell_type": "code",
   "execution_count": 106,
   "metadata": {
    "collapsed": false
   },
   "outputs": [],
   "source": [
    "class Dummy(object):\n",
    "    pass\n",
    "\n",
    "self = Dummy()\n",
    "\n",
    "filename = 'activity_2040473210.tcx'   \n",
    "       \n",
    "    \n",
    "    \n",
    "doc = minidom.parse(filename)\n",
    "doc.normalize()\n",
    "self.tcx = doc.documentElement   \n",
    "\n",
    "points = []\n",
    "\n",
    "lap_starts = []\n",
    "for lap in self.tcx.getElementsByTagName('Lap'):\n",
    "    lap_starts.append(lap.attributes.items()[0][1])\n",
    "    \n",
    "lap_starts = [datetime.datetime.strptime(t, '%Y-%m-%dT%H:%M:%S.000Z') for t in lap_starts]\n",
    "\n",
    "\n",
    "\n",
    "#     for track in lap.getElementsByTagName('Track'):\n",
    "#         for trackpoint in track.getElementsByTagName('Trackpoint'):     \n",
    "\n",
    "#             _pos = trackpoint.getElementsByTagName('Position') or None\n",
    "#             if _pos:\n",
    "#                 _lat = _pos[0].getElementsByTagName('LatitudeDegrees')\n",
    "#                 _lon = _pos[0].getElementsByTagName('LongitudeDegrees')\n",
    "#             else:\n",
    "#                 _lat = None\n",
    "#                 _lon = None\n",
    "\n",
    "#             _time = trackpoint.getElementsByTagName('Time')\n",
    "#             _dist = trackpoint.getElementsByTagName('DistanceMeters') or None\n",
    "#             _alt = trackpoint.getElementsByTagName('AltitudeMeters') or None\n",
    "\n",
    "#             _hr_cont = trackpoint.getElementsByTagName('HeartRateBpm') or None\n",
    "#             if _hr_cont:\n",
    "#                 _hr = _hr_cont[0].getElementsByTagName('Value') or None\n",
    "#             else:\n",
    "#                 _hr = None\n",
    "\n",
    "#             _cad = trackpoint.getElementsByTagName('Cadence') or None\n",
    "\n",
    "\n",
    "\n",
    "#             _point = {'lat': xml_to_float(_lat),\n",
    "#                       'lon': xml_to_float(_lon),\n",
    "#                       'time': xml_to_time(_time),\n",
    "#                       'alt':  xml_to_float(_alt),\n",
    "#                       'hr':   xml_to_float(_hr),\n",
    "#                       'cad':  xml_to_float(_cad),\n",
    "#                       'dist': xml_to_float(_dist),\n",
    "#                      }\n",
    "#             points.append(_point)\n",
    "\n",
    "# self.points = points\n",
    "# # self.activity_type = self.tcx.getElementsByTagName('Activity')[0].attributes.getNamedItem('Sport')\n",
    "# self.activity_type = 'Biking'"
   ]
  },
  {
   "cell_type": "code",
   "execution_count": 107,
   "metadata": {
    "collapsed": false
   },
   "outputs": [],
   "source": [
    "press_delta = datetime.timedelta(0,3)\n",
    "\n",
    "presses = 1\n",
    "\n",
    "events = []\n",
    "\n",
    "for n in range(len(lap_starts) - 1):\n",
    "    \n",
    "    \n",
    "    time = lap_starts[n]\n",
    "    \n",
    "    dt = lap_starts[n+1] - lap_starts[n]\n",
    "    \n",
    "    # print(presses, time, dt, dt > press_delta)\n",
    "    \n",
    "    \n",
    "    if dt > press_delta:\n",
    "        events.append([presses, time])\n",
    "        presses = 1\n",
    "        \n",
    "    else:        \n",
    "        presses += 1\n",
    "        \n",
    "events.append([presses, time])\n",
    "\n"
   ]
  },
  {
   "cell_type": "code",
   "execution_count": 108,
   "metadata": {
    "collapsed": false
   },
   "outputs": [
    {
     "data": {
      "text/plain": [
       "[[1, datetime.datetime(2017, 10, 4, 1, 49, 57)],\n",
       " [1, datetime.datetime(2017, 10, 4, 1, 53, 57)],\n",
       " [2, datetime.datetime(2017, 10, 4, 1, 54, 28)],\n",
       " [3, datetime.datetime(2017, 10, 4, 1, 54, 48)],\n",
       " [2, datetime.datetime(2017, 10, 4, 1, 55, 37)],\n",
       " [4, datetime.datetime(2017, 10, 4, 1, 56)],\n",
       " [1, datetime.datetime(2017, 10, 4, 1, 56, 16)],\n",
       " [2, datetime.datetime(2017, 10, 4, 1, 56, 30)]]"
      ]
     },
     "execution_count": 108,
     "metadata": {},
     "output_type": "execute_result"
    }
   ],
   "source": [
    "events"
   ]
  },
  {
   "cell_type": "code",
   "execution_count": 109,
   "metadata": {
    "collapsed": true
   },
   "outputs": [],
   "source": [
    "event_lookup = [\n",
    "    '',\n",
    "    'my_point',\n",
    "    'team_point',\n",
    "    'opponent_point',\n",
    "    'game',\n",
    "]"
   ]
  },
  {
   "cell_type": "code",
   "execution_count": 114,
   "metadata": {
    "collapsed": false
   },
   "outputs": [
    {
     "data": {
      "text/plain": [
       "[{'end_time': datetime.datetime(2017, 10, 4, 1, 56),\n",
       "  'my_point': 2,\n",
       "  'opponent_point': 1,\n",
       "  'team_point': 4},\n",
       " {'end_time': datetime.datetime(2017, 10, 4, 1, 56, 30),\n",
       "  'my_point': 1,\n",
       "  'opponent_point': 0,\n",
       "  'team_point': 2}]"
      ]
     },
     "execution_count": 114,
     "metadata": {},
     "output_type": "execute_result"
    }
   ],
   "source": [
    "games = []\n",
    "\n",
    "base_game = {'my_point': 0, 'team_point': 0, 'opponent_point': 0}\n",
    "game = base_game\n",
    "for event in events:\n",
    "    game['end_time'] = event[1]\n",
    "\n",
    "    event_type = event_lookup[event[0]]\n",
    "    if event_type == 'game':\n",
    "        games.append(game)\n",
    "        game = {'my_point': 0, 'team_point': 0, 'opponent_point': 0}\n",
    "        \n",
    "    elif event_type == 'my_point':\n",
    "        game[event_type] += 1\n",
    "        game['team_point'] += 1\n",
    "    else:\n",
    "        game[event_type] += 1\n",
    "\n",
    "games.append(game)\n",
    "games"
   ]
  },
  {
   "cell_type": "code",
   "execution_count": 115,
   "metadata": {
    "collapsed": true
   },
   "outputs": [],
   "source": [
    "import pandas as pd"
   ]
  },
  {
   "cell_type": "code",
   "execution_count": 116,
   "metadata": {
    "collapsed": false
   },
   "outputs": [
    {
     "data": {
      "text/html": [
       "<div>\n",
       "<table border=\"1\" class=\"dataframe\">\n",
       "  <thead>\n",
       "    <tr style=\"text-align: right;\">\n",
       "      <th></th>\n",
       "      <th>end_time</th>\n",
       "      <th>my_point</th>\n",
       "      <th>opponent_point</th>\n",
       "      <th>team_point</th>\n",
       "    </tr>\n",
       "  </thead>\n",
       "  <tbody>\n",
       "    <tr>\n",
       "      <th>0</th>\n",
       "      <td>2017-10-04 01:56:00</td>\n",
       "      <td>2</td>\n",
       "      <td>1</td>\n",
       "      <td>4</td>\n",
       "    </tr>\n",
       "    <tr>\n",
       "      <th>1</th>\n",
       "      <td>2017-10-04 01:56:30</td>\n",
       "      <td>1</td>\n",
       "      <td>0</td>\n",
       "      <td>2</td>\n",
       "    </tr>\n",
       "  </tbody>\n",
       "</table>\n",
       "</div>"
      ],
      "text/plain": [
       "             end_time  my_point  opponent_point  team_point\n",
       "0 2017-10-04 01:56:00         2               1           4\n",
       "1 2017-10-04 01:56:30         1               0           2"
      ]
     },
     "execution_count": 116,
     "metadata": {},
     "output_type": "execute_result"
    }
   ],
   "source": [
    "pd.DataFrame(games)"
   ]
  },
  {
   "cell_type": "code",
   "execution_count": null,
   "metadata": {
    "collapsed": true
   },
   "outputs": [],
   "source": []
  }
 ],
 "metadata": {
  "kernelspec": {
   "display_name": "Python 3",
   "language": "python",
   "name": "python3"
  },
  "language_info": {
   "codemirror_mode": {
    "name": "ipython",
    "version": 3
   },
   "file_extension": ".py",
   "mimetype": "text/x-python",
   "name": "python",
   "nbconvert_exporter": "python",
   "pygments_lexer": "ipython3",
   "version": "3.6.0"
  }
 },
 "nbformat": 4,
 "nbformat_minor": 2
}
