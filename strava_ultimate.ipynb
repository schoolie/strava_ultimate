{
 "cells": [
  {
   "cell_type": "code",
   "execution_count": 1,
   "metadata": {
    "ExecuteTime": {
     "end_time": "2018-03-12T09:59:49.599707Z",
     "start_time": "2018-03-12T09:59:48.461911Z"
    }
   },
   "outputs": [],
   "source": [
    "import stravalib\n",
    "import logging\n",
    "from xml.dom import minidom\n",
    "import dateutil\n",
    "import numpy as np\n",
    "import pandas as pd\n",
    "\n",
    "import os\n",
    "\n",
    "from datetime import datetime, timedelta, date\n",
    "\n",
    "\n",
    "logger = logging.getLogger()\n",
    "logger.setLevel(logging.ERROR)"
   ]
  },
  {
   "cell_type": "code",
   "execution_count": 2,
   "metadata": {
    "ExecuteTime": {
     "end_time": "2018-03-12T10:00:06.104252Z",
     "start_time": "2018-03-12T10:00:05.401760Z"
    }
   },
   "outputs": [
    {
     "data": {
      "text/html": [
       "<a href=\"https://www.strava.com/oauth/authorize?client_id=19435&redirect_uri=http%3A%2F%2Flocalhost%3A8282%2Fauthorized&approval_prompt=auto&response_type=code&scope=view_private%2Cwrite\">https://www.strava.com/oauth/authorize?client_id=19435&redirect_uri=http%3A%2F%2Flocalhost%3A8282%2Fauthorized&approval_prompt=auto&response_type=code&scope=view_private%2Cwrite</a>"
      ],
      "text/plain": [
       "<IPython.core.display.HTML object>"
      ]
     },
     "metadata": {},
     "output_type": "display_data"
    },
    {
     "name": "stdout",
     "output_type": "stream",
     "text": [
      "athlete name Brian, athlete id 3360678.\n"
     ]
    }
   ],
   "source": [
    "#### Setting up strava API client\n",
    "\n",
    "#Global Variables - put your data in the file 'client.secret' and separate the fields with a comma!\n",
    "client = stravalib.client.Client()\n",
    "access_token = 'e3ccedc91fceef32077fbb31fc44676446d14bdd'\n",
    "\n",
    "client.access_token = access_token\n",
    "athlete = client.get_athlete()\n",
    "\n",
    "## Enable accessing private activities\n",
    "auth_url = client.authorization_url(client_id=19435, redirect_uri='http://localhost:8282/authorized', approval_prompt=u'auto', scope='view_private,write', state=None)\n",
    "from IPython.core.display import display, HTML\n",
    "display(HTML(\"\"\"<a href=\"{}\">{}</a>\"\"\".format(auth_url,auth_url)))\n",
    "\n",
    "code = '6d057263b427852b0489af26e921f8fd25a78852'\n",
    "access_token = client.exchange_code_for_token(client_id=19435, client_secret='45b776d5beceeb34c290b8a56bf9829d6d4ea5d7', code=code)\n",
    "\n",
    "strava_client = stravalib.client.Client(access_token=access_token)\n",
    "athlete = strava_client.get_athlete()\n",
    "print('athlete name %s, athlete id %s.' %(athlete.firstname, athlete.id))"
   ]
  },
  {
   "cell_type": "code",
   "execution_count": 3,
   "metadata": {
    "ExecuteTime": {
     "end_time": "2018-03-12T10:00:12.964050Z",
     "start_time": "2018-03-12T10:00:09.381544Z"
    }
   },
   "outputs": [],
   "source": [
    "## Set up google sheets client, open worksheet\n",
    "import pygsheets\n",
    "\n",
    "gc = pygsheets.authorize(outh_file='client_secret.json', no_cache=True)\n",
    "\n",
    "# Open spreadsheet and then workseet\n",
    "sh = gc.open('Milburn Ultimate Scores')"
   ]
  },
  {
   "cell_type": "code",
   "execution_count": 4,
   "metadata": {
    "ExecuteTime": {
     "end_time": "2018-03-12T10:01:14.816317Z",
     "start_time": "2018-03-12T10:01:14.634189Z"
    },
    "scrolled": false
   },
   "outputs": [
    {
     "data": {
      "text/plain": [
       "datetime.datetime(2018, 3, 13, 0, 0)"
      ]
     },
     "execution_count": 4,
     "metadata": {},
     "output_type": "execute_result"
    }
   ],
   "source": [
    "## Get last entry from Data Spreadsheet\n",
    "\n",
    "dates_recorded = [datetime.strptime(d, '%Y-%m-%d') for d in wks.get_col(1) if d != '' and d != 'Date']\n",
    "lap_start_date = max(dates_recorded) + timedelta(days=1)\n",
    "# lap_start_date = dates_recorded[20]\n",
    "lap_start_date\n",
    "# from datetime import timedelta\n",
    "# lap_start_date = lap_start_date - timedelta(days=2)"
   ]
  },
  {
   "cell_type": "code",
   "execution_count": 5,
   "metadata": {
    "ExecuteTime": {
     "end_time": "2018-03-12T10:01:15.200585Z",
     "start_time": "2018-03-12T10:01:14.849340Z"
    },
    "scrolled": false
   },
   "outputs": [],
   "source": [
    "runs = []\n",
    "for activity in strava_client.get_activities(after=lap_start_date):\n",
    "    if 'ltimate' in activity.name and activity.type == 'Run':\n",
    "        a = strava_client.get_activity(activity.id)\n",
    "        runs.append(a)"
   ]
  },
  {
   "cell_type": "code",
   "execution_count": 6,
   "metadata": {
    "ExecuteTime": {
     "end_time": "2018-03-12T10:01:15.386716Z",
     "start_time": "2018-03-12T10:01:15.368703Z"
    },
    "code_folding": [
     0
    ]
   },
   "outputs": [],
   "source": [
    "def get_strava_description(activity, p=False):\n",
    "    new_activity = strava_client.get_activity(activity.id)\n",
    "    try:\n",
    "        scores, color = new_activity.description.split(' ')\n",
    "        try:\n",
    "            team_score, opponent_score = scores.split('-')\n",
    "        except ValueError:\n",
    "            team_score, opponent_score, color = None, None, None     \n",
    "    except ValueError:\n",
    "        scores = None\n",
    "        team_score, opponent_score, color = None, None, None           \n",
    "\n",
    "    try:\n",
    "        color = color.lower()\n",
    "    except AttributeError:\n",
    "        color = None\n",
    "        \n",
    "    if p:\n",
    "        print(new_activity.start_date)\n",
    "        print(new_activity.description)\n",
    "        print(team_score, opponent_score, color)\n",
    "        \n",
    "    return team_score, opponent_score, color"
   ]
  },
  {
   "cell_type": "code",
   "execution_count": 7,
   "metadata": {
    "ExecuteTime": {
     "end_time": "2018-03-12T10:01:16.024162Z",
     "start_time": "2018-03-12T10:01:15.956114Z"
    },
    "code_folding": []
   },
   "outputs": [],
   "source": [
    "## Functions\n",
    "def extract_events(run):\n",
    "    lap_nums = []\n",
    "    start_times = []\n",
    "    elapsed_times = []\n",
    "    for l in run.laps:\n",
    "        lap_nums.append(int(l.name.split(' ')[-1]))\n",
    "        start_times.append(l.start_date_local)\n",
    "        elapsed_times.append(l.elapsed_time)\n",
    "\n",
    "    lap_nums = np.array(lap_nums)\n",
    "    \n",
    "    events = []\n",
    "    for n, s, e in zip(np.diff(lap_nums), start_times, elapsed_times):\n",
    "        events.append([n, s, e])\n",
    "    \n",
    "    return (events)\n",
    "        \n",
    "def process_events(events):\n",
    "    \n",
    "    event_lookup = [\n",
    "        '',\n",
    "        'team_point',\n",
    "        'opponent_point',\n",
    "        'my_point',\n",
    "        'game',\n",
    "        'game',\n",
    "        'game'\n",
    "    ]\n",
    "    \n",
    "    games = []\n",
    "    game_num = 0\n",
    "    added = False\n",
    "\n",
    "    base_game = {'my_point': 0, 'team_point': 0, 'opponent_point': 0, 'game_num': 0, 'events':[], 'start_time':None, 'end_time':None}\n",
    "    game = base_game\n",
    "\n",
    "    for event in events:\n",
    "        if game['start_time'] is None:\n",
    "            game['start_time'] = event[1]\n",
    "\n",
    "        game['end_time'] = event[1] + event[2]\n",
    "\n",
    "        event_type = event_lookup[event[0]]\n",
    "        game['events'].append((event_type, event[1], event[2]))\n",
    "\n",
    "\n",
    "        if event_type == 'game':\n",
    "            games.append(game)\n",
    "            game_num += 1\n",
    "            game = {'my_point': 0, 'team_point': 0, 'opponent_point': 0, 'game_num': game_num, 'events':[], 'start_time':None, 'end_time':None}\n",
    "            added = True\n",
    "\n",
    "        elif event_type == 'my_point':\n",
    "            game[event_type] += 1\n",
    "            game['team_point'] += 1\n",
    "            added = False\n",
    "\n",
    "        else:\n",
    "            game[event_type] += 1\n",
    "            added = False\n",
    "\n",
    "\n",
    "    if not added:\n",
    "        games.append(game)\n",
    "    \n",
    "    \n",
    "    ## Assign game winners\n",
    "    for game in games:\n",
    "        if game['team_point'] > game['opponent_point']:\n",
    "            game['win'] = True\n",
    "        else:\n",
    "            game['win'] = False\n",
    "            \n",
    "    return games"
   ]
  },
  {
   "cell_type": "code",
   "execution_count": 8,
   "metadata": {
    "ExecuteTime": {
     "end_time": "2018-03-12T10:00:13.711573Z",
     "start_time": "2018-03-12T10:00:13.683554Z"
    }
   },
   "outputs": [
    {
     "name": "stdout",
     "output_type": "stream",
     "text": [
      "2018-03-14 17:15:02+00:00\n",
      "2-2 colors\n",
      "2 2 colors\n",
      "[1, datetime.datetime(2018, 3, 14, 12, 15, 2), datetime.timedelta(0, 52)]\n",
      "[2, datetime.datetime(2018, 3, 14, 12, 15, 58), datetime.timedelta(0, 68)]\n",
      "[1, datetime.datetime(2018, 3, 14, 12, 17, 5), datetime.timedelta(0, 104)]\n",
      "[2, datetime.datetime(2018, 3, 14, 12, 18, 50), datetime.timedelta(0, 77)]\n",
      "[2, datetime.datetime(2018, 3, 14, 12, 20, 9), datetime.timedelta(0, 127)]\n",
      "[1, datetime.datetime(2018, 3, 14, 12, 22, 20), datetime.timedelta(0, 75)]\n",
      "[1, datetime.datetime(2018, 3, 14, 12, 23, 36), datetime.timedelta(0, 160)]\n",
      "[2, datetime.datetime(2018, 3, 14, 12, 26, 15), datetime.timedelta(0, 73)]\n",
      "[1, datetime.datetime(2018, 3, 14, 12, 27, 33), datetime.timedelta(0, 110)]\n",
      "[2, datetime.datetime(2018, 3, 14, 12, 29, 25), datetime.timedelta(0, 110)]\n",
      "[3, datetime.datetime(2018, 3, 14, 12, 31, 14), datetime.timedelta(0, 182)]\n",
      "[2, datetime.datetime(2018, 3, 14, 12, 34, 19), datetime.timedelta(0, 124)]\n",
      "[2, datetime.datetime(2018, 3, 14, 12, 36, 24), datetime.timedelta(0, 68)]\n",
      "[1, datetime.datetime(2018, 3, 14, 12, 37, 35), datetime.timedelta(0, 107)]\n",
      "[1, datetime.datetime(2018, 3, 14, 12, 39, 18), datetime.timedelta(0, 85)]\n",
      "[2, datetime.datetime(2018, 3, 14, 12, 41), datetime.timedelta(0, 60)]\n",
      "[2, datetime.datetime(2018, 3, 14, 12, 42, 2), datetime.timedelta(0, 151)]\n",
      "[4, datetime.datetime(2018, 3, 14, 12, 44, 19), datetime.timedelta(0, 34)]\n",
      "[2, datetime.datetime(2018, 3, 14, 12, 45), datetime.timedelta(0, 167)]\n",
      "[1, datetime.datetime(2018, 3, 14, 12, 47, 49), datetime.timedelta(0, 81)]\n",
      "[2, datetime.datetime(2018, 3, 14, 12, 49, 9), datetime.timedelta(0, 139)]\n",
      "[2, datetime.datetime(2018, 3, 14, 12, 51, 30), datetime.timedelta(0, 92)]\n",
      "[2, datetime.datetime(2018, 3, 14, 12, 53), datetime.timedelta(0, 80)]\n",
      "[2, datetime.datetime(2018, 3, 14, 12, 54, 21), datetime.timedelta(0, 78)]\n",
      "[4, datetime.datetime(2018, 3, 14, 12, 55, 41), datetime.timedelta(0, 18)]\n",
      "[1, datetime.datetime(2018, 3, 14, 12, 56, 5), datetime.timedelta(0, 217)]\n",
      "[1, datetime.datetime(2018, 3, 14, 12, 59, 41), datetime.timedelta(0, 70)]\n",
      "[1, datetime.datetime(2018, 3, 14, 13, 0, 52), datetime.timedelta(0, 183)]\n"
     ]
    }
   ],
   "source": [
    "games = []\n",
    "for run in runs:\n",
    "    team_wins, opponent_wins, color = get_strava_description(run, p=True)\n",
    "    \n",
    "    events = extract_events(run)\n",
    "    \n",
    "    for e in events:\n",
    "        print(e)\n",
    "    current_games = process_events(events)\n",
    "    \n",
    "    for g in current_games:\n",
    "        g['my_color'] = color\n",
    "        g['team_wins'] = team_wins\n",
    "        g['opponent_wins'] = opponent_wins\n",
    "        \n",
    "\n",
    "    games = games + current_games\n",
    "    "
   ]
  },
  {
   "cell_type": "code",
   "execution_count": 9,
   "metadata": {},
   "outputs": [],
   "source": [
    "point_df = pd.DataFrame(events, columns=['count', 'start_time', 'elapsed_time'])\n",
    "point_df['start_time'] = point_df['start_time'].apply(lambda x: x.strftime('%Y-%m-%d %H:%M:%S'))\n",
    "point_df['elapsed_time'] = point_df['elapsed_time'].apply(lambda x: x.seconds)"
   ]
  },
  {
   "cell_type": "code",
   "execution_count": 10,
   "metadata": {},
   "outputs": [],
   "source": [
    "data = point_df.as_matrix().tolist()\n",
    "wks = sh.worksheet_by_title('raw_points')\n",
    "wks.insert_rows(2, values=data, number=len(data))"
   ]
  },
  {
   "cell_type": "code",
   "execution_count": 11,
   "metadata": {
    "ExecuteTime": {
     "end_time": "2018-03-12T10:00:14.897403Z",
     "start_time": "2018-03-12T10:00:14.868382Z"
    }
   },
   "outputs": [],
   "source": [
    "df = pd.DataFrame(games).dropna()"
   ]
  },
  {
   "cell_type": "code",
   "execution_count": 12,
   "metadata": {
    "ExecuteTime": {
     "end_time": "2018-03-12T10:00:15.418767Z",
     "start_time": "2018-03-12T10:00:15.151581Z"
    }
   },
   "outputs": [
    {
     "data": {
      "text/html": [
       "<div>\n",
       "<style scoped>\n",
       "    .dataframe tbody tr th:only-of-type {\n",
       "        vertical-align: middle;\n",
       "    }\n",
       "\n",
       "    .dataframe tbody tr th {\n",
       "        vertical-align: top;\n",
       "    }\n",
       "\n",
       "    .dataframe thead th {\n",
       "        text-align: right;\n",
       "    }\n",
       "</style>\n",
       "<table border=\"1\" class=\"dataframe\">\n",
       "  <thead>\n",
       "    <tr style=\"text-align: right;\">\n",
       "      <th></th>\n",
       "      <th></th>\n",
       "      <th>end_time</th>\n",
       "      <th>events</th>\n",
       "      <th>game_num</th>\n",
       "      <th>my_color</th>\n",
       "      <th>my_point</th>\n",
       "      <th>opponent_point</th>\n",
       "      <th>opponent_wins</th>\n",
       "      <th>start_time</th>\n",
       "      <th>team_point</th>\n",
       "      <th>team_wins</th>\n",
       "      <th>win</th>\n",
       "      <th>date</th>\n",
       "    </tr>\n",
       "    <tr>\n",
       "      <th>date</th>\n",
       "      <th>game_num</th>\n",
       "      <th></th>\n",
       "      <th></th>\n",
       "      <th></th>\n",
       "      <th></th>\n",
       "      <th></th>\n",
       "      <th></th>\n",
       "      <th></th>\n",
       "      <th></th>\n",
       "      <th></th>\n",
       "      <th></th>\n",
       "      <th></th>\n",
       "      <th></th>\n",
       "    </tr>\n",
       "  </thead>\n",
       "  <tbody>\n",
       "    <tr>\n",
       "      <th rowspan=\"3\" valign=\"top\">2018-03-14</th>\n",
       "      <th>0</th>\n",
       "      <td>2018-03-14 12:44:53</td>\n",
       "      <td>[(team_point, 2018-03-14 12:15:02, 0:00:52), (...</td>\n",
       "      <td>0</td>\n",
       "      <td>colors</td>\n",
       "      <td>1</td>\n",
       "      <td>9</td>\n",
       "      <td>2</td>\n",
       "      <td>2018-03-14 12:15:02</td>\n",
       "      <td>8</td>\n",
       "      <td>2</td>\n",
       "      <td>False</td>\n",
       "      <td>2018-03-14</td>\n",
       "    </tr>\n",
       "    <tr>\n",
       "      <th>1</th>\n",
       "      <td>2018-03-14 12:55:59</td>\n",
       "      <td>[(opponent_point, 2018-03-14 12:45:00, 0:02:47...</td>\n",
       "      <td>1</td>\n",
       "      <td>colors</td>\n",
       "      <td>0</td>\n",
       "      <td>5</td>\n",
       "      <td>2</td>\n",
       "      <td>2018-03-14 12:45:00</td>\n",
       "      <td>1</td>\n",
       "      <td>2</td>\n",
       "      <td>False</td>\n",
       "      <td>2018-03-14</td>\n",
       "    </tr>\n",
       "    <tr>\n",
       "      <th>2</th>\n",
       "      <td>2018-03-14 13:03:55</td>\n",
       "      <td>[(team_point, 2018-03-14 12:56:05, 0:03:37), (...</td>\n",
       "      <td>2</td>\n",
       "      <td>colors</td>\n",
       "      <td>0</td>\n",
       "      <td>0</td>\n",
       "      <td>2</td>\n",
       "      <td>2018-03-14 12:56:05</td>\n",
       "      <td>3</td>\n",
       "      <td>2</td>\n",
       "      <td>True</td>\n",
       "      <td>2018-03-14</td>\n",
       "    </tr>\n",
       "  </tbody>\n",
       "</table>\n",
       "</div>"
      ],
      "text/plain": [
       "                               end_time  \\\n",
       "date       game_num                       \n",
       "2018-03-14 0        2018-03-14 12:44:53   \n",
       "           1        2018-03-14 12:55:59   \n",
       "           2        2018-03-14 13:03:55   \n",
       "\n",
       "                                                                events  \\\n",
       "date       game_num                                                      \n",
       "2018-03-14 0         [(team_point, 2018-03-14 12:15:02, 0:00:52), (...   \n",
       "           1         [(opponent_point, 2018-03-14 12:45:00, 0:02:47...   \n",
       "           2         [(team_point, 2018-03-14 12:56:05, 0:03:37), (...   \n",
       "\n",
       "                     game_num my_color  my_point  opponent_point  \\\n",
       "date       game_num                                                \n",
       "2018-03-14 0                0   colors         1               9   \n",
       "           1                1   colors         0               5   \n",
       "           2                2   colors         0               0   \n",
       "\n",
       "                    opponent_wins          start_time  team_point team_wins  \\\n",
       "date       game_num                                                           \n",
       "2018-03-14 0                    2 2018-03-14 12:15:02           8         2   \n",
       "           1                    2 2018-03-14 12:45:00           1         2   \n",
       "           2                    2 2018-03-14 12:56:05           3         2   \n",
       "\n",
       "                       win        date  \n",
       "date       game_num                     \n",
       "2018-03-14 0         False  2018-03-14  \n",
       "           1         False  2018-03-14  \n",
       "           2          True  2018-03-14  "
      ]
     },
     "execution_count": 12,
     "metadata": {},
     "output_type": "execute_result"
    }
   ],
   "source": [
    "df['date'] = df.end_time.apply(lambda x: date(x.year, x.month, x.day))\n",
    "\n",
    "df = df.set_index(['date', 'game_num'], drop=False)\n",
    "df"
   ]
  },
  {
   "cell_type": "code",
   "execution_count": 13,
   "metadata": {
    "ExecuteTime": {
     "end_time": "2018-03-09T14:33:21.207020Z",
     "start_time": "2018-03-09T14:33:21.204018Z"
    }
   },
   "outputs": [],
   "source": [
    "pdf = df"
   ]
  },
  {
   "cell_type": "code",
   "execution_count": 14,
   "metadata": {
    "ExecuteTime": {
     "end_time": "2018-03-09T14:33:21.245047Z",
     "start_time": "2018-03-09T14:33:21.239043Z"
    }
   },
   "outputs": [],
   "source": [
    "pdf['white_wins'] = None\n",
    "pdf['color_wins'] = None\n",
    "pdf['white_point'] = None\n",
    "pdf['color_point'] = None\n",
    "pdf['game_winner'] = None"
   ]
  },
  {
   "cell_type": "code",
   "execution_count": 15,
   "metadata": {
    "ExecuteTime": {
     "end_time": "2018-03-09T14:33:21.319099Z",
     "start_time": "2018-03-09T14:33:21.281072Z"
    },
    "code_folding": []
   },
   "outputs": [],
   "source": [
    "for (date, game_num), row in pdf.iterrows():      \n",
    "    \n",
    "    if row.my_color == 'white':\n",
    "        if row.win:\n",
    "            pdf.loc[(date, game_num), 'game_winner'] = 'White'\n",
    "        else:\n",
    "            pdf.loc[(date, game_num), 'game_winner'] = 'Color'\n",
    "        pdf.loc[(date, game_num), 'white_wins'] = pdf.loc[(date, game_num), 'team_wins']            \n",
    "        pdf.loc[(date, game_num), 'color_wins'] = pdf.loc[(date, game_num), 'opponent_wins']            \n",
    "        pdf.loc[(date, game_num), 'white_point'] = pdf.loc[(date, game_num), 'team_point']                \n",
    "        pdf.loc[(date, game_num), 'color_point'] = pdf.loc[(date, game_num), 'opponent_point']\n",
    "\n",
    "    else:\n",
    "        if not row.win:\n",
    "            pdf.loc[(date, game_num), 'game_winner'] = 'White'\n",
    "        else:\n",
    "            pdf.loc[(date, game_num), 'game_winner'] = 'Color'\n",
    "        pdf.loc[(date, game_num), 'color_wins'] = pdf.loc[(date, game_num), 'team_wins']            \n",
    "        pdf.loc[(date, game_num), 'white_wins'] = pdf.loc[(date, game_num), 'opponent_wins']    \n",
    "        pdf.loc[(date, game_num), 'color_point'] = pdf.loc[(date, game_num), 'team_point']                \n",
    "        pdf.loc[(date, game_num), 'white_point'] = pdf.loc[(date, game_num), 'opponent_point']\n"
   ]
  },
  {
   "cell_type": "code",
   "execution_count": 16,
   "metadata": {
    "ExecuteTime": {
     "end_time": "2018-03-09T14:33:21.386145Z",
     "start_time": "2018-03-09T14:33:21.355124Z"
    }
   },
   "outputs": [
    {
     "data": {
      "text/html": [
       "<div>\n",
       "<style scoped>\n",
       "    .dataframe tbody tr th:only-of-type {\n",
       "        vertical-align: middle;\n",
       "    }\n",
       "\n",
       "    .dataframe tbody tr th {\n",
       "        vertical-align: top;\n",
       "    }\n",
       "\n",
       "    .dataframe thead th {\n",
       "        text-align: right;\n",
       "    }\n",
       "</style>\n",
       "<table border=\"1\" class=\"dataframe\">\n",
       "  <thead>\n",
       "    <tr style=\"text-align: right;\">\n",
       "      <th></th>\n",
       "      <th></th>\n",
       "      <th>end_time</th>\n",
       "      <th>events</th>\n",
       "      <th>game_num</th>\n",
       "      <th>my_color</th>\n",
       "      <th>my_point</th>\n",
       "      <th>opponent_point</th>\n",
       "      <th>opponent_wins</th>\n",
       "      <th>start_time</th>\n",
       "      <th>team_point</th>\n",
       "      <th>team_wins</th>\n",
       "      <th>win</th>\n",
       "      <th>date</th>\n",
       "      <th>white_wins</th>\n",
       "      <th>color_wins</th>\n",
       "      <th>white_point</th>\n",
       "      <th>color_point</th>\n",
       "      <th>game_winner</th>\n",
       "    </tr>\n",
       "    <tr>\n",
       "      <th>date</th>\n",
       "      <th>game_num</th>\n",
       "      <th></th>\n",
       "      <th></th>\n",
       "      <th></th>\n",
       "      <th></th>\n",
       "      <th></th>\n",
       "      <th></th>\n",
       "      <th></th>\n",
       "      <th></th>\n",
       "      <th></th>\n",
       "      <th></th>\n",
       "      <th></th>\n",
       "      <th></th>\n",
       "      <th></th>\n",
       "      <th></th>\n",
       "      <th></th>\n",
       "      <th></th>\n",
       "      <th></th>\n",
       "    </tr>\n",
       "  </thead>\n",
       "  <tbody>\n",
       "    <tr>\n",
       "      <th rowspan=\"3\" valign=\"top\">2018-03-14</th>\n",
       "      <th>0</th>\n",
       "      <td>2018-03-14 12:44:53</td>\n",
       "      <td>[(team_point, 2018-03-14 12:15:02, 0:00:52), (...</td>\n",
       "      <td>0</td>\n",
       "      <td>colors</td>\n",
       "      <td>1</td>\n",
       "      <td>9</td>\n",
       "      <td>2</td>\n",
       "      <td>2018-03-14 12:15:02</td>\n",
       "      <td>8</td>\n",
       "      <td>2</td>\n",
       "      <td>False</td>\n",
       "      <td>2018-03-14</td>\n",
       "      <td>2</td>\n",
       "      <td>2</td>\n",
       "      <td>9</td>\n",
       "      <td>8</td>\n",
       "      <td>White</td>\n",
       "    </tr>\n",
       "    <tr>\n",
       "      <th>1</th>\n",
       "      <td>2018-03-14 12:55:59</td>\n",
       "      <td>[(opponent_point, 2018-03-14 12:45:00, 0:02:47...</td>\n",
       "      <td>1</td>\n",
       "      <td>colors</td>\n",
       "      <td>0</td>\n",
       "      <td>5</td>\n",
       "      <td>2</td>\n",
       "      <td>2018-03-14 12:45:00</td>\n",
       "      <td>1</td>\n",
       "      <td>2</td>\n",
       "      <td>False</td>\n",
       "      <td>2018-03-14</td>\n",
       "      <td>2</td>\n",
       "      <td>2</td>\n",
       "      <td>5</td>\n",
       "      <td>1</td>\n",
       "      <td>White</td>\n",
       "    </tr>\n",
       "    <tr>\n",
       "      <th>2</th>\n",
       "      <td>2018-03-14 13:03:55</td>\n",
       "      <td>[(team_point, 2018-03-14 12:56:05, 0:03:37), (...</td>\n",
       "      <td>2</td>\n",
       "      <td>colors</td>\n",
       "      <td>0</td>\n",
       "      <td>0</td>\n",
       "      <td>2</td>\n",
       "      <td>2018-03-14 12:56:05</td>\n",
       "      <td>3</td>\n",
       "      <td>2</td>\n",
       "      <td>True</td>\n",
       "      <td>2018-03-14</td>\n",
       "      <td>2</td>\n",
       "      <td>2</td>\n",
       "      <td>0</td>\n",
       "      <td>3</td>\n",
       "      <td>Color</td>\n",
       "    </tr>\n",
       "  </tbody>\n",
       "</table>\n",
       "</div>"
      ],
      "text/plain": [
       "                               end_time  \\\n",
       "date       game_num                       \n",
       "2018-03-14 0        2018-03-14 12:44:53   \n",
       "           1        2018-03-14 12:55:59   \n",
       "           2        2018-03-14 13:03:55   \n",
       "\n",
       "                                                                events  \\\n",
       "date       game_num                                                      \n",
       "2018-03-14 0         [(team_point, 2018-03-14 12:15:02, 0:00:52), (...   \n",
       "           1         [(opponent_point, 2018-03-14 12:45:00, 0:02:47...   \n",
       "           2         [(team_point, 2018-03-14 12:56:05, 0:03:37), (...   \n",
       "\n",
       "                     game_num my_color  my_point  opponent_point  \\\n",
       "date       game_num                                                \n",
       "2018-03-14 0                0   colors         1               9   \n",
       "           1                1   colors         0               5   \n",
       "           2                2   colors         0               0   \n",
       "\n",
       "                    opponent_wins          start_time  team_point team_wins  \\\n",
       "date       game_num                                                           \n",
       "2018-03-14 0                    2 2018-03-14 12:15:02           8         2   \n",
       "           1                    2 2018-03-14 12:45:00           1         2   \n",
       "           2                    2 2018-03-14 12:56:05           3         2   \n",
       "\n",
       "                       win        date white_wins color_wins  white_point  \\\n",
       "date       game_num                                                         \n",
       "2018-03-14 0         False  2018-03-14          2          2            9   \n",
       "           1         False  2018-03-14          2          2            5   \n",
       "           2          True  2018-03-14          2          2            0   \n",
       "\n",
       "                     color_point game_winner  \n",
       "date       game_num                           \n",
       "2018-03-14 0                   8       White  \n",
       "           1                   1       White  \n",
       "           2                   3       Color  "
      ]
     },
     "execution_count": 16,
     "metadata": {},
     "output_type": "execute_result"
    }
   ],
   "source": [
    "pdf"
   ]
  },
  {
   "cell_type": "code",
   "execution_count": 17,
   "metadata": {
    "ExecuteTime": {
     "end_time": "2018-03-09T14:33:21.428175Z",
     "start_time": "2018-03-09T14:33:21.425173Z"
    }
   },
   "outputs": [],
   "source": [
    "def merge_two_dicts(x, y):\n",
    "    \"\"\"Given two dicts, merge them into a new dict as a shallow copy.\"\"\"\n",
    "    z = x.copy()\n",
    "    z.update(y)\n",
    "    return z"
   ]
  },
  {
   "cell_type": "code",
   "execution_count": 18,
   "metadata": {
    "ExecuteTime": {
     "end_time": "2018-03-09T14:33:21.475208Z",
     "start_time": "2018-03-09T14:33:21.464200Z"
    }
   },
   "outputs": [],
   "source": [
    "scores = []\n",
    "for (date, game_num), game in pdf.iterrows():\n",
    "    base_dict = dict(date=date, game_num=game_num, white_wins=game.white_wins, color_wins=game.color_wins, game_winner=game.game_winner)    \n",
    "    scores.append(merge_two_dicts(base_dict, dict(team='white', team_score=game.white_point, my_score=game.my_point if game.my_color == 'white' else None)))\n",
    "    scores.append(merge_two_dicts(base_dict, dict(team='color', team_score=game.color_point, my_score=game.my_point if game.my_color == 'colors' else None)))\n",
    "\n",
    "score_df = pd.DataFrame(scores).set_index(['date', 'game_num', 'team'], drop=False)"
   ]
  },
  {
   "cell_type": "code",
   "execution_count": 19,
   "metadata": {
    "ExecuteTime": {
     "end_time": "2018-03-09T14:33:21.528245Z",
     "start_time": "2018-03-09T14:33:21.521240Z"
    }
   },
   "outputs": [],
   "source": [
    "out_df = score_df[['date', 'white_wins', 'color_wins', 'game_num', 'game_winner', 'team', 'team_score', 'my_score']].sort_index(ascending=False, level=0).fillna(value='')\n",
    "out_df['date'] = out_df['date'].apply(lambda x: x.strftime('%Y-%m-%d'))"
   ]
  },
  {
   "cell_type": "code",
   "execution_count": 20,
   "metadata": {
    "ExecuteTime": {
     "end_time": "2018-03-09T14:33:21.594291Z",
     "start_time": "2018-03-09T14:33:21.578280Z"
    }
   },
   "outputs": [
    {
     "data": {
      "text/html": [
       "<div>\n",
       "<style scoped>\n",
       "    .dataframe tbody tr th:only-of-type {\n",
       "        vertical-align: middle;\n",
       "    }\n",
       "\n",
       "    .dataframe tbody tr th {\n",
       "        vertical-align: top;\n",
       "    }\n",
       "\n",
       "    .dataframe thead th {\n",
       "        text-align: right;\n",
       "    }\n",
       "</style>\n",
       "<table border=\"1\" class=\"dataframe\">\n",
       "  <thead>\n",
       "    <tr style=\"text-align: right;\">\n",
       "      <th></th>\n",
       "      <th></th>\n",
       "      <th></th>\n",
       "      <th>date</th>\n",
       "      <th>white_wins</th>\n",
       "      <th>color_wins</th>\n",
       "      <th>game_num</th>\n",
       "      <th>game_winner</th>\n",
       "      <th>team</th>\n",
       "      <th>team_score</th>\n",
       "      <th>my_score</th>\n",
       "    </tr>\n",
       "    <tr>\n",
       "      <th>date</th>\n",
       "      <th>game_num</th>\n",
       "      <th>team</th>\n",
       "      <th></th>\n",
       "      <th></th>\n",
       "      <th></th>\n",
       "      <th></th>\n",
       "      <th></th>\n",
       "      <th></th>\n",
       "      <th></th>\n",
       "      <th></th>\n",
       "    </tr>\n",
       "  </thead>\n",
       "  <tbody>\n",
       "    <tr>\n",
       "      <th rowspan=\"6\" valign=\"top\">2018-03-14</th>\n",
       "      <th rowspan=\"2\" valign=\"top\">2</th>\n",
       "      <th>white</th>\n",
       "      <td>2018-03-14</td>\n",
       "      <td>2</td>\n",
       "      <td>2</td>\n",
       "      <td>2</td>\n",
       "      <td>Color</td>\n",
       "      <td>white</td>\n",
       "      <td>0</td>\n",
       "      <td></td>\n",
       "    </tr>\n",
       "    <tr>\n",
       "      <th>color</th>\n",
       "      <td>2018-03-14</td>\n",
       "      <td>2</td>\n",
       "      <td>2</td>\n",
       "      <td>2</td>\n",
       "      <td>Color</td>\n",
       "      <td>color</td>\n",
       "      <td>3</td>\n",
       "      <td>0</td>\n",
       "    </tr>\n",
       "    <tr>\n",
       "      <th rowspan=\"2\" valign=\"top\">1</th>\n",
       "      <th>white</th>\n",
       "      <td>2018-03-14</td>\n",
       "      <td>2</td>\n",
       "      <td>2</td>\n",
       "      <td>1</td>\n",
       "      <td>White</td>\n",
       "      <td>white</td>\n",
       "      <td>5</td>\n",
       "      <td></td>\n",
       "    </tr>\n",
       "    <tr>\n",
       "      <th>color</th>\n",
       "      <td>2018-03-14</td>\n",
       "      <td>2</td>\n",
       "      <td>2</td>\n",
       "      <td>1</td>\n",
       "      <td>White</td>\n",
       "      <td>color</td>\n",
       "      <td>1</td>\n",
       "      <td>0</td>\n",
       "    </tr>\n",
       "    <tr>\n",
       "      <th rowspan=\"2\" valign=\"top\">0</th>\n",
       "      <th>white</th>\n",
       "      <td>2018-03-14</td>\n",
       "      <td>2</td>\n",
       "      <td>2</td>\n",
       "      <td>0</td>\n",
       "      <td>White</td>\n",
       "      <td>white</td>\n",
       "      <td>9</td>\n",
       "      <td></td>\n",
       "    </tr>\n",
       "    <tr>\n",
       "      <th>color</th>\n",
       "      <td>2018-03-14</td>\n",
       "      <td>2</td>\n",
       "      <td>2</td>\n",
       "      <td>0</td>\n",
       "      <td>White</td>\n",
       "      <td>color</td>\n",
       "      <td>8</td>\n",
       "      <td>1</td>\n",
       "    </tr>\n",
       "  </tbody>\n",
       "</table>\n",
       "</div>"
      ],
      "text/plain": [
       "                                 date white_wins color_wins  game_num  \\\n",
       "date       game_num team                                                \n",
       "2018-03-14 2        white  2018-03-14          2          2         2   \n",
       "                    color  2018-03-14          2          2         2   \n",
       "           1        white  2018-03-14          2          2         1   \n",
       "                    color  2018-03-14          2          2         1   \n",
       "           0        white  2018-03-14          2          2         0   \n",
       "                    color  2018-03-14          2          2         0   \n",
       "\n",
       "                          game_winner   team  team_score my_score  \n",
       "date       game_num team                                           \n",
       "2018-03-14 2        white       Color  white           0           \n",
       "                    color       Color  color           3        0  \n",
       "           1        white       White  white           5           \n",
       "                    color       White  color           1        0  \n",
       "           0        white       White  white           9           \n",
       "                    color       White  color           8        1  "
      ]
     },
     "execution_count": 20,
     "metadata": {},
     "output_type": "execute_result"
    }
   ],
   "source": [
    "out_df"
   ]
  },
  {
   "cell_type": "code",
   "execution_count": 22,
   "metadata": {
    "ExecuteTime": {
     "end_time": "2018-03-09T14:33:22.624011Z",
     "start_time": "2018-03-09T14:33:21.666341Z"
    }
   },
   "outputs": [],
   "source": [
    "data = out_df.as_matrix().tolist()\n",
    "wks = sh.worksheet_by_title('game_summaries')\n",
    "wks.insert_rows(2, values=data, number=len(data))"
   ]
  },
  {
   "cell_type": "code",
   "execution_count": null,
   "metadata": {
    "collapsed": true
   },
   "outputs": [],
   "source": []
  },
  {
   "cell_type": "code",
   "execution_count": null,
   "metadata": {
    "collapsed": true
   },
   "outputs": [],
   "source": []
  }
 ],
 "metadata": {
  "git": {
   "suppress_outputs": true
  },
  "hide_input": false,
  "kernelspec": {
   "display_name": "Python 3",
   "language": "python",
   "name": "python3"
  },
  "language_info": {
   "codemirror_mode": {
    "name": "ipython",
    "version": 3
   },
   "file_extension": ".py",
   "mimetype": "text/x-python",
   "name": "python",
   "nbconvert_exporter": "python",
   "pygments_lexer": "ipython3",
   "version": "3.6.4"
  },
  "varInspector": {
   "cols": {
    "lenName": 16,
    "lenType": 16,
    "lenVar": 40
   },
   "kernels_config": {
    "python": {
     "delete_cmd_postfix": "",
     "delete_cmd_prefix": "del ",
     "library": "var_list.py",
     "varRefreshCmd": "print(var_dic_list())"
    },
    "r": {
     "delete_cmd_postfix": ") ",
     "delete_cmd_prefix": "rm(",
     "library": "var_list.r",
     "varRefreshCmd": "cat(var_dic_list()) "
    }
   },
   "types_to_exclude": [
    "module",
    "function",
    "builtin_function_or_method",
    "instance",
    "_Feature"
   ],
   "window_display": false
  }
 },
 "nbformat": 4,
 "nbformat_minor": 2
}
