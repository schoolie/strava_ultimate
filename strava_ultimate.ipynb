{
 "cells": [
  {
   "cell_type": "code",
   "execution_count": 1,
   "metadata": {
    "ExecuteTime": {
     "end_time": "2018-03-12T09:59:49.599707Z",
     "start_time": "2018-03-12T09:59:48.461911Z"
    },
    "collapsed": true
   },
   "outputs": [],
   "source": [
    "import stravalib\n",
    "import logging\n",
    "from xml.dom import minidom\n",
    "import dateutil\n",
    "import numpy as np\n",
    "import pandas as pd\n",
    "\n",
    "import os\n",
    "\n",
    "from datetime import datetime, timedelta, date\n",
    "\n",
    "\n",
    "logger = logging.getLogger()\n",
    "logger.setLevel(logging.ERROR)"
   ]
  },
  {
   "cell_type": "code",
   "execution_count": 3,
   "metadata": {
    "ExecuteTime": {
     "end_time": "2018-03-12T10:00:06.104252Z",
     "start_time": "2018-03-12T10:00:05.401760Z"
    }
   },
   "outputs": [
    {
     "data": {
      "text/html": [
       "<a href=\"https://www.strava.com/oauth/authorize?client_id=19435&redirect_uri=http%3A%2F%2Flocalhost%3A8282%2Fauthorized&approval_prompt=auto&response_type=code&scope=view_private%2Cwrite\">https://www.strava.com/oauth/authorize?client_id=19435&redirect_uri=http%3A%2F%2Flocalhost%3A8282%2Fauthorized&approval_prompt=auto&response_type=code&scope=view_private%2Cwrite</a>"
      ],
      "text/plain": [
       "<IPython.core.display.HTML object>"
      ]
     },
     "metadata": {},
     "output_type": "display_data"
    },
    {
     "name": "stdout",
     "output_type": "stream",
     "text": [
      "athlete name Brian, athlete id 3360678, dob: None.\n"
     ]
    }
   ],
   "source": [
    "#### Setting up strava API client\n",
    "\n",
    "#Global Variables - put your data in the file 'client.secret' and separate the fields with a comma!\n",
    "client = stravalib.client.Client()\n",
    "access_token = 'e3ccedc91fceef32077fbb31fc44676446d14bdd'\n",
    "\n",
    "client.access_token = access_token\n",
    "athlete = client.get_athlete()\n",
    "\n",
    "## Enable accessing private activities\n",
    "auth_url = client.authorization_url(client_id=19435, redirect_uri='http://localhost:8282/authorized', approval_prompt=u'auto', scope='view_private,write', state=None)\n",
    "from IPython.core.display import display, HTML\n",
    "display(HTML(\"\"\"<a href=\"{}\">{}</a>\"\"\".format(auth_url,auth_url)))\n",
    "\n",
    "code = '6d057263b427852b0489af26e921f8fd25a78852'\n",
    "access_token = client.exchange_code_for_token(client_id=19435, client_secret='45b776d5beceeb34c290b8a56bf9829d6d4ea5d7', code=code)\n",
    "\n",
    "strava_client = stravalib.client.Client(access_token=access_token)\n",
    "athlete = strava_client.get_athlete()\n",
    "print('athlete name %s, athlete id %s, dob: %s.' %(athlete.firstname, athlete.id, athlete.dateofbirth))"
   ]
  },
  {
   "cell_type": "code",
   "execution_count": 4,
   "metadata": {
    "ExecuteTime": {
     "end_time": "2018-03-12T10:00:12.964050Z",
     "start_time": "2018-03-12T10:00:09.381544Z"
    },
    "collapsed": true
   },
   "outputs": [],
   "source": [
    "## Set up google sheets client, open worksheet\n",
    "import pygsheets\n",
    "\n",
    "gc = pygsheets.authorize(outh_file='client_secret.json', no_cache=True)\n",
    "\n",
    "# Open spreadsheet and then workseet\n",
    "sh = gc.open('Milburn Ultimate Scores')\n",
    "wks = sh.sheet1"
   ]
  },
  {
   "cell_type": "code",
   "execution_count": 14,
   "metadata": {
    "ExecuteTime": {
     "end_time": "2018-03-12T10:01:14.816317Z",
     "start_time": "2018-03-12T10:01:14.634189Z"
    },
    "scrolled": false
   },
   "outputs": [],
   "source": [
    "## Get last entry from Data Spreadsheet\n",
    "\n",
    "dates_recorded = [datetime.strptime(d, '%Y-%m-%d') for d in wks.get_col(1) if d != '' and d != 'Date']\n",
    "lap_start_date = max(dates_recorded) + timedelta(days=1)\n",
    "# lap_start_date = dates_recorded[20]\n",
    "lap_start_date\n",
    "# from datetime import timedelta\n",
    "# lap_start_date = lap_start_date - timedelta(days=2)"
   ]
  },
  {
   "cell_type": "code",
   "execution_count": 15,
   "metadata": {
    "ExecuteTime": {
     "end_time": "2018-03-12T10:01:15.200585Z",
     "start_time": "2018-03-12T10:01:14.849340Z"
    },
    "collapsed": true,
    "scrolled": false
   },
   "outputs": [],
   "source": [
    "runs = []\n",
    "for activity in strava_client.get_activities(after=lap_start_date):\n",
    "    if 'ltimate' in activity.name and activity.type == 'Run':\n",
    "        runs.append(activity)"
   ]
  },
  {
   "cell_type": "code",
   "execution_count": 16,
   "metadata": {
    "ExecuteTime": {
     "end_time": "2018-03-12T10:01:15.386716Z",
     "start_time": "2018-03-12T10:01:15.368703Z"
    },
    "code_folding": [],
    "collapsed": true
   },
   "outputs": [],
   "source": [
    "def get_strava_description(activity, p=False):\n",
    "    new_activity = strava_client.get_activity(activity.id)\n",
    "    try:\n",
    "        scores, color = new_activity.description.split(' ')\n",
    "        try:\n",
    "            team_score, opponent_score = scores.split('-')\n",
    "        except ValueError:\n",
    "            team_score, opponent_score, color = None, None, None     \n",
    "    except ValueError:\n",
    "        scores = None\n",
    "        team_score, opponent_score, color = None, None, None           \n",
    "\n",
    "    try:\n",
    "        color = color.lower()\n",
    "    except AttributeError:\n",
    "        color = None\n",
    "        \n",
    "    if p:\n",
    "        print(new_activity.start_date)\n",
    "        print(new_activity.description)\n",
    "        print(team_score, opponent_score, color)\n",
    "        \n",
    "    return team_score, opponent_score, color"
   ]
  },
  {
   "cell_type": "code",
   "execution_count": 17,
   "metadata": {
    "ExecuteTime": {
     "end_time": "2018-03-12T10:01:16.024162Z",
     "start_time": "2018-03-12T10:01:15.956114Z"
    },
    "code_folding": [],
    "collapsed": true
   },
   "outputs": [],
   "source": [
    "def extract_events(run):\n",
    "    lap_nums = []\n",
    "    start_times = []\n",
    "    elapsed_times = []\n",
    "    for l in run.laps:\n",
    "        lap_nums.append(int(l.name.split(' ')[-1]))\n",
    "        start_times.append(l.start_date_local)\n",
    "        elapsed_times.append(l.elapsed_time)\n",
    "\n",
    "    lap_nums = np.array(lap_nums)\n",
    "    \n",
    "    events = []\n",
    "    for n, s, e in zip(np.diff(lap_nums), start_times, elapsed_times):\n",
    "        events.append([n, s, e])\n",
    "    \n",
    "    return (events)\n",
    "        \n",
    "def process_events(events):\n",
    "    \n",
    "    event_lookup = [\n",
    "        '',\n",
    "        'team_point',\n",
    "        'opponent_point',\n",
    "        'my_point',\n",
    "        'game',\n",
    "        'game',\n",
    "        'game'\n",
    "    ]\n",
    "    \n",
    "    games = []\n",
    "    game_num = 0\n",
    "    added = False\n",
    "\n",
    "    base_game = {'my_point': 0, 'team_point': 0, 'opponent_point': 0, 'game_num': 0, 'events':[], 'start_time':None, 'end_time':None}\n",
    "    game = base_game\n",
    "\n",
    "    for event in events:\n",
    "        if game['start_time'] is None:\n",
    "            game['start_time'] = event[1]\n",
    "\n",
    "        game['end_time'] = event[1] + event[2]\n",
    "\n",
    "        event_type = event_lookup[event[0]]\n",
    "        game['events'].append((event_type, event[1], event[2]))\n",
    "\n",
    "\n",
    "        if event_type == 'game':\n",
    "            games.append(game)\n",
    "            game_num += 1\n",
    "            game = {'my_point': 0, 'team_point': 0, 'opponent_point': 0, 'game_num': game_num, 'events':[], 'start_time':None, 'end_time':None}\n",
    "            added = True\n",
    "\n",
    "        elif event_type == 'my_point':\n",
    "            game[event_type] += 1\n",
    "            game['team_point'] += 1\n",
    "            added = False\n",
    "\n",
    "        else:\n",
    "            game[event_type] += 1\n",
    "            added = False\n",
    "\n",
    "\n",
    "    if not added:\n",
    "        games.append(game)\n",
    "    \n",
    "    \n",
    "    ## Assign game winners\n",
    "    for game in games:\n",
    "        if game['team_point'] > game['opponent_point']:\n",
    "            game['win'] = True\n",
    "        else:\n",
    "            game['win'] = False\n",
    "            \n",
    "    return games"
   ]
  },
  {
   "cell_type": "code",
   "execution_count": 9,
   "metadata": {
    "ExecuteTime": {
     "end_time": "2018-03-12T10:00:13.711573Z",
     "start_time": "2018-03-12T10:00:13.683554Z"
    }
   },
   "outputs": [],
   "source": [
    "games = []\n",
    "for run in runs:\n",
    "    team_wins, opponent_wins, color = get_strava_description(run, p=True)\n",
    "    \n",
    "    events = extract_events(run)\n",
    "    \n",
    "    for e in events:\n",
    "        print(e)\n",
    "    current_games = process_events(events)\n",
    "    \n",
    "    for g in current_games:\n",
    "        g['my_color'] = color\n",
    "        g['team_wins'] = team_wins\n",
    "        g['opponent_wins'] = opponent_wins\n",
    "        \n",
    "\n",
    "    games = games + current_games\n",
    "    "
   ]
  },
  {
   "cell_type": "code",
   "execution_count": 10,
   "metadata": {
    "ExecuteTime": {
     "end_time": "2018-03-12T10:00:14.897403Z",
     "start_time": "2018-03-12T10:00:14.868382Z"
    },
    "collapsed": true
   },
   "outputs": [],
   "source": [
    "df = pd.DataFrame(games).dropna()"
   ]
  },
  {
   "cell_type": "code",
   "execution_count": 11,
   "metadata": {
    "ExecuteTime": {
     "end_time": "2018-03-12T10:00:15.418767Z",
     "start_time": "2018-03-12T10:00:15.151581Z"
    }
   },
   "outputs": [
    {
     "ename": "AttributeError",
     "evalue": "'DataFrame' object has no attribute 'end_time'",
     "output_type": "error",
     "traceback": [
      "\u001b[0;31m-----------------------------------------------\u001b[0m",
      "\u001b[0;31mAttributeError\u001b[0mTraceback (most recent call last)",
      "\u001b[0;32m<ipython-input-11-a4e2460d759c>\u001b[0m in \u001b[0;36m<module>\u001b[0;34m()\u001b[0m\n\u001b[0;32m----> 1\u001b[0;31m \u001b[0mdf\u001b[0m\u001b[1;33m[\u001b[0m\u001b[1;34m'date'\u001b[0m\u001b[1;33m]\u001b[0m \u001b[1;33m=\u001b[0m \u001b[0mdf\u001b[0m\u001b[1;33m.\u001b[0m\u001b[0mend_time\u001b[0m\u001b[1;33m.\u001b[0m\u001b[0mapply\u001b[0m\u001b[1;33m(\u001b[0m\u001b[1;32mlambda\u001b[0m \u001b[0mx\u001b[0m\u001b[1;33m:\u001b[0m \u001b[0mdate\u001b[0m\u001b[1;33m(\u001b[0m\u001b[0mx\u001b[0m\u001b[1;33m.\u001b[0m\u001b[0myear\u001b[0m\u001b[1;33m,\u001b[0m \u001b[0mx\u001b[0m\u001b[1;33m.\u001b[0m\u001b[0mmonth\u001b[0m\u001b[1;33m,\u001b[0m \u001b[0mx\u001b[0m\u001b[1;33m.\u001b[0m\u001b[0mday\u001b[0m\u001b[1;33m)\u001b[0m\u001b[1;33m)\u001b[0m\u001b[1;33m\u001b[0m\u001b[0m\n\u001b[0m\u001b[1;32m      2\u001b[0m \u001b[1;33m\u001b[0m\u001b[0m\n\u001b[1;32m      3\u001b[0m \u001b[0mdf\u001b[0m \u001b[1;33m=\u001b[0m \u001b[0mdf\u001b[0m\u001b[1;33m.\u001b[0m\u001b[0mset_index\u001b[0m\u001b[1;33m(\u001b[0m\u001b[1;33m[\u001b[0m\u001b[1;34m'date'\u001b[0m\u001b[1;33m,\u001b[0m \u001b[1;34m'game_num'\u001b[0m\u001b[1;33m]\u001b[0m\u001b[1;33m,\u001b[0m \u001b[0mdrop\u001b[0m\u001b[1;33m=\u001b[0m\u001b[1;32mFalse\u001b[0m\u001b[1;33m)\u001b[0m\u001b[1;33m\u001b[0m\u001b[0m\n\u001b[1;32m      4\u001b[0m \u001b[0mdf\u001b[0m\u001b[1;33m\u001b[0m\u001b[0m\n",
      "\u001b[0;32mC:\\ProgramData\\Anaconda3\\lib\\site-packages\\pandas\\core\\generic.py\u001b[0m in \u001b[0;36m__getattr__\u001b[0;34m(self, name)\u001b[0m\n\u001b[1;32m   2742\u001b[0m             \u001b[1;32mif\u001b[0m \u001b[0mname\u001b[0m \u001b[1;32min\u001b[0m \u001b[0mself\u001b[0m\u001b[1;33m.\u001b[0m\u001b[0m_info_axis\u001b[0m\u001b[1;33m:\u001b[0m\u001b[1;33m\u001b[0m\u001b[0m\n\u001b[1;32m   2743\u001b[0m                 \u001b[1;32mreturn\u001b[0m \u001b[0mself\u001b[0m\u001b[1;33m[\u001b[0m\u001b[0mname\u001b[0m\u001b[1;33m]\u001b[0m\u001b[1;33m\u001b[0m\u001b[0m\n\u001b[0;32m-> 2744\u001b[0;31m             \u001b[1;32mreturn\u001b[0m \u001b[0mobject\u001b[0m\u001b[1;33m.\u001b[0m\u001b[0m__getattribute__\u001b[0m\u001b[1;33m(\u001b[0m\u001b[0mself\u001b[0m\u001b[1;33m,\u001b[0m \u001b[0mname\u001b[0m\u001b[1;33m)\u001b[0m\u001b[1;33m\u001b[0m\u001b[0m\n\u001b[0m\u001b[1;32m   2745\u001b[0m \u001b[1;33m\u001b[0m\u001b[0m\n\u001b[1;32m   2746\u001b[0m     \u001b[1;32mdef\u001b[0m \u001b[0m__setattr__\u001b[0m\u001b[1;33m(\u001b[0m\u001b[0mself\u001b[0m\u001b[1;33m,\u001b[0m \u001b[0mname\u001b[0m\u001b[1;33m,\u001b[0m \u001b[0mvalue\u001b[0m\u001b[1;33m)\u001b[0m\u001b[1;33m:\u001b[0m\u001b[1;33m\u001b[0m\u001b[0m\n",
      "\u001b[0;31mAttributeError\u001b[0m: 'DataFrame' object has no attribute 'end_time'"
     ]
    }
   ],
   "source": [
    "df['date'] = df.end_time.apply(lambda x: date(x.year, x.month, x.day))\n",
    "\n",
    "df = df.set_index(['date', 'game_num'], drop=False)\n",
    "df"
   ]
  },
  {
   "cell_type": "code",
   "execution_count": 11,
   "metadata": {
    "ExecuteTime": {
     "end_time": "2018-03-09T14:33:21.207020Z",
     "start_time": "2018-03-09T14:33:21.204018Z"
    },
    "collapsed": true
   },
   "outputs": [],
   "source": [
    "pdf = df"
   ]
  },
  {
   "cell_type": "code",
   "execution_count": 12,
   "metadata": {
    "ExecuteTime": {
     "end_time": "2018-03-09T14:33:21.245047Z",
     "start_time": "2018-03-09T14:33:21.239043Z"
    },
    "collapsed": true
   },
   "outputs": [],
   "source": [
    "pdf['white_wins'] = None\n",
    "pdf['color_wins'] = None\n",
    "pdf['white_point'] = None\n",
    "pdf['color_point'] = None\n",
    "pdf['game_winner'] = None"
   ]
  },
  {
   "cell_type": "code",
   "execution_count": 13,
   "metadata": {
    "ExecuteTime": {
     "end_time": "2018-03-09T14:33:21.319099Z",
     "start_time": "2018-03-09T14:33:21.281072Z"
    },
    "code_folding": [],
    "collapsed": true
   },
   "outputs": [],
   "source": [
    "for (date, game_num), row in pdf.iterrows():      \n",
    "    \n",
    "    if row.my_color == 'white':\n",
    "        if row.win:\n",
    "            pdf.loc[(date, game_num), 'game_winner'] = 'White'\n",
    "        else:\n",
    "            pdf.loc[(date, game_num), 'game_winner'] = 'Color'\n",
    "        pdf.loc[(date, game_num), 'white_wins'] = pdf.loc[(date, game_num), 'team_wins']            \n",
    "        pdf.loc[(date, game_num), 'color_wins'] = pdf.loc[(date, game_num), 'opponent_wins']            \n",
    "        pdf.loc[(date, game_num), 'white_point'] = pdf.loc[(date, game_num), 'team_point']                \n",
    "        pdf.loc[(date, game_num), 'color_point'] = pdf.loc[(date, game_num), 'opponent_point']\n",
    "\n",
    "    else:\n",
    "        if not row.win:\n",
    "            pdf.loc[(date, game_num), 'game_winner'] = 'White'\n",
    "        else:\n",
    "            pdf.loc[(date, game_num), 'game_winner'] = 'Color'\n",
    "        pdf.loc[(date, game_num), 'color_wins'] = pdf.loc[(date, game_num), 'team_wins']            \n",
    "        pdf.loc[(date, game_num), 'white_wins'] = pdf.loc[(date, game_num), 'opponent_wins']    \n",
    "        pdf.loc[(date, game_num), 'color_point'] = pdf.loc[(date, game_num), 'team_point']                \n",
    "        pdf.loc[(date, game_num), 'white_point'] = pdf.loc[(date, game_num), 'opponent_point']\n"
   ]
  },
  {
   "cell_type": "code",
   "execution_count": 14,
   "metadata": {
    "ExecuteTime": {
     "end_time": "2018-03-09T14:33:21.386145Z",
     "start_time": "2018-03-09T14:33:21.355124Z"
    }
   },
   "outputs": [
    {
     "data": {
      "text/html": [
       "<div>\n",
       "<table border=\"1\" class=\"dataframe\">\n",
       "  <thead>\n",
       "    <tr style=\"text-align: right;\">\n",
       "      <th></th>\n",
       "      <th></th>\n",
       "      <th>end_time</th>\n",
       "      <th>events</th>\n",
       "      <th>game_num</th>\n",
       "      <th>my_color</th>\n",
       "      <th>my_point</th>\n",
       "      <th>opponent_point</th>\n",
       "      <th>opponent_wins</th>\n",
       "      <th>start_time</th>\n",
       "      <th>team_point</th>\n",
       "      <th>team_wins</th>\n",
       "      <th>win</th>\n",
       "      <th>date</th>\n",
       "      <th>white_wins</th>\n",
       "      <th>color_wins</th>\n",
       "      <th>white_point</th>\n",
       "      <th>color_point</th>\n",
       "      <th>game_winner</th>\n",
       "    </tr>\n",
       "    <tr>\n",
       "      <th>date</th>\n",
       "      <th>game_num</th>\n",
       "      <th></th>\n",
       "      <th></th>\n",
       "      <th></th>\n",
       "      <th></th>\n",
       "      <th></th>\n",
       "      <th></th>\n",
       "      <th></th>\n",
       "      <th></th>\n",
       "      <th></th>\n",
       "      <th></th>\n",
       "      <th></th>\n",
       "      <th></th>\n",
       "      <th></th>\n",
       "      <th></th>\n",
       "      <th></th>\n",
       "      <th></th>\n",
       "      <th></th>\n",
       "    </tr>\n",
       "  </thead>\n",
       "  <tbody>\n",
       "    <tr>\n",
       "      <th rowspan=\"2\" valign=\"top\">2018-03-07</th>\n",
       "      <th>0</th>\n",
       "      <td>2018-03-07 12:45:45</td>\n",
       "      <td>[(opponent_point, 2018-03-07 12:10:23, 0:00:41...</td>\n",
       "      <td>0</td>\n",
       "      <td>colors</td>\n",
       "      <td>2</td>\n",
       "      <td>7</td>\n",
       "      <td>2</td>\n",
       "      <td>2018-03-07 12:10:23</td>\n",
       "      <td>11</td>\n",
       "      <td>1</td>\n",
       "      <td>True</td>\n",
       "      <td>2018-03-07</td>\n",
       "      <td>2</td>\n",
       "      <td>1</td>\n",
       "      <td>7</td>\n",
       "      <td>11</td>\n",
       "      <td>Color</td>\n",
       "    </tr>\n",
       "    <tr>\n",
       "      <th>1</th>\n",
       "      <td>2018-03-07 13:03:31</td>\n",
       "      <td>[(opponent_point, 2018-03-07 12:45:53, 0:01:52...</td>\n",
       "      <td>1</td>\n",
       "      <td>colors</td>\n",
       "      <td>0</td>\n",
       "      <td>5</td>\n",
       "      <td>2</td>\n",
       "      <td>2018-03-07 12:45:53</td>\n",
       "      <td>4</td>\n",
       "      <td>1</td>\n",
       "      <td>False</td>\n",
       "      <td>2018-03-07</td>\n",
       "      <td>2</td>\n",
       "      <td>1</td>\n",
       "      <td>5</td>\n",
       "      <td>4</td>\n",
       "      <td>White</td>\n",
       "    </tr>\n",
       "    <tr>\n",
       "      <th rowspan=\"3\" valign=\"top\">2018-03-09</th>\n",
       "      <th>0</th>\n",
       "      <td>2018-03-09 12:31:33</td>\n",
       "      <td>[(opponent_point, 2018-03-09 12:20:00, 0:00:12...</td>\n",
       "      <td>0</td>\n",
       "      <td>colors</td>\n",
       "      <td>0</td>\n",
       "      <td>3</td>\n",
       "      <td>2</td>\n",
       "      <td>2018-03-09 12:20:00</td>\n",
       "      <td>5</td>\n",
       "      <td>1</td>\n",
       "      <td>True</td>\n",
       "      <td>2018-03-09</td>\n",
       "      <td>2</td>\n",
       "      <td>1</td>\n",
       "      <td>3</td>\n",
       "      <td>5</td>\n",
       "      <td>Color</td>\n",
       "    </tr>\n",
       "    <tr>\n",
       "      <th>1</th>\n",
       "      <td>2018-03-09 12:54:34</td>\n",
       "      <td>[(opponent_point, 2018-03-09 12:31:40, 0:02:29...</td>\n",
       "      <td>1</td>\n",
       "      <td>colors</td>\n",
       "      <td>1</td>\n",
       "      <td>5</td>\n",
       "      <td>2</td>\n",
       "      <td>2018-03-09 12:31:40</td>\n",
       "      <td>4</td>\n",
       "      <td>1</td>\n",
       "      <td>False</td>\n",
       "      <td>2018-03-09</td>\n",
       "      <td>2</td>\n",
       "      <td>1</td>\n",
       "      <td>5</td>\n",
       "      <td>4</td>\n",
       "      <td>White</td>\n",
       "    </tr>\n",
       "    <tr>\n",
       "      <th>2</th>\n",
       "      <td>2018-03-09 13:12:19</td>\n",
       "      <td>[(my_point, 2018-03-09 12:54:48, 0:00:54), (op...</td>\n",
       "      <td>2</td>\n",
       "      <td>colors</td>\n",
       "      <td>2</td>\n",
       "      <td>5</td>\n",
       "      <td>2</td>\n",
       "      <td>2018-03-09 12:54:48</td>\n",
       "      <td>2</td>\n",
       "      <td>1</td>\n",
       "      <td>False</td>\n",
       "      <td>2018-03-09</td>\n",
       "      <td>2</td>\n",
       "      <td>1</td>\n",
       "      <td>5</td>\n",
       "      <td>2</td>\n",
       "      <td>White</td>\n",
       "    </tr>\n",
       "  </tbody>\n",
       "</table>\n",
       "</div>"
      ],
      "text/plain": [
       "                               end_time  \\\n",
       "date       game_num                       \n",
       "2018-03-07 0        2018-03-07 12:45:45   \n",
       "           1        2018-03-07 13:03:31   \n",
       "2018-03-09 0        2018-03-09 12:31:33   \n",
       "           1        2018-03-09 12:54:34   \n",
       "           2        2018-03-09 13:12:19   \n",
       "\n",
       "                                                                events  \\\n",
       "date       game_num                                                      \n",
       "2018-03-07 0         [(opponent_point, 2018-03-07 12:10:23, 0:00:41...   \n",
       "           1         [(opponent_point, 2018-03-07 12:45:53, 0:01:52...   \n",
       "2018-03-09 0         [(opponent_point, 2018-03-09 12:20:00, 0:00:12...   \n",
       "           1         [(opponent_point, 2018-03-09 12:31:40, 0:02:29...   \n",
       "           2         [(my_point, 2018-03-09 12:54:48, 0:00:54), (op...   \n",
       "\n",
       "                     game_num my_color  my_point  opponent_point  \\\n",
       "date       game_num                                                \n",
       "2018-03-07 0                0   colors         2               7   \n",
       "           1                1   colors         0               5   \n",
       "2018-03-09 0                0   colors         0               3   \n",
       "           1                1   colors         1               5   \n",
       "           2                2   colors         2               5   \n",
       "\n",
       "                    opponent_wins          start_time  team_point team_wins  \\\n",
       "date       game_num                                                           \n",
       "2018-03-07 0                    2 2018-03-07 12:10:23          11         1   \n",
       "           1                    2 2018-03-07 12:45:53           4         1   \n",
       "2018-03-09 0                    2 2018-03-09 12:20:00           5         1   \n",
       "           1                    2 2018-03-09 12:31:40           4         1   \n",
       "           2                    2 2018-03-09 12:54:48           2         1   \n",
       "\n",
       "                       win        date white_wins color_wins white_point  \\\n",
       "date       game_num                                                        \n",
       "2018-03-07 0          True  2018-03-07          2          1           7   \n",
       "           1         False  2018-03-07          2          1           5   \n",
       "2018-03-09 0          True  2018-03-09          2          1           3   \n",
       "           1         False  2018-03-09          2          1           5   \n",
       "           2         False  2018-03-09          2          1           5   \n",
       "\n",
       "                    color_point game_winner  \n",
       "date       game_num                          \n",
       "2018-03-07 0                 11       Color  \n",
       "           1                  4       White  \n",
       "2018-03-09 0                  5       Color  \n",
       "           1                  4       White  \n",
       "           2                  2       White  "
      ]
     },
     "execution_count": 14,
     "metadata": {},
     "output_type": "execute_result"
    }
   ],
   "source": [
    "pdf"
   ]
  },
  {
   "cell_type": "code",
   "execution_count": 15,
   "metadata": {
    "ExecuteTime": {
     "end_time": "2018-03-09T14:33:21.428175Z",
     "start_time": "2018-03-09T14:33:21.425173Z"
    },
    "collapsed": true
   },
   "outputs": [],
   "source": [
    "def merge_two_dicts(x, y):\n",
    "    \"\"\"Given two dicts, merge them into a new dict as a shallow copy.\"\"\"\n",
    "    z = x.copy()\n",
    "    z.update(y)\n",
    "    return z"
   ]
  },
  {
   "cell_type": "code",
   "execution_count": 16,
   "metadata": {
    "ExecuteTime": {
     "end_time": "2018-03-09T14:33:21.475208Z",
     "start_time": "2018-03-09T14:33:21.464200Z"
    },
    "collapsed": true
   },
   "outputs": [],
   "source": [
    "scores = []\n",
    "for (date, game_num), game in pdf.iterrows():\n",
    "    base_dict = dict(date=date, game_num=game_num, white_wins=game.white_wins, color_wins=game.color_wins, game_winner=game.game_winner)    \n",
    "    scores.append(merge_two_dicts(base_dict, dict(team='white', team_score=game.white_point, my_score=game.my_point if game.my_color == 'white' else None)))\n",
    "    scores.append(merge_two_dicts(base_dict, dict(team='color', team_score=game.color_point, my_score=game.my_point if game.my_color == 'colors' else None)))\n",
    "\n",
    "score_df = pd.DataFrame(scores).set_index(['date', 'game_num', 'team'], drop=False)"
   ]
  },
  {
   "cell_type": "code",
   "execution_count": 17,
   "metadata": {
    "ExecuteTime": {
     "end_time": "2018-03-09T14:33:21.528245Z",
     "start_time": "2018-03-09T14:33:21.521240Z"
    },
    "collapsed": true
   },
   "outputs": [],
   "source": [
    "out_df = score_df[['date', 'white_wins', 'color_wins', 'game_num', 'game_winner', 'team', 'team_score', 'my_score']].sort_index(ascending=False, level=0).fillna(value='')\n",
    "out_df['date'] = out_df['date'].apply(lambda x: x.strftime('%Y-%m-%d'))"
   ]
  },
  {
   "cell_type": "code",
   "execution_count": 18,
   "metadata": {
    "ExecuteTime": {
     "end_time": "2018-03-09T14:33:21.594291Z",
     "start_time": "2018-03-09T14:33:21.578280Z"
    }
   },
   "outputs": [
    {
     "data": {
      "text/html": [
       "<div>\n",
       "<table border=\"1\" class=\"dataframe\">\n",
       "  <thead>\n",
       "    <tr style=\"text-align: right;\">\n",
       "      <th></th>\n",
       "      <th></th>\n",
       "      <th></th>\n",
       "      <th>date</th>\n",
       "      <th>white_wins</th>\n",
       "      <th>color_wins</th>\n",
       "      <th>game_num</th>\n",
       "      <th>game_winner</th>\n",
       "      <th>team</th>\n",
       "      <th>team_score</th>\n",
       "      <th>my_score</th>\n",
       "    </tr>\n",
       "    <tr>\n",
       "      <th>date</th>\n",
       "      <th>game_num</th>\n",
       "      <th>team</th>\n",
       "      <th></th>\n",
       "      <th></th>\n",
       "      <th></th>\n",
       "      <th></th>\n",
       "      <th></th>\n",
       "      <th></th>\n",
       "      <th></th>\n",
       "      <th></th>\n",
       "    </tr>\n",
       "  </thead>\n",
       "  <tbody>\n",
       "    <tr>\n",
       "      <th rowspan=\"6\" valign=\"top\">2018-03-09</th>\n",
       "      <th rowspan=\"2\" valign=\"top\">2</th>\n",
       "      <th>white</th>\n",
       "      <td>2018-03-09</td>\n",
       "      <td>2</td>\n",
       "      <td>1</td>\n",
       "      <td>2</td>\n",
       "      <td>White</td>\n",
       "      <td>white</td>\n",
       "      <td>5</td>\n",
       "      <td></td>\n",
       "    </tr>\n",
       "    <tr>\n",
       "      <th>color</th>\n",
       "      <td>2018-03-09</td>\n",
       "      <td>2</td>\n",
       "      <td>1</td>\n",
       "      <td>2</td>\n",
       "      <td>White</td>\n",
       "      <td>color</td>\n",
       "      <td>2</td>\n",
       "      <td>2</td>\n",
       "    </tr>\n",
       "    <tr>\n",
       "      <th rowspan=\"2\" valign=\"top\">1</th>\n",
       "      <th>white</th>\n",
       "      <td>2018-03-09</td>\n",
       "      <td>2</td>\n",
       "      <td>1</td>\n",
       "      <td>1</td>\n",
       "      <td>White</td>\n",
       "      <td>white</td>\n",
       "      <td>5</td>\n",
       "      <td></td>\n",
       "    </tr>\n",
       "    <tr>\n",
       "      <th>color</th>\n",
       "      <td>2018-03-09</td>\n",
       "      <td>2</td>\n",
       "      <td>1</td>\n",
       "      <td>1</td>\n",
       "      <td>White</td>\n",
       "      <td>color</td>\n",
       "      <td>4</td>\n",
       "      <td>1</td>\n",
       "    </tr>\n",
       "    <tr>\n",
       "      <th rowspan=\"2\" valign=\"top\">0</th>\n",
       "      <th>white</th>\n",
       "      <td>2018-03-09</td>\n",
       "      <td>2</td>\n",
       "      <td>1</td>\n",
       "      <td>0</td>\n",
       "      <td>Color</td>\n",
       "      <td>white</td>\n",
       "      <td>3</td>\n",
       "      <td></td>\n",
       "    </tr>\n",
       "    <tr>\n",
       "      <th>color</th>\n",
       "      <td>2018-03-09</td>\n",
       "      <td>2</td>\n",
       "      <td>1</td>\n",
       "      <td>0</td>\n",
       "      <td>Color</td>\n",
       "      <td>color</td>\n",
       "      <td>5</td>\n",
       "      <td>0</td>\n",
       "    </tr>\n",
       "    <tr>\n",
       "      <th rowspan=\"4\" valign=\"top\">2018-03-07</th>\n",
       "      <th rowspan=\"2\" valign=\"top\">1</th>\n",
       "      <th>white</th>\n",
       "      <td>2018-03-07</td>\n",
       "      <td>2</td>\n",
       "      <td>1</td>\n",
       "      <td>1</td>\n",
       "      <td>White</td>\n",
       "      <td>white</td>\n",
       "      <td>5</td>\n",
       "      <td></td>\n",
       "    </tr>\n",
       "    <tr>\n",
       "      <th>color</th>\n",
       "      <td>2018-03-07</td>\n",
       "      <td>2</td>\n",
       "      <td>1</td>\n",
       "      <td>1</td>\n",
       "      <td>White</td>\n",
       "      <td>color</td>\n",
       "      <td>4</td>\n",
       "      <td>0</td>\n",
       "    </tr>\n",
       "    <tr>\n",
       "      <th rowspan=\"2\" valign=\"top\">0</th>\n",
       "      <th>white</th>\n",
       "      <td>2018-03-07</td>\n",
       "      <td>2</td>\n",
       "      <td>1</td>\n",
       "      <td>0</td>\n",
       "      <td>Color</td>\n",
       "      <td>white</td>\n",
       "      <td>7</td>\n",
       "      <td></td>\n",
       "    </tr>\n",
       "    <tr>\n",
       "      <th>color</th>\n",
       "      <td>2018-03-07</td>\n",
       "      <td>2</td>\n",
       "      <td>1</td>\n",
       "      <td>0</td>\n",
       "      <td>Color</td>\n",
       "      <td>color</td>\n",
       "      <td>11</td>\n",
       "      <td>2</td>\n",
       "    </tr>\n",
       "  </tbody>\n",
       "</table>\n",
       "</div>"
      ],
      "text/plain": [
       "                                 date white_wins color_wins  game_num  \\\n",
       "date       game_num team                                                \n",
       "2018-03-09 2        white  2018-03-09          2          1         2   \n",
       "                    color  2018-03-09          2          1         2   \n",
       "           1        white  2018-03-09          2          1         1   \n",
       "                    color  2018-03-09          2          1         1   \n",
       "           0        white  2018-03-09          2          1         0   \n",
       "                    color  2018-03-09          2          1         0   \n",
       "2018-03-07 1        white  2018-03-07          2          1         1   \n",
       "                    color  2018-03-07          2          1         1   \n",
       "           0        white  2018-03-07          2          1         0   \n",
       "                    color  2018-03-07          2          1         0   \n",
       "\n",
       "                          game_winner   team  team_score my_score  \n",
       "date       game_num team                                           \n",
       "2018-03-09 2        white       White  white           5           \n",
       "                    color       White  color           2        2  \n",
       "           1        white       White  white           5           \n",
       "                    color       White  color           4        1  \n",
       "           0        white       Color  white           3           \n",
       "                    color       Color  color           5        0  \n",
       "2018-03-07 1        white       White  white           5           \n",
       "                    color       White  color           4        0  \n",
       "           0        white       Color  white           7           \n",
       "                    color       Color  color          11        2  "
      ]
     },
     "execution_count": 18,
     "metadata": {},
     "output_type": "execute_result"
    }
   ],
   "source": [
    "out_df"
   ]
  },
  {
   "cell_type": "code",
   "execution_count": 19,
   "metadata": {
    "ExecuteTime": {
     "end_time": "2018-03-09T14:33:22.624011Z",
     "start_time": "2018-03-09T14:33:21.666341Z"
    },
    "collapsed": true
   },
   "outputs": [],
   "source": [
    "data = out_df.as_matrix().tolist()\n",
    "wks.insert_rows(2, values=data, number=len(data))"
   ]
  },
  {
   "cell_type": "code",
   "execution_count": null,
   "metadata": {
    "collapsed": true
   },
   "outputs": [],
   "source": []
  },
  {
   "cell_type": "code",
   "execution_count": null,
   "metadata": {
    "collapsed": true
   },
   "outputs": [],
   "source": []
  }
 ],
 "metadata": {
  "hide_input": false,
  "kernelspec": {
   "display_name": "Python 3",
   "language": "python",
   "name": "python3"
  },
  "language_info": {
   "codemirror_mode": {
    "name": "ipython",
    "version": 3
   },
   "file_extension": ".py",
   "mimetype": "text/x-python",
   "name": "python",
   "nbconvert_exporter": "python",
   "pygments_lexer": "ipython3",
   "version": "3.6.0"
  },
  "varInspector": {
   "cols": {
    "lenName": 16,
    "lenType": 16,
    "lenVar": 40
   },
   "kernels_config": {
    "python": {
     "delete_cmd_postfix": "",
     "delete_cmd_prefix": "del ",
     "library": "var_list.py",
     "varRefreshCmd": "print(var_dic_list())"
    },
    "r": {
     "delete_cmd_postfix": ") ",
     "delete_cmd_prefix": "rm(",
     "library": "var_list.r",
     "varRefreshCmd": "cat(var_dic_list()) "
    }
   },
   "types_to_exclude": [
    "module",
    "function",
    "builtin_function_or_method",
    "instance",
    "_Feature"
   ],
   "window_display": false
  }
 },
 "nbformat": 4,
 "nbformat_minor": 2
}
