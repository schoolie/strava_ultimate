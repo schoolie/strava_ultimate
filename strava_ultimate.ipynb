{
 "cells": [
  {
   "cell_type": "code",
   "execution_count": 1,
   "metadata": {
    "ExecuteTime": {
     "end_time": "2018-03-19T14:27:13.561463Z",
     "start_time": "2018-03-19T14:27:10.628997Z"
    },
    "collapsed": true
   },
   "outputs": [],
   "source": [
    "import stravalib\n",
    "import logging\n",
    "from xml.dom import minidom\n",
    "import dateutil\n",
    "import numpy as np\n",
    "import pandas as pd\n",
    "\n",
    "import os\n",
    "\n",
    "from datetime import datetime, timedelta, date\n",
    "\n",
    "\n",
    "logger = logging.getLogger()\n",
    "logger.setLevel(logging.ERROR)"
   ]
  },
  {
   "cell_type": "code",
   "execution_count": 2,
   "metadata": {
    "ExecuteTime": {
     "end_time": "2018-03-19T14:27:14.833098Z",
     "start_time": "2018-03-19T14:27:13.990677Z"
    }
   },
   "outputs": [
    {
     "data": {
      "text/html": [
       "<a href=\"https://www.strava.com/oauth/authorize?client_id=19435&redirect_uri=http%3A%2F%2Flocalhost%3A8282%2Fauthorized&approval_prompt=auto&response_type=code&scope=view_private%2Cwrite\">https://www.strava.com/oauth/authorize?client_id=19435&redirect_uri=http%3A%2F%2Flocalhost%3A8282%2Fauthorized&approval_prompt=auto&response_type=code&scope=view_private%2Cwrite</a>"
      ],
      "text/plain": [
       "<IPython.core.display.HTML object>"
      ]
     },
     "metadata": {},
     "output_type": "display_data"
    },
    {
     "name": "stdout",
     "output_type": "stream",
     "text": [
      "athlete name Brian, athlete id 3360678.\n"
     ]
    }
   ],
   "source": [
    "#### Setting up strava API client\n",
    "\n",
    "#Global Variables - put your data in the file 'client.secret' and separate the fields with a comma!\n",
    "client = stravalib.client.Client()\n",
    "access_token = 'e3ccedc91fceef32077fbb31fc44676446d14bdd'\n",
    "\n",
    "client.access_token = access_token\n",
    "athlete = client.get_athlete()\n",
    "\n",
    "## Enable accessing private activities\n",
    "auth_url = client.authorization_url(client_id=19435, redirect_uri='http://localhost:8282/authorized', approval_prompt=u'auto', scope='view_private,write', state=None)\n",
    "from IPython.core.display import display, HTML\n",
    "display(HTML(\"\"\"<a href=\"{}\">{}</a>\"\"\".format(auth_url,auth_url)))\n",
    "\n",
    "code = '6d057263b427852b0489af26e921f8fd25a78852'\n",
    "access_token = client.exchange_code_for_token(client_id=19435, client_secret='45b776d5beceeb34c290b8a56bf9829d6d4ea5d7', code=code)\n",
    "\n",
    "strava_client = stravalib.client.Client(access_token=access_token)\n",
    "athlete = strava_client.get_athlete()\n",
    "print('athlete name %s, athlete id %s.' %(athlete.firstname, athlete.id))"
   ]
  },
  {
   "cell_type": "code",
   "execution_count": 3,
   "metadata": {
    "ExecuteTime": {
     "end_time": "2018-03-19T14:27:18.959160Z",
     "start_time": "2018-03-19T14:27:15.291327Z"
    },
    "collapsed": true
   },
   "outputs": [],
   "source": [
    "## Set up google sheets client, open worksheet\n",
    "import pygsheets\n",
    "\n",
    "gc = pygsheets.authorize(outh_file='client_secret.json', no_cache=True)\n",
    "\n",
    "# Open spreadsheet and then workseet\n",
    "sh = gc.open('Milburn Ultimate Scores')"
   ]
  },
  {
   "cell_type": "code",
   "execution_count": 5,
   "metadata": {
    "ExecuteTime": {
     "end_time": "2018-03-19T14:27:53.834971Z",
     "start_time": "2018-03-19T14:27:53.668871Z"
    },
    "scrolled": false
   },
   "outputs": [
    {
     "data": {
      "text/plain": [
       "datetime.datetime(2018, 3, 15, 0, 0)"
      ]
     },
     "execution_count": 5,
     "metadata": {},
     "output_type": "execute_result"
    }
   ],
   "source": [
    "## Get last entry from Data Spreadsheet\n",
    "\n",
    "wks = sh.worksheet_by_title('game_summaries')\n",
    "\n",
    "dates_recorded = [datetime.strptime(d, '%Y-%m-%d') for d in wks.get_col(1) if d != '' and d != 'Date']\n",
    "lap_start_date = max(dates_recorded) + timedelta(days=1)\n",
    "# lap_start_date = dates_recorded[20]\n",
    "lap_start_date\n",
    "# from datetime import timedelta\n",
    "# lap_start_date = lap_start_date - timedelta(days=2)"
   ]
  },
  {
   "cell_type": "code",
   "execution_count": 6,
   "metadata": {
    "ExecuteTime": {
     "end_time": "2018-03-19T14:27:57.374093Z",
     "start_time": "2018-03-19T14:27:55.277836Z"
    },
    "collapsed": true,
    "scrolled": false
   },
   "outputs": [],
   "source": [
    "runs = []\n",
    "for activity in strava_client.get_activities(after=lap_start_date):\n",
    "    if 'ltimate' in activity.name and activity.type == 'Run':\n",
    "        a = strava_client.get_activity(activity.id)\n",
    "        runs.append(a)"
   ]
  },
  {
   "cell_type": "code",
   "execution_count": 7,
   "metadata": {
    "ExecuteTime": {
     "end_time": "2018-03-19T14:27:57.850378Z",
     "start_time": "2018-03-19T14:27:57.839372Z"
    },
    "code_folding": [
     0
    ],
    "collapsed": true
   },
   "outputs": [],
   "source": [
    "def get_strava_description(activity, p=False):\n",
    "    new_activity = strava_client.get_activity(activity.id)\n",
    "    try:\n",
    "        scores, color = new_activity.description.split(' ')\n",
    "        try:\n",
    "            team_score, opponent_score = scores.split('-')\n",
    "        except ValueError:\n",
    "            team_score, opponent_score, color = None, None, None     \n",
    "    except ValueError:\n",
    "        scores = None\n",
    "        team_score, opponent_score, color = None, None, None           \n",
    "\n",
    "    try:\n",
    "        color = color.lower()\n",
    "    except AttributeError:\n",
    "        color = None\n",
    "        \n",
    "    if p:\n",
    "        print(new_activity.start_date)\n",
    "        print(new_activity.description)\n",
    "        print(team_score, opponent_score, color)\n",
    "        \n",
    "    return team_score, opponent_score, color"
   ]
  },
  {
   "cell_type": "code",
   "execution_count": 24,
   "metadata": {
    "ExecuteTime": {
     "end_time": "2018-03-19T14:32:46.087217Z",
     "start_time": "2018-03-19T14:32:46.032184Z"
    },
    "code_folding": [],
    "collapsed": true
   },
   "outputs": [],
   "source": [
    "## Functions\n",
    "def extract_events(run):\n",
    "    lap_nums = []\n",
    "    start_times = []\n",
    "    elapsed_times = []\n",
    "    for l in run.laps:\n",
    "        lap_nums.append(int(l['name'].split(' ')[-1]))\n",
    "        start_times.append(datetime.strptime(l['start_date_local'], '%Y-%m-%dT%H:%M:%SZ'))\n",
    "        elapsed_times.append(timedelta(seconds=l['elapsed_time']))\n",
    "\n",
    "    lap_nums = np.array(lap_nums)\n",
    "    \n",
    "    events = []\n",
    "    for n, s, e in zip(np.diff(lap_nums), start_times, elapsed_times):\n",
    "        events.append([n, s, e])\n",
    "    \n",
    "    return (events)\n",
    "        \n",
    "def process_events(events):\n",
    "    \n",
    "    event_lookup = [\n",
    "        '',\n",
    "        'team_point',\n",
    "        'opponent_point',\n",
    "        'my_point',\n",
    "        'game',\n",
    "        'game',\n",
    "        'game'\n",
    "    ]\n",
    "    \n",
    "    games = []\n",
    "    game_num = 0\n",
    "    added = False\n",
    "\n",
    "    base_game = {'my_point': 0, 'team_point': 0, 'opponent_point': 0, 'game_num': 0, 'events':[], 'start_time':None, 'end_time':None}\n",
    "    game = base_game\n",
    "\n",
    "    for event in events:\n",
    "        if game['start_time'] is None:\n",
    "            game['start_time'] = event[1]\n",
    "\n",
    "        game['end_time'] = event[1] + event[2]\n",
    "\n",
    "        event_type = event_lookup[event[0]]\n",
    "        game['events'].append((event_type, event[1], event[2]))\n",
    "\n",
    "\n",
    "        if event_type == 'game':\n",
    "            games.append(game)\n",
    "            game_num += 1\n",
    "            game = {'my_point': 0, 'team_point': 0, 'opponent_point': 0, 'game_num': game_num, 'events':[], 'start_time':None, 'end_time':None}\n",
    "            added = True\n",
    "\n",
    "        elif event_type == 'my_point':\n",
    "            game[event_type] += 1\n",
    "            game['team_point'] += 1\n",
    "            added = False\n",
    "\n",
    "        else:\n",
    "            game[event_type] += 1\n",
    "            added = False\n",
    "\n",
    "\n",
    "    if not added:\n",
    "        games.append(game)\n",
    "    \n",
    "    \n",
    "    ## Assign game winners\n",
    "    for game in games:\n",
    "        if game['team_point'] > game['opponent_point']:\n",
    "            game['win'] = True\n",
    "        else:\n",
    "            game['win'] = False\n",
    "            \n",
    "    return games"
   ]
  },
  {
   "cell_type": "code",
   "execution_count": 28,
   "metadata": {
    "ExecuteTime": {
     "end_time": "2018-03-19T14:36:53.095333Z",
     "start_time": "2018-03-19T14:36:51.143162Z"
    }
   },
   "outputs": [
    {
     "name": "stdout",
     "output_type": "stream",
     "text": [
      "2018-03-16 17:14:33+00:00\n",
      "2-1 white\n",
      "2 1 white\n",
      "[2, datetime.datetime(2018, 3, 16, 12, 14, 33), datetime.timedelta(0, 47)]\n",
      "[1, datetime.datetime(2018, 3, 16, 12, 15, 28), datetime.timedelta(0, 109)]\n",
      "[1, datetime.datetime(2018, 3, 16, 12, 17, 12), datetime.timedelta(0, 103)]\n",
      "[2, datetime.datetime(2018, 3, 16, 12, 19, 4), datetime.timedelta(0, 62)]\n",
      "[1, datetime.datetime(2018, 3, 16, 12, 20, 3), datetime.timedelta(0, 81)]\n",
      "[2, datetime.datetime(2018, 3, 16, 12, 21, 20), datetime.timedelta(0, 63)]\n",
      "[1, datetime.datetime(2018, 3, 16, 12, 22, 25), datetime.timedelta(0, 159)]\n",
      "[2, datetime.datetime(2018, 3, 16, 12, 25, 5), datetime.timedelta(0, 292)]\n",
      "[3, datetime.datetime(2018, 3, 16, 12, 29, 59), datetime.timedelta(0, 122)]\n",
      "[4, datetime.datetime(2018, 3, 16, 12, 32, 5), datetime.timedelta(0, 28)]\n",
      "[2, datetime.datetime(2018, 3, 16, 12, 32, 35), datetime.timedelta(0, 125)]\n",
      "[2, datetime.datetime(2018, 3, 16, 12, 34, 41), datetime.timedelta(0, 325)]\n",
      "[2, datetime.datetime(2018, 3, 16, 12, 40, 8), datetime.timedelta(0, 117)]\n",
      "[3, datetime.datetime(2018, 3, 16, 12, 42, 7), datetime.timedelta(0, 93)]\n",
      "[2, datetime.datetime(2018, 3, 16, 12, 43, 43), datetime.timedelta(0, 79)]\n",
      "[1, datetime.datetime(2018, 3, 16, 12, 45, 13), datetime.timedelta(0, 95)]\n",
      "[1, datetime.datetime(2018, 3, 16, 12, 46, 41), datetime.timedelta(0, 140)]\n",
      "[2, datetime.datetime(2018, 3, 16, 12, 48, 59), datetime.timedelta(0, 138)]\n",
      "[4, datetime.datetime(2018, 3, 16, 12, 51, 28), datetime.timedelta(0, 43)]\n",
      "[1, datetime.datetime(2018, 3, 16, 12, 52, 10), datetime.timedelta(0, 85)]\n",
      "[1, datetime.datetime(2018, 3, 16, 12, 53, 37), datetime.timedelta(0, 31)]\n",
      "[2, datetime.datetime(2018, 3, 16, 12, 54, 11), datetime.timedelta(0, 42)]\n",
      "[1, datetime.datetime(2018, 3, 16, 12, 54, 53), datetime.timedelta(0, 80)]\n",
      "[3, datetime.datetime(2018, 3, 16, 12, 56, 9), datetime.timedelta(0, 225)]\n",
      "[1, datetime.datetime(2018, 3, 16, 12, 59, 57), datetime.timedelta(0, 133)]\n",
      "[2, datetime.datetime(2018, 3, 16, 13, 2, 12), datetime.timedelta(0, 186)]\n",
      "[2, datetime.datetime(2018, 3, 16, 13, 5, 21), datetime.timedelta(0, 76)]\n",
      "[1, datetime.datetime(2018, 3, 16, 13, 6, 33), datetime.timedelta(0, 78)]\n",
      "[4, datetime.datetime(2018, 3, 16, 13, 7, 53), datetime.timedelta(0, 28)]\n",
      "2018-03-19 17:15:05+00:00\n",
      "0-2 white\n",
      "0 2 white\n",
      "[1, datetime.datetime(2018, 3, 19, 12, 15, 5), datetime.timedelta(0, 119)]\n",
      "[1, datetime.datetime(2018, 3, 19, 12, 17, 5), datetime.timedelta(0, 1)]\n",
      "[1, datetime.datetime(2018, 3, 19, 12, 17, 9), datetime.timedelta(0, 102)]\n",
      "[2, datetime.datetime(2018, 3, 19, 12, 18, 54), datetime.timedelta(0, 265)]\n",
      "[2, datetime.datetime(2018, 3, 19, 12, 23, 16), datetime.timedelta(0, 298)]\n",
      "[2, datetime.datetime(2018, 3, 19, 12, 28, 16), datetime.timedelta(0, 351)]\n",
      "[1, datetime.datetime(2018, 3, 19, 12, 34, 8), datetime.timedelta(0, 176)]\n",
      "[2, datetime.datetime(2018, 3, 19, 12, 37, 6), datetime.timedelta(0, 110)]\n",
      "[4, datetime.datetime(2018, 3, 19, 12, 38, 56), datetime.timedelta(0, 25)]\n",
      "[1, datetime.datetime(2018, 3, 19, 12, 39, 26), datetime.timedelta(0, 148)]\n",
      "[1, datetime.datetime(2018, 3, 19, 12, 41, 53), datetime.timedelta(0, 96)]\n",
      "[2, datetime.datetime(2018, 3, 19, 12, 43, 31), datetime.timedelta(0, 90)]\n",
      "[2, datetime.datetime(2018, 3, 19, 12, 45, 2), datetime.timedelta(0, 102)]\n",
      "[3, datetime.datetime(2018, 3, 19, 12, 46, 47), datetime.timedelta(0, 77)]\n",
      "[2, datetime.datetime(2018, 3, 19, 12, 48, 5), datetime.timedelta(0, 81)]\n",
      "[2, datetime.datetime(2018, 3, 19, 12, 49, 27), datetime.timedelta(0, 123)]\n",
      "[1, datetime.datetime(2018, 3, 19, 12, 51, 32), datetime.timedelta(0, 150)]\n",
      "[2, datetime.datetime(2018, 3, 19, 12, 54, 17), datetime.timedelta(0, 242)]\n",
      "[4, datetime.datetime(2018, 3, 19, 12, 58, 7), datetime.timedelta(0, 20)]\n"
     ]
    }
   ],
   "source": [
    "games = []\n",
    "for run in runs:\n",
    "    team_wins, opponent_wins, color = get_strava_description(run, p=True)\n",
    "    \n",
    "    events = extract_events(run)\n",
    "\n",
    "    ## Write points to gsheets\n",
    "    point_df = pd.DataFrame(events, columns=['count', 'start_time', 'elapsed_time'])\n",
    "    point_df['start_time'] = point_df['start_time'].apply(lambda x: x.strftime('%Y-%m-%d %H:%M:%S'))\n",
    "    point_df['elapsed_time'] = point_df['elapsed_time'].apply(lambda x: x.seconds)\n",
    "    \n",
    "    data = point_df.as_matrix().tolist()\n",
    "    wks = sh.worksheet_by_title('raw_points')\n",
    "    wks.insert_rows(2, values=data, number=len(data))\n",
    "\n",
    "    for e in events:\n",
    "        print(e)\n",
    "    current_games = process_events(events)\n",
    "    \n",
    "    for g in current_games:\n",
    "        g['my_color'] = color\n",
    "        g['team_wins'] = team_wins\n",
    "        g['opponent_wins'] = opponent_wins\n",
    "        \n",
    "\n",
    "    games = games + current_games\n",
    "    "
   ]
  },
  {
   "cell_type": "code",
   "execution_count": 26,
   "metadata": {
    "ExecuteTime": {
     "end_time": "2018-03-19T14:32:49.510269Z",
     "start_time": "2018-03-19T14:32:49.454236Z"
    }
   },
   "outputs": [],
   "source": []
  },
  {
   "cell_type": "code",
   "execution_count": 27,
   "metadata": {
    "ExecuteTime": {
     "end_time": "2018-03-19T14:32:58.539684Z",
     "start_time": "2018-03-19T14:32:57.020773Z"
    },
    "collapsed": true
   },
   "outputs": [],
   "source": []
  },
  {
   "cell_type": "code",
   "execution_count": 29,
   "metadata": {
    "ExecuteTime": {
     "end_time": "2018-03-19T14:45:24.866800Z",
     "start_time": "2018-03-19T14:45:24.857796Z"
    },
    "collapsed": true
   },
   "outputs": [],
   "source": [
    "df = pd.DataFrame(games).dropna()"
   ]
  },
  {
   "cell_type": "code",
   "execution_count": 30,
   "metadata": {
    "ExecuteTime": {
     "end_time": "2018-03-19T14:45:25.616175Z",
     "start_time": "2018-03-19T14:45:25.554144Z"
    }
   },
   "outputs": [
    {
     "data": {
      "text/html": [
       "<div>\n",
       "<table border=\"1\" class=\"dataframe\">\n",
       "  <thead>\n",
       "    <tr style=\"text-align: right;\">\n",
       "      <th></th>\n",
       "      <th></th>\n",
       "      <th>end_time</th>\n",
       "      <th>events</th>\n",
       "      <th>game_num</th>\n",
       "      <th>my_color</th>\n",
       "      <th>my_point</th>\n",
       "      <th>opponent_point</th>\n",
       "      <th>opponent_wins</th>\n",
       "      <th>start_time</th>\n",
       "      <th>team_point</th>\n",
       "      <th>team_wins</th>\n",
       "      <th>win</th>\n",
       "      <th>date</th>\n",
       "    </tr>\n",
       "    <tr>\n",
       "      <th>date</th>\n",
       "      <th>game_num</th>\n",
       "      <th></th>\n",
       "      <th></th>\n",
       "      <th></th>\n",
       "      <th></th>\n",
       "      <th></th>\n",
       "      <th></th>\n",
       "      <th></th>\n",
       "      <th></th>\n",
       "      <th></th>\n",
       "      <th></th>\n",
       "      <th></th>\n",
       "      <th></th>\n",
       "    </tr>\n",
       "  </thead>\n",
       "  <tbody>\n",
       "    <tr>\n",
       "      <th rowspan=\"3\" valign=\"top\">2018-03-16</th>\n",
       "      <th>0</th>\n",
       "      <td>2018-03-16 12:32:33</td>\n",
       "      <td>[(opponent_point, 2018-03-16 12:14:33, 0:00:47...</td>\n",
       "      <td>0</td>\n",
       "      <td>white</td>\n",
       "      <td>1</td>\n",
       "      <td>4</td>\n",
       "      <td>1</td>\n",
       "      <td>2018-03-16 12:14:33</td>\n",
       "      <td>5</td>\n",
       "      <td>2</td>\n",
       "      <td>True</td>\n",
       "      <td>2018-03-16</td>\n",
       "    </tr>\n",
       "    <tr>\n",
       "      <th>1</th>\n",
       "      <td>2018-03-16 12:52:11</td>\n",
       "      <td>[(opponent_point, 2018-03-16 12:32:35, 0:02:05...</td>\n",
       "      <td>1</td>\n",
       "      <td>white</td>\n",
       "      <td>1</td>\n",
       "      <td>5</td>\n",
       "      <td>1</td>\n",
       "      <td>2018-03-16 12:32:35</td>\n",
       "      <td>3</td>\n",
       "      <td>2</td>\n",
       "      <td>False</td>\n",
       "      <td>2018-03-16</td>\n",
       "    </tr>\n",
       "    <tr>\n",
       "      <th>2</th>\n",
       "      <td>2018-03-16 13:08:21</td>\n",
       "      <td>[(team_point, 2018-03-16 12:52:10, 0:01:25), (...</td>\n",
       "      <td>2</td>\n",
       "      <td>white</td>\n",
       "      <td>1</td>\n",
       "      <td>3</td>\n",
       "      <td>1</td>\n",
       "      <td>2018-03-16 12:52:10</td>\n",
       "      <td>6</td>\n",
       "      <td>2</td>\n",
       "      <td>True</td>\n",
       "      <td>2018-03-16</td>\n",
       "    </tr>\n",
       "    <tr>\n",
       "      <th rowspan=\"2\" valign=\"top\">2018-03-19</th>\n",
       "      <th>0</th>\n",
       "      <td>2018-03-19 12:39:21</td>\n",
       "      <td>[(team_point, 2018-03-19 12:15:05, 0:01:59), (...</td>\n",
       "      <td>0</td>\n",
       "      <td>white</td>\n",
       "      <td>0</td>\n",
       "      <td>4</td>\n",
       "      <td>2</td>\n",
       "      <td>2018-03-19 12:15:05</td>\n",
       "      <td>4</td>\n",
       "      <td>0</td>\n",
       "      <td>False</td>\n",
       "      <td>2018-03-19</td>\n",
       "    </tr>\n",
       "    <tr>\n",
       "      <th>1</th>\n",
       "      <td>2018-03-19 12:58:27</td>\n",
       "      <td>[(team_point, 2018-03-19 12:39:26, 0:02:28), (...</td>\n",
       "      <td>1</td>\n",
       "      <td>white</td>\n",
       "      <td>1</td>\n",
       "      <td>5</td>\n",
       "      <td>2</td>\n",
       "      <td>2018-03-19 12:39:26</td>\n",
       "      <td>4</td>\n",
       "      <td>0</td>\n",
       "      <td>False</td>\n",
       "      <td>2018-03-19</td>\n",
       "    </tr>\n",
       "  </tbody>\n",
       "</table>\n",
       "</div>"
      ],
      "text/plain": [
       "                               end_time  \\\n",
       "date       game_num                       \n",
       "2018-03-16 0        2018-03-16 12:32:33   \n",
       "           1        2018-03-16 12:52:11   \n",
       "           2        2018-03-16 13:08:21   \n",
       "2018-03-19 0        2018-03-19 12:39:21   \n",
       "           1        2018-03-19 12:58:27   \n",
       "\n",
       "                                                                events  \\\n",
       "date       game_num                                                      \n",
       "2018-03-16 0         [(opponent_point, 2018-03-16 12:14:33, 0:00:47...   \n",
       "           1         [(opponent_point, 2018-03-16 12:32:35, 0:02:05...   \n",
       "           2         [(team_point, 2018-03-16 12:52:10, 0:01:25), (...   \n",
       "2018-03-19 0         [(team_point, 2018-03-19 12:15:05, 0:01:59), (...   \n",
       "           1         [(team_point, 2018-03-19 12:39:26, 0:02:28), (...   \n",
       "\n",
       "                     game_num my_color  my_point  opponent_point  \\\n",
       "date       game_num                                                \n",
       "2018-03-16 0                0    white         1               4   \n",
       "           1                1    white         1               5   \n",
       "           2                2    white         1               3   \n",
       "2018-03-19 0                0    white         0               4   \n",
       "           1                1    white         1               5   \n",
       "\n",
       "                    opponent_wins          start_time  team_point team_wins  \\\n",
       "date       game_num                                                           \n",
       "2018-03-16 0                    1 2018-03-16 12:14:33           5         2   \n",
       "           1                    1 2018-03-16 12:32:35           3         2   \n",
       "           2                    1 2018-03-16 12:52:10           6         2   \n",
       "2018-03-19 0                    2 2018-03-19 12:15:05           4         0   \n",
       "           1                    2 2018-03-19 12:39:26           4         0   \n",
       "\n",
       "                       win        date  \n",
       "date       game_num                     \n",
       "2018-03-16 0          True  2018-03-16  \n",
       "           1         False  2018-03-16  \n",
       "           2          True  2018-03-16  \n",
       "2018-03-19 0         False  2018-03-19  \n",
       "           1         False  2018-03-19  "
      ]
     },
     "execution_count": 30,
     "metadata": {},
     "output_type": "execute_result"
    }
   ],
   "source": [
    "df['date'] = df.end_time.apply(lambda x: date(x.year, x.month, x.day))\n",
    "\n",
    "df = df.set_index(['date', 'game_num'], drop=False)\n",
    "df"
   ]
  },
  {
   "cell_type": "code",
   "execution_count": 31,
   "metadata": {
    "ExecuteTime": {
     "end_time": "2018-03-19T14:45:26.359546Z",
     "start_time": "2018-03-19T14:45:26.355544Z"
    },
    "collapsed": true
   },
   "outputs": [],
   "source": [
    "pdf = df"
   ]
  },
  {
   "cell_type": "code",
   "execution_count": 32,
   "metadata": {
    "ExecuteTime": {
     "end_time": "2018-03-19T14:45:27.061897Z",
     "start_time": "2018-03-19T14:45:27.055894Z"
    },
    "collapsed": true
   },
   "outputs": [],
   "source": [
    "pdf['white_wins'] = None\n",
    "pdf['color_wins'] = None\n",
    "pdf['white_point'] = None\n",
    "pdf['color_point'] = None\n",
    "pdf['game_winner'] = None"
   ]
  },
  {
   "cell_type": "code",
   "execution_count": 33,
   "metadata": {
    "ExecuteTime": {
     "end_time": "2018-03-19T14:45:27.636184Z",
     "start_time": "2018-03-19T14:45:27.570151Z"
    },
    "code_folding": [],
    "collapsed": true
   },
   "outputs": [],
   "source": [
    "for (date, game_num), row in pdf.iterrows():      \n",
    "    \n",
    "    if row.my_color == 'white':\n",
    "        if row.win:\n",
    "            pdf.loc[(date, game_num), 'game_winner'] = 'White'\n",
    "        else:\n",
    "            pdf.loc[(date, game_num), 'game_winner'] = 'Color'\n",
    "        pdf.loc[(date, game_num), 'white_wins'] = pdf.loc[(date, game_num), 'team_wins']            \n",
    "        pdf.loc[(date, game_num), 'color_wins'] = pdf.loc[(date, game_num), 'opponent_wins']            \n",
    "        pdf.loc[(date, game_num), 'white_point'] = pdf.loc[(date, game_num), 'team_point']                \n",
    "        pdf.loc[(date, game_num), 'color_point'] = pdf.loc[(date, game_num), 'opponent_point']\n",
    "\n",
    "    else:\n",
    "        if not row.win:\n",
    "            pdf.loc[(date, game_num), 'game_winner'] = 'White'\n",
    "        else:\n",
    "            pdf.loc[(date, game_num), 'game_winner'] = 'Color'\n",
    "        pdf.loc[(date, game_num), 'color_wins'] = pdf.loc[(date, game_num), 'team_wins']            \n",
    "        pdf.loc[(date, game_num), 'white_wins'] = pdf.loc[(date, game_num), 'opponent_wins']    \n",
    "        pdf.loc[(date, game_num), 'color_point'] = pdf.loc[(date, game_num), 'team_point']                \n",
    "        pdf.loc[(date, game_num), 'white_point'] = pdf.loc[(date, game_num), 'opponent_point']\n"
   ]
  },
  {
   "cell_type": "code",
   "execution_count": 34,
   "metadata": {
    "ExecuteTime": {
     "end_time": "2018-03-19T14:45:28.072402Z",
     "start_time": "2018-03-19T14:45:28.044388Z"
    }
   },
   "outputs": [
    {
     "data": {
      "text/html": [
       "<div>\n",
       "<table border=\"1\" class=\"dataframe\">\n",
       "  <thead>\n",
       "    <tr style=\"text-align: right;\">\n",
       "      <th></th>\n",
       "      <th></th>\n",
       "      <th>end_time</th>\n",
       "      <th>events</th>\n",
       "      <th>game_num</th>\n",
       "      <th>my_color</th>\n",
       "      <th>my_point</th>\n",
       "      <th>opponent_point</th>\n",
       "      <th>opponent_wins</th>\n",
       "      <th>start_time</th>\n",
       "      <th>team_point</th>\n",
       "      <th>team_wins</th>\n",
       "      <th>win</th>\n",
       "      <th>date</th>\n",
       "      <th>white_wins</th>\n",
       "      <th>color_wins</th>\n",
       "      <th>white_point</th>\n",
       "      <th>color_point</th>\n",
       "      <th>game_winner</th>\n",
       "    </tr>\n",
       "    <tr>\n",
       "      <th>date</th>\n",
       "      <th>game_num</th>\n",
       "      <th></th>\n",
       "      <th></th>\n",
       "      <th></th>\n",
       "      <th></th>\n",
       "      <th></th>\n",
       "      <th></th>\n",
       "      <th></th>\n",
       "      <th></th>\n",
       "      <th></th>\n",
       "      <th></th>\n",
       "      <th></th>\n",
       "      <th></th>\n",
       "      <th></th>\n",
       "      <th></th>\n",
       "      <th></th>\n",
       "      <th></th>\n",
       "      <th></th>\n",
       "    </tr>\n",
       "  </thead>\n",
       "  <tbody>\n",
       "    <tr>\n",
       "      <th rowspan=\"3\" valign=\"top\">2018-03-16</th>\n",
       "      <th>0</th>\n",
       "      <td>2018-03-16 12:32:33</td>\n",
       "      <td>[(opponent_point, 2018-03-16 12:14:33, 0:00:47...</td>\n",
       "      <td>0</td>\n",
       "      <td>white</td>\n",
       "      <td>1</td>\n",
       "      <td>4</td>\n",
       "      <td>1</td>\n",
       "      <td>2018-03-16 12:14:33</td>\n",
       "      <td>5</td>\n",
       "      <td>2</td>\n",
       "      <td>True</td>\n",
       "      <td>2018-03-16</td>\n",
       "      <td>2</td>\n",
       "      <td>1</td>\n",
       "      <td>5</td>\n",
       "      <td>4</td>\n",
       "      <td>White</td>\n",
       "    </tr>\n",
       "    <tr>\n",
       "      <th>1</th>\n",
       "      <td>2018-03-16 12:52:11</td>\n",
       "      <td>[(opponent_point, 2018-03-16 12:32:35, 0:02:05...</td>\n",
       "      <td>1</td>\n",
       "      <td>white</td>\n",
       "      <td>1</td>\n",
       "      <td>5</td>\n",
       "      <td>1</td>\n",
       "      <td>2018-03-16 12:32:35</td>\n",
       "      <td>3</td>\n",
       "      <td>2</td>\n",
       "      <td>False</td>\n",
       "      <td>2018-03-16</td>\n",
       "      <td>2</td>\n",
       "      <td>1</td>\n",
       "      <td>3</td>\n",
       "      <td>5</td>\n",
       "      <td>Color</td>\n",
       "    </tr>\n",
       "    <tr>\n",
       "      <th>2</th>\n",
       "      <td>2018-03-16 13:08:21</td>\n",
       "      <td>[(team_point, 2018-03-16 12:52:10, 0:01:25), (...</td>\n",
       "      <td>2</td>\n",
       "      <td>white</td>\n",
       "      <td>1</td>\n",
       "      <td>3</td>\n",
       "      <td>1</td>\n",
       "      <td>2018-03-16 12:52:10</td>\n",
       "      <td>6</td>\n",
       "      <td>2</td>\n",
       "      <td>True</td>\n",
       "      <td>2018-03-16</td>\n",
       "      <td>2</td>\n",
       "      <td>1</td>\n",
       "      <td>6</td>\n",
       "      <td>3</td>\n",
       "      <td>White</td>\n",
       "    </tr>\n",
       "    <tr>\n",
       "      <th rowspan=\"2\" valign=\"top\">2018-03-19</th>\n",
       "      <th>0</th>\n",
       "      <td>2018-03-19 12:39:21</td>\n",
       "      <td>[(team_point, 2018-03-19 12:15:05, 0:01:59), (...</td>\n",
       "      <td>0</td>\n",
       "      <td>white</td>\n",
       "      <td>0</td>\n",
       "      <td>4</td>\n",
       "      <td>2</td>\n",
       "      <td>2018-03-19 12:15:05</td>\n",
       "      <td>4</td>\n",
       "      <td>0</td>\n",
       "      <td>False</td>\n",
       "      <td>2018-03-19</td>\n",
       "      <td>0</td>\n",
       "      <td>2</td>\n",
       "      <td>4</td>\n",
       "      <td>4</td>\n",
       "      <td>Color</td>\n",
       "    </tr>\n",
       "    <tr>\n",
       "      <th>1</th>\n",
       "      <td>2018-03-19 12:58:27</td>\n",
       "      <td>[(team_point, 2018-03-19 12:39:26, 0:02:28), (...</td>\n",
       "      <td>1</td>\n",
       "      <td>white</td>\n",
       "      <td>1</td>\n",
       "      <td>5</td>\n",
       "      <td>2</td>\n",
       "      <td>2018-03-19 12:39:26</td>\n",
       "      <td>4</td>\n",
       "      <td>0</td>\n",
       "      <td>False</td>\n",
       "      <td>2018-03-19</td>\n",
       "      <td>0</td>\n",
       "      <td>2</td>\n",
       "      <td>4</td>\n",
       "      <td>5</td>\n",
       "      <td>Color</td>\n",
       "    </tr>\n",
       "  </tbody>\n",
       "</table>\n",
       "</div>"
      ],
      "text/plain": [
       "                               end_time  \\\n",
       "date       game_num                       \n",
       "2018-03-16 0        2018-03-16 12:32:33   \n",
       "           1        2018-03-16 12:52:11   \n",
       "           2        2018-03-16 13:08:21   \n",
       "2018-03-19 0        2018-03-19 12:39:21   \n",
       "           1        2018-03-19 12:58:27   \n",
       "\n",
       "                                                                events  \\\n",
       "date       game_num                                                      \n",
       "2018-03-16 0         [(opponent_point, 2018-03-16 12:14:33, 0:00:47...   \n",
       "           1         [(opponent_point, 2018-03-16 12:32:35, 0:02:05...   \n",
       "           2         [(team_point, 2018-03-16 12:52:10, 0:01:25), (...   \n",
       "2018-03-19 0         [(team_point, 2018-03-19 12:15:05, 0:01:59), (...   \n",
       "           1         [(team_point, 2018-03-19 12:39:26, 0:02:28), (...   \n",
       "\n",
       "                     game_num my_color  my_point  opponent_point  \\\n",
       "date       game_num                                                \n",
       "2018-03-16 0                0    white         1               4   \n",
       "           1                1    white         1               5   \n",
       "           2                2    white         1               3   \n",
       "2018-03-19 0                0    white         0               4   \n",
       "           1                1    white         1               5   \n",
       "\n",
       "                    opponent_wins          start_time  team_point team_wins  \\\n",
       "date       game_num                                                           \n",
       "2018-03-16 0                    1 2018-03-16 12:14:33           5         2   \n",
       "           1                    1 2018-03-16 12:32:35           3         2   \n",
       "           2                    1 2018-03-16 12:52:10           6         2   \n",
       "2018-03-19 0                    2 2018-03-19 12:15:05           4         0   \n",
       "           1                    2 2018-03-19 12:39:26           4         0   \n",
       "\n",
       "                       win        date white_wins color_wins white_point  \\\n",
       "date       game_num                                                        \n",
       "2018-03-16 0          True  2018-03-16          2          1           5   \n",
       "           1         False  2018-03-16          2          1           3   \n",
       "           2          True  2018-03-16          2          1           6   \n",
       "2018-03-19 0         False  2018-03-19          0          2           4   \n",
       "           1         False  2018-03-19          0          2           4   \n",
       "\n",
       "                    color_point game_winner  \n",
       "date       game_num                          \n",
       "2018-03-16 0                  4       White  \n",
       "           1                  5       Color  \n",
       "           2                  3       White  \n",
       "2018-03-19 0                  4       Color  \n",
       "           1                  5       Color  "
      ]
     },
     "execution_count": 34,
     "metadata": {},
     "output_type": "execute_result"
    }
   ],
   "source": [
    "pdf"
   ]
  },
  {
   "cell_type": "code",
   "execution_count": 35,
   "metadata": {
    "ExecuteTime": {
     "end_time": "2018-03-19T14:45:28.563648Z",
     "start_time": "2018-03-19T14:45:28.555644Z"
    },
    "collapsed": true
   },
   "outputs": [],
   "source": [
    "def merge_two_dicts(x, y):\n",
    "    \"\"\"Given two dicts, merge them into a new dict as a shallow copy.\"\"\"\n",
    "    z = x.copy()\n",
    "    z.update(y)\n",
    "    return z"
   ]
  },
  {
   "cell_type": "code",
   "execution_count": 36,
   "metadata": {
    "ExecuteTime": {
     "end_time": "2018-03-19T14:45:29.075904Z",
     "start_time": "2018-03-19T14:45:29.065899Z"
    },
    "collapsed": true
   },
   "outputs": [],
   "source": [
    "scores = []\n",
    "for (date, game_num), game in pdf.iterrows():\n",
    "    base_dict = dict(date=date, game_num=game_num, white_wins=game.white_wins, color_wins=game.color_wins, game_winner=game.game_winner)    \n",
    "    scores.append(merge_two_dicts(base_dict, dict(team='white', team_score=game.white_point, my_score=game.my_point if game.my_color == 'white' else None)))\n",
    "    scores.append(merge_two_dicts(base_dict, dict(team='color', team_score=game.color_point, my_score=game.my_point if game.my_color == 'colors' else None)))\n",
    "\n",
    "score_df = pd.DataFrame(scores).set_index(['date', 'game_num', 'team'], drop=False)"
   ]
  },
  {
   "cell_type": "code",
   "execution_count": 37,
   "metadata": {
    "ExecuteTime": {
     "end_time": "2018-03-19T14:45:29.370051Z",
     "start_time": "2018-03-19T14:45:29.356044Z"
    },
    "collapsed": true
   },
   "outputs": [],
   "source": [
    "out_df = score_df[['date', 'white_wins', 'color_wins', 'game_num', 'game_winner', 'team', 'team_score', 'my_score']].sort_index(ascending=False, level=0).fillna(value='')\n",
    "out_df['date'] = out_df['date'].apply(lambda x: x.strftime('%Y-%m-%d'))"
   ]
  },
  {
   "cell_type": "code",
   "execution_count": 38,
   "metadata": {
    "ExecuteTime": {
     "end_time": "2018-03-19T14:45:29.727229Z",
     "start_time": "2018-03-19T14:45:29.708220Z"
    }
   },
   "outputs": [
    {
     "data": {
      "text/html": [
       "<div>\n",
       "<table border=\"1\" class=\"dataframe\">\n",
       "  <thead>\n",
       "    <tr style=\"text-align: right;\">\n",
       "      <th></th>\n",
       "      <th></th>\n",
       "      <th></th>\n",
       "      <th>date</th>\n",
       "      <th>white_wins</th>\n",
       "      <th>color_wins</th>\n",
       "      <th>game_num</th>\n",
       "      <th>game_winner</th>\n",
       "      <th>team</th>\n",
       "      <th>team_score</th>\n",
       "      <th>my_score</th>\n",
       "    </tr>\n",
       "    <tr>\n",
       "      <th>date</th>\n",
       "      <th>game_num</th>\n",
       "      <th>team</th>\n",
       "      <th></th>\n",
       "      <th></th>\n",
       "      <th></th>\n",
       "      <th></th>\n",
       "      <th></th>\n",
       "      <th></th>\n",
       "      <th></th>\n",
       "      <th></th>\n",
       "    </tr>\n",
       "  </thead>\n",
       "  <tbody>\n",
       "    <tr>\n",
       "      <th rowspan=\"4\" valign=\"top\">2018-03-19</th>\n",
       "      <th rowspan=\"2\" valign=\"top\">1</th>\n",
       "      <th>white</th>\n",
       "      <td>2018-03-19</td>\n",
       "      <td>0</td>\n",
       "      <td>2</td>\n",
       "      <td>1</td>\n",
       "      <td>Color</td>\n",
       "      <td>white</td>\n",
       "      <td>4</td>\n",
       "      <td>1</td>\n",
       "    </tr>\n",
       "    <tr>\n",
       "      <th>color</th>\n",
       "      <td>2018-03-19</td>\n",
       "      <td>0</td>\n",
       "      <td>2</td>\n",
       "      <td>1</td>\n",
       "      <td>Color</td>\n",
       "      <td>color</td>\n",
       "      <td>5</td>\n",
       "      <td></td>\n",
       "    </tr>\n",
       "    <tr>\n",
       "      <th rowspan=\"2\" valign=\"top\">0</th>\n",
       "      <th>white</th>\n",
       "      <td>2018-03-19</td>\n",
       "      <td>0</td>\n",
       "      <td>2</td>\n",
       "      <td>0</td>\n",
       "      <td>Color</td>\n",
       "      <td>white</td>\n",
       "      <td>4</td>\n",
       "      <td>0</td>\n",
       "    </tr>\n",
       "    <tr>\n",
       "      <th>color</th>\n",
       "      <td>2018-03-19</td>\n",
       "      <td>0</td>\n",
       "      <td>2</td>\n",
       "      <td>0</td>\n",
       "      <td>Color</td>\n",
       "      <td>color</td>\n",
       "      <td>4</td>\n",
       "      <td></td>\n",
       "    </tr>\n",
       "    <tr>\n",
       "      <th rowspan=\"6\" valign=\"top\">2018-03-16</th>\n",
       "      <th rowspan=\"2\" valign=\"top\">2</th>\n",
       "      <th>white</th>\n",
       "      <td>2018-03-16</td>\n",
       "      <td>2</td>\n",
       "      <td>1</td>\n",
       "      <td>2</td>\n",
       "      <td>White</td>\n",
       "      <td>white</td>\n",
       "      <td>6</td>\n",
       "      <td>1</td>\n",
       "    </tr>\n",
       "    <tr>\n",
       "      <th>color</th>\n",
       "      <td>2018-03-16</td>\n",
       "      <td>2</td>\n",
       "      <td>1</td>\n",
       "      <td>2</td>\n",
       "      <td>White</td>\n",
       "      <td>color</td>\n",
       "      <td>3</td>\n",
       "      <td></td>\n",
       "    </tr>\n",
       "    <tr>\n",
       "      <th rowspan=\"2\" valign=\"top\">1</th>\n",
       "      <th>white</th>\n",
       "      <td>2018-03-16</td>\n",
       "      <td>2</td>\n",
       "      <td>1</td>\n",
       "      <td>1</td>\n",
       "      <td>Color</td>\n",
       "      <td>white</td>\n",
       "      <td>3</td>\n",
       "      <td>1</td>\n",
       "    </tr>\n",
       "    <tr>\n",
       "      <th>color</th>\n",
       "      <td>2018-03-16</td>\n",
       "      <td>2</td>\n",
       "      <td>1</td>\n",
       "      <td>1</td>\n",
       "      <td>Color</td>\n",
       "      <td>color</td>\n",
       "      <td>5</td>\n",
       "      <td></td>\n",
       "    </tr>\n",
       "    <tr>\n",
       "      <th rowspan=\"2\" valign=\"top\">0</th>\n",
       "      <th>white</th>\n",
       "      <td>2018-03-16</td>\n",
       "      <td>2</td>\n",
       "      <td>1</td>\n",
       "      <td>0</td>\n",
       "      <td>White</td>\n",
       "      <td>white</td>\n",
       "      <td>5</td>\n",
       "      <td>1</td>\n",
       "    </tr>\n",
       "    <tr>\n",
       "      <th>color</th>\n",
       "      <td>2018-03-16</td>\n",
       "      <td>2</td>\n",
       "      <td>1</td>\n",
       "      <td>0</td>\n",
       "      <td>White</td>\n",
       "      <td>color</td>\n",
       "      <td>4</td>\n",
       "      <td></td>\n",
       "    </tr>\n",
       "  </tbody>\n",
       "</table>\n",
       "</div>"
      ],
      "text/plain": [
       "                                 date white_wins color_wins  game_num  \\\n",
       "date       game_num team                                                \n",
       "2018-03-19 1        white  2018-03-19          0          2         1   \n",
       "                    color  2018-03-19          0          2         1   \n",
       "           0        white  2018-03-19          0          2         0   \n",
       "                    color  2018-03-19          0          2         0   \n",
       "2018-03-16 2        white  2018-03-16          2          1         2   \n",
       "                    color  2018-03-16          2          1         2   \n",
       "           1        white  2018-03-16          2          1         1   \n",
       "                    color  2018-03-16          2          1         1   \n",
       "           0        white  2018-03-16          2          1         0   \n",
       "                    color  2018-03-16          2          1         0   \n",
       "\n",
       "                          game_winner   team  team_score my_score  \n",
       "date       game_num team                                           \n",
       "2018-03-19 1        white       Color  white           4        1  \n",
       "                    color       Color  color           5           \n",
       "           0        white       Color  white           4        0  \n",
       "                    color       Color  color           4           \n",
       "2018-03-16 2        white       White  white           6        1  \n",
       "                    color       White  color           3           \n",
       "           1        white       Color  white           3        1  \n",
       "                    color       Color  color           5           \n",
       "           0        white       White  white           5        1  \n",
       "                    color       White  color           4           "
      ]
     },
     "execution_count": 38,
     "metadata": {},
     "output_type": "execute_result"
    }
   ],
   "source": [
    "out_df"
   ]
  },
  {
   "cell_type": "code",
   "execution_count": 39,
   "metadata": {
    "ExecuteTime": {
     "end_time": "2018-03-19T14:45:31.448089Z",
     "start_time": "2018-03-19T14:45:30.095413Z"
    },
    "collapsed": true
   },
   "outputs": [],
   "source": [
    "data = out_df.as_matrix().tolist()\n",
    "wks = sh.worksheet_by_title('game_summaries')\n",
    "wks.insert_rows(2, values=data, number=len(data))"
   ]
  },
  {
   "cell_type": "code",
   "execution_count": null,
   "metadata": {
    "collapsed": true
   },
   "outputs": [],
   "source": []
  },
  {
   "cell_type": "code",
   "execution_count": null,
   "metadata": {
    "collapsed": true
   },
   "outputs": [],
   "source": []
  }
 ],
 "metadata": {
  "git": {
   "suppress_outputs": true
  },
  "hide_input": false,
  "kernelspec": {
   "display_name": "Python 3",
   "language": "python",
   "name": "python3"
  },
  "language_info": {
   "codemirror_mode": {
    "name": "ipython",
    "version": 3
   },
   "file_extension": ".py",
   "mimetype": "text/x-python",
   "name": "python",
   "nbconvert_exporter": "python",
   "pygments_lexer": "ipython3",
   "version": "3.6.0"
  },
  "varInspector": {
   "cols": {
    "lenName": 16,
    "lenType": 16,
    "lenVar": 40
   },
   "kernels_config": {
    "python": {
     "delete_cmd_postfix": "",
     "delete_cmd_prefix": "del ",
     "library": "var_list.py",
     "varRefreshCmd": "print(var_dic_list())"
    },
    "r": {
     "delete_cmd_postfix": ") ",
     "delete_cmd_prefix": "rm(",
     "library": "var_list.r",
     "varRefreshCmd": "cat(var_dic_list()) "
    }
   },
   "types_to_exclude": [
    "module",
    "function",
    "builtin_function_or_method",
    "instance",
    "_Feature"
   ],
   "window_display": false
  }
 },
 "nbformat": 4,
 "nbformat_minor": 2
}
