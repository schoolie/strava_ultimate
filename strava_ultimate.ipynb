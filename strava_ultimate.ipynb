{
 "cells": [
  {
   "cell_type": "code",
   "execution_count": 1,
   "metadata": {
    "ExecuteTime": {
     "end_time": "2017-10-11T15:07:23.081429Z",
     "start_time": "2017-10-11T15:07:22.576126Z"
    }
   },
   "outputs": [],
   "source": [
    "import stravalib\n",
    "import logging\n",
    "from xml.dom import minidom\n",
    "import dateutil\n",
    "import numpy as np\n",
    "\n",
    "logger = logging.getLogger()\n",
    "logger.setLevel(logging.ERROR)"
   ]
  },
  {
   "cell_type": "code",
   "execution_count": 2,
   "metadata": {
    "ExecuteTime": {
     "end_time": "2017-10-11T15:07:23.920932Z",
     "start_time": "2017-10-11T15:07:23.470662Z"
    }
   },
   "outputs": [],
   "source": [
    "#Global Variables - put your data in the file 'client.secret' and separate the fields with a comma!\n",
    "client = stravalib.client.Client()\n",
    "access_token = 'e3ccedc91fceef32077fbb31fc44676446d14bdd'\n",
    "\n",
    "client.access_token = access_token\n",
    "athlete = client.get_athlete()"
   ]
  },
  {
   "cell_type": "code",
   "execution_count": 3,
   "metadata": {
    "ExecuteTime": {
     "end_time": "2017-10-11T15:07:24.222113Z",
     "start_time": "2017-10-11T15:07:24.212107Z"
    }
   },
   "outputs": [
    {
     "data": {
      "text/html": [
       "<a href=\"https://www.strava.com/oauth/authorize?client_id=19435&redirect_uri=http%3A%2F%2Flocalhost%3A8282%2Fauthorized&approval_prompt=auto&response_type=code&scope=view_private%2Cwrite\">https://www.strava.com/oauth/authorize?client_id=19435&redirect_uri=http%3A%2F%2Flocalhost%3A8282%2Fauthorized&approval_prompt=auto&response_type=code&scope=view_private%2Cwrite</a>"
      ],
      "text/plain": [
       "<IPython.core.display.HTML object>"
      ]
     },
     "metadata": {},
     "output_type": "display_data"
    }
   ],
   "source": [
    "auth_url= client.authorization_url(client_id=19435, redirect_uri='http://localhost:8282/authorized', approval_prompt=u'auto', scope='view_private,write', state=None)\n",
    "from IPython.core.display import display, HTML\n",
    "display(HTML(\"\"\"<a href=\"{}\">{}</a>\"\"\".format(auth_url,auth_url)))"
   ]
  },
  {
   "cell_type": "code",
   "execution_count": 4,
   "metadata": {
    "ExecuteTime": {
     "end_time": "2017-10-11T15:07:24.907524Z",
     "start_time": "2017-10-11T15:07:24.802461Z"
    }
   },
   "outputs": [],
   "source": [
    "code = '6d057263b427852b0489af26e921f8fd25a78852'\n",
    "access_token = client.exchange_code_for_token(client_id=19435, client_secret='45b776d5beceeb34c290b8a56bf9829d6d4ea5d7', code=code)\n"
   ]
  },
  {
   "cell_type": "code",
   "execution_count": 5,
   "metadata": {
    "ExecuteTime": {
     "end_time": "2017-10-11T15:07:25.597938Z",
     "start_time": "2017-10-11T15:07:25.297758Z"
    }
   },
   "outputs": [
    {
     "name": "stdout",
     "output_type": "stream",
     "text": [
      "athlete name Brian, athlete id 3360678.\n"
     ]
    }
   ],
   "source": [
    "client = stravalib.client.Client(access_token=access_token)\n",
    "athlete = client.get_athlete()\n",
    "print('athlete name %s, athlete id %s.' %(athlete.firstname, athlete.id))\n"
   ]
  },
  {
   "cell_type": "code",
   "execution_count": 6,
   "metadata": {
    "ExecuteTime": {
     "end_time": "2017-10-11T15:07:26.055212Z",
     "start_time": "2017-10-11T15:07:26.044205Z"
    }
   },
   "outputs": [
    {
     "data": {
      "text/plain": [
       "datetime.datetime(2017, 9, 28, 0, 0)"
      ]
     },
     "execution_count": 6,
     "metadata": {},
     "output_type": "execute_result"
    }
   ],
   "source": [
    "import datetime\n",
    "lap_start_date = datetime.datetime(2017, 9, 28)\n",
    "lap_start_date"
   ]
  },
  {
   "cell_type": "code",
   "execution_count": 7,
   "metadata": {
    "ExecuteTime": {
     "end_time": "2017-10-11T15:07:27.232918Z",
     "start_time": "2017-10-11T15:07:26.612546Z"
    },
    "scrolled": false
   },
   "outputs": [
    {
     "name": "stdout",
     "output_type": "stream",
     "text": [
      "Ultimate Run 2017-09-29 17:16:08+00:00\n",
      "Ultimate Run 2017-10-11 17:17:28+00:00\n"
     ]
    }
   ],
   "source": [
    "runs = []\n",
    "for activity in client.get_activities(after=lap_start_date):\n",
    "    if 'ltimate' in activity.name and activity.type == 'Run':\n",
    "        print(activity.name, activity.type, activity.start_date)\n",
    "        runs.append(activity)"
   ]
  },
  {
   "cell_type": "code",
   "execution_count": 8,
   "metadata": {
    "ExecuteTime": {
     "end_time": "2017-10-11T15:07:30.640962Z",
     "start_time": "2017-10-11T15:07:30.310764Z"
    }
   },
   "outputs": [
    {
     "name": "stdout",
     "output_type": "stream",
     "text": [
      "<Activity id=1207538661 name='Ultimate' resource_state=2>\n",
      "0:19:06\n",
      "0:02:25\n",
      "0:01:37\n",
      "0:03:59\n",
      "0:00:29\n",
      "0:02:36\n",
      "0:01:25\n",
      "0:00:59\n",
      "0:01:26\n",
      "0:00:01\n",
      "0:00:01\n",
      "0:01:49\n",
      "0:04:01\n",
      "0:01:30\n",
      "0:01:16\n",
      "0:00:11\n",
      "0:00:02\n",
      "<Activity id=1225759439 name='Ultimate' resource_state=2>\n",
      "0:19:06\n",
      "0:02:25\n",
      "0:01:37\n",
      "0:03:59\n",
      "0:00:29\n",
      "0:02:36\n",
      "0:01:25\n",
      "0:00:59\n",
      "0:01:26\n",
      "0:00:01\n",
      "0:00:01\n",
      "0:01:49\n",
      "0:04:01\n",
      "0:01:30\n",
      "0:01:16\n",
      "0:00:11\n",
      "0:00:02\n"
     ]
    }
   ],
   "source": [
    "for run in runs:\n",
    "    print(run)\n",
    "    for lap in runs[1].laps:\n",
    "        print(lap.elapsed_time)"
   ]
  },
  {
   "cell_type": "code",
   "execution_count": 9,
   "metadata": {
    "ExecuteTime": {
     "end_time": "2017-10-11T15:07:32.224911Z",
     "start_time": "2017-10-11T15:07:32.215906Z"
    }
   },
   "outputs": [
    {
     "data": {
      "text/plain": [
       "<ActivityLap id=3810821033 name='Lap 33' resource_state=2>"
      ]
     },
     "execution_count": 9,
     "metadata": {},
     "output_type": "execute_result"
    }
   ],
   "source": [
    "lap"
   ]
  },
  {
   "cell_type": "code",
   "execution_count": 10,
   "metadata": {
    "ExecuteTime": {
     "end_time": "2017-10-11T15:07:33.149466Z",
     "start_time": "2017-10-11T15:07:33.133456Z"
    },
    "collapsed": true
   },
   "outputs": [],
   "source": [
    "\n",
    "def xml_to_float(element):\n",
    "    if element is not None:\n",
    "        return float(element[0].firstChild.data)\n",
    "    else:\n",
    "        return np.nan\n",
    "        \n",
    "def xml_to_time(element):\n",
    "    if element is not None:\n",
    "        return datetime.datetime.strptime(element[0].firstChild.data, '%Y-%m-%dT%H:%M:%S.%fZ')\n",
    "#         return dateutil.parser.parse(element[0].firstChild.data)\n",
    "    else:\n",
    "        return np.nan"
   ]
  },
  {
   "cell_type": "code",
   "execution_count": 47,
   "metadata": {
    "ExecuteTime": {
     "end_time": "2017-10-11T15:15:51.117554Z",
     "start_time": "2017-10-11T15:15:50.850420Z"
    }
   },
   "outputs": [],
   "source": [
    "class Dummy(object):\n",
    "    pass\n",
    "\n",
    "self = Dummy()\n",
    "\n",
    "filename = 'activity_2088811850.tcx'   \n",
    "       \n",
    "    \n",
    "    \n",
    "doc = minidom.parse(filename)\n",
    "doc.normalize()\n",
    "self.tcx = doc.documentElement   \n",
    "\n",
    "points = []\n",
    "\n",
    "lap_starts = []\n",
    "for lap in self.tcx.getElementsByTagName('Lap'):\n",
    "    lap_starts.append(lap.attributes.items()[0][1])\n",
    "    \n",
    "lap_starts = [datetime.datetime.strptime(t, '%Y-%m-%dT%H:%M:%S.000Z') for t in lap_starts]\n",
    "lap_starts = lap_starts[1:] # Drop first lap (start of day)\n",
    "\n",
    "\n",
    "#     for track in lap.getElementsByTagName('Track'):\n",
    "#         for trackpoint in track.getElementsByTagName('Trackpoint'):     \n",
    "\n",
    "#             _pos = trackpoint.getElementsByTagName('Position') or None\n",
    "#             if _pos:\n",
    "#                 _lat = _pos[0].getElementsByTagName('LatitudeDegrees')\n",
    "#                 _lon = _pos[0].getElementsByTagName('LongitudeDegrees')\n",
    "#             else:\n",
    "#                 _lat = None\n",
    "#                 _lon = None\n",
    "\n",
    "#             _time = trackpoint.getElementsByTagName('Time')\n",
    "#             _dist = trackpoint.getElementsByTagName('DistanceMeters') or None\n",
    "#             _alt = trackpoint.getElementsByTagName('AltitudeMeters') or None\n",
    "\n",
    "#             _hr_cont = trackpoint.getElementsByTagName('HeartRateBpm') or None\n",
    "#             if _hr_cont:\n",
    "#                 _hr = _hr_cont[0].getElementsByTagName('Value') or None\n",
    "#             else:\n",
    "#                 _hr = None\n",
    "\n",
    "#             _cad = trackpoint.getElementsByTagName('Cadence') or None\n",
    "\n",
    "\n",
    "\n",
    "#             _point = {'lat': xml_to_float(_lat),\n",
    "#                       'lon': xml_to_float(_lon),\n",
    "#                       'time': xml_to_time(_time),\n",
    "#                       'alt':  xml_to_float(_alt),\n",
    "#                       'hr':   xml_to_float(_hr),\n",
    "#                       'cad':  xml_to_float(_cad),\n",
    "#                       'dist': xml_to_float(_dist),\n",
    "#                      }\n",
    "#             points.append(_point)\n",
    "\n",
    "# self.points = points\n",
    "# # self.activity_type = self.tcx.getElementsByTagName('Activity')[0].attributes.getNamedItem('Sport')\n",
    "# self.activity_type = 'Biking'"
   ]
  },
  {
   "cell_type": "code",
   "execution_count": 49,
   "metadata": {
    "ExecuteTime": {
     "end_time": "2017-10-11T15:15:55.235612Z",
     "start_time": "2017-10-11T15:15:55.216602Z"
    }
   },
   "outputs": [
    {
     "data": {
      "text/plain": [
       "[[4, datetime.datetime(2017, 10, 11, 17, 36, 39)],\n",
       " [1, datetime.datetime(2017, 10, 11, 17, 39, 5)],\n",
       " [1, datetime.datetime(2017, 10, 11, 17, 40, 43)],\n",
       " [2, datetime.datetime(2017, 10, 11, 17, 44, 43)],\n",
       " [2, datetime.datetime(2017, 10, 11, 17, 45, 14)],\n",
       " [3, datetime.datetime(2017, 10, 11, 17, 47, 53)],\n",
       " [2, datetime.datetime(2017, 10, 11, 17, 49, 20)],\n",
       " [2, datetime.datetime(2017, 10, 11, 17, 50, 20)],\n",
       " [2, datetime.datetime(2017, 10, 11, 17, 51, 45)],\n",
       " [4, datetime.datetime(2017, 10, 11, 17, 51, 53)],\n",
       " [2, datetime.datetime(2017, 10, 11, 17, 53, 44)],\n",
       " [1, datetime.datetime(2017, 10, 11, 17, 57, 45)],\n",
       " [1, datetime.datetime(2017, 10, 11, 17, 59, 16)],\n",
       " [1, datetime.datetime(2017, 10, 11, 18, 0, 32)],\n",
       " [4, datetime.datetime(2017, 10, 11, 18, 0, 46)]]"
      ]
     },
     "execution_count": 49,
     "metadata": {},
     "output_type": "execute_result"
    }
   ],
   "source": [
    "press_delta = datetime.timedelta(0,2)\n",
    "\n",
    "presses = 1\n",
    "\n",
    "events = []\n",
    "\n",
    "for n in range(len(lap_starts) - 1):\n",
    "    \n",
    "    \n",
    "    time = lap_starts[n]\n",
    "    \n",
    "    dt = lap_starts[n+1] - lap_starts[n]\n",
    "    \n",
    "    # print(presses, time, dt, dt > press_delta)\n",
    "    \n",
    "    \n",
    "    if dt > press_delta:\n",
    "        events.append([presses, time])\n",
    "        presses = 1\n",
    "        \n",
    "    else:        \n",
    "        presses += 1\n",
    "        \n",
    "events.append([presses, time])\n",
    "\n",
    "events"
   ]
  },
  {
   "cell_type": "code",
   "execution_count": 50,
   "metadata": {
    "ExecuteTime": {
     "end_time": "2017-10-11T15:15:55.463726Z",
     "start_time": "2017-10-11T15:15:55.449719Z"
    }
   },
   "outputs": [
    {
     "data": {
      "text/plain": [
       "[[4, datetime.datetime(2017, 10, 11, 17, 36, 39)],\n",
       " [1, datetime.datetime(2017, 10, 11, 17, 39, 5)],\n",
       " [1, datetime.datetime(2017, 10, 11, 17, 40, 43)],\n",
       " [2, datetime.datetime(2017, 10, 11, 17, 44, 43)],\n",
       " [2, datetime.datetime(2017, 10, 11, 17, 45, 14)],\n",
       " [3, datetime.datetime(2017, 10, 11, 17, 47, 53)],\n",
       " [2, datetime.datetime(2017, 10, 11, 17, 49, 20)],\n",
       " [2, datetime.datetime(2017, 10, 11, 17, 50, 20)],\n",
       " [2, datetime.datetime(2017, 10, 11, 17, 51, 45)],\n",
       " [4, datetime.datetime(2017, 10, 11, 17, 51, 53)],\n",
       " [2, datetime.datetime(2017, 10, 11, 17, 53, 44)],\n",
       " [1, datetime.datetime(2017, 10, 11, 17, 57, 45)],\n",
       " [1, datetime.datetime(2017, 10, 11, 17, 59, 16)],\n",
       " [1, datetime.datetime(2017, 10, 11, 18, 0, 32)],\n",
       " [4, datetime.datetime(2017, 10, 11, 18, 0, 46)]]"
      ]
     },
     "execution_count": 50,
     "metadata": {},
     "output_type": "execute_result"
    }
   ],
   "source": [
    "events"
   ]
  },
  {
   "cell_type": "code",
   "execution_count": 55,
   "metadata": {
    "ExecuteTime": {
     "end_time": "2017-10-11T15:16:10.799390Z",
     "start_time": "2017-10-11T15:16:10.791386Z"
    },
    "collapsed": true
   },
   "outputs": [],
   "source": [
    "event_lookup = [\n",
    "    '',\n",
    "    'team_point',\n",
    "    'opponent_point',\n",
    "    'my_point',\n",
    "    'game',\n",
    "]"
   ]
  },
  {
   "cell_type": "code",
   "execution_count": 56,
   "metadata": {
    "ExecuteTime": {
     "end_time": "2017-10-11T15:16:10.994487Z",
     "start_time": "2017-10-11T15:16:10.982481Z"
    }
   },
   "outputs": [
    {
     "data": {
      "text/plain": [
       "[{'end_time': datetime.datetime(2017, 10, 11, 17, 36, 39),\n",
       "  'my_point': 0,\n",
       "  'opponent_point': 0,\n",
       "  'team_point': 0},\n",
       " {'end_time': datetime.datetime(2017, 10, 11, 17, 51, 53),\n",
       "  'my_point': 1,\n",
       "  'opponent_point': 5,\n",
       "  'team_point': 3},\n",
       " {'end_time': datetime.datetime(2017, 10, 11, 18, 0, 46),\n",
       "  'my_point': 0,\n",
       "  'opponent_point': 1,\n",
       "  'team_point': 3},\n",
       " {'my_point': 0, 'opponent_point': 0, 'team_point': 0}]"
      ]
     },
     "execution_count": 56,
     "metadata": {},
     "output_type": "execute_result"
    }
   ],
   "source": [
    "games = []\n",
    "\n",
    "base_game = {'my_point': 0, 'team_point': 0, 'opponent_point': 0}\n",
    "game = base_game\n",
    "for event in events:\n",
    "    game['end_time'] = event[1]\n",
    "\n",
    "    event_type = event_lookup[event[0]]\n",
    "    if event_type == 'game':\n",
    "        games.append(game)\n",
    "        game = {'my_point': 0, 'team_point': 0, 'opponent_point': 0}\n",
    "        \n",
    "    elif event_type == 'my_point':\n",
    "        game[event_type] += 1\n",
    "        game['team_point'] += 1\n",
    "    else:\n",
    "        game[event_type] += 1\n",
    "\n",
    "games.append(game)\n",
    "games"
   ]
  },
  {
   "cell_type": "code",
   "execution_count": 57,
   "metadata": {
    "ExecuteTime": {
     "end_time": "2017-10-11T15:16:11.205593Z",
     "start_time": "2017-10-11T15:16:11.199590Z"
    },
    "collapsed": true
   },
   "outputs": [],
   "source": [
    "import pandas as pd"
   ]
  },
  {
   "cell_type": "code",
   "execution_count": 58,
   "metadata": {
    "ExecuteTime": {
     "end_time": "2017-10-11T15:16:11.895938Z",
     "start_time": "2017-10-11T15:16:11.886933Z"
    }
   },
   "outputs": [
    {
     "data": {
      "text/html": [
       "<div>\n",
       "<table border=\"1\" class=\"dataframe\">\n",
       "  <thead>\n",
       "    <tr style=\"text-align: right;\">\n",
       "      <th></th>\n",
       "      <th>end_time</th>\n",
       "      <th>my_point</th>\n",
       "      <th>opponent_point</th>\n",
       "      <th>team_point</th>\n",
       "    </tr>\n",
       "  </thead>\n",
       "  <tbody>\n",
       "    <tr>\n",
       "      <th>0</th>\n",
       "      <td>2017-10-11 17:36:39</td>\n",
       "      <td>0</td>\n",
       "      <td>0</td>\n",
       "      <td>0</td>\n",
       "    </tr>\n",
       "    <tr>\n",
       "      <th>1</th>\n",
       "      <td>2017-10-11 17:51:53</td>\n",
       "      <td>1</td>\n",
       "      <td>5</td>\n",
       "      <td>3</td>\n",
       "    </tr>\n",
       "    <tr>\n",
       "      <th>2</th>\n",
       "      <td>2017-10-11 18:00:46</td>\n",
       "      <td>0</td>\n",
       "      <td>1</td>\n",
       "      <td>3</td>\n",
       "    </tr>\n",
       "    <tr>\n",
       "      <th>3</th>\n",
       "      <td>NaT</td>\n",
       "      <td>0</td>\n",
       "      <td>0</td>\n",
       "      <td>0</td>\n",
       "    </tr>\n",
       "  </tbody>\n",
       "</table>\n",
       "</div>"
      ],
      "text/plain": [
       "             end_time  my_point  opponent_point  team_point\n",
       "0 2017-10-11 17:36:39         0               0           0\n",
       "1 2017-10-11 17:51:53         1               5           3\n",
       "2 2017-10-11 18:00:46         0               1           3\n",
       "3                 NaT         0               0           0"
      ]
     },
     "execution_count": 58,
     "metadata": {},
     "output_type": "execute_result"
    }
   ],
   "source": [
    "pd.DataFrame(games)"
   ]
  },
  {
   "cell_type": "code",
   "execution_count": null,
   "metadata": {
    "collapsed": true
   },
   "outputs": [],
   "source": []
  }
 ],
 "metadata": {
  "hide_input": false,
  "kernelspec": {
   "display_name": "Python 3",
   "language": "python",
   "name": "python3"
  },
  "language_info": {
   "codemirror_mode": {
    "name": "ipython",
    "version": 3
   },
   "file_extension": ".py",
   "mimetype": "text/x-python",
   "name": "python",
   "nbconvert_exporter": "python",
   "pygments_lexer": "ipython3",
   "version": "3.6.0"
  },
  "varInspector": {
   "cols": {
    "lenName": 16,
    "lenType": 16,
    "lenVar": 40
   },
   "kernels_config": {
    "python": {
     "delete_cmd_postfix": "",
     "delete_cmd_prefix": "del ",
     "library": "var_list.py",
     "varRefreshCmd": "print(var_dic_list())"
    },
    "r": {
     "delete_cmd_postfix": ") ",
     "delete_cmd_prefix": "rm(",
     "library": "var_list.r",
     "varRefreshCmd": "cat(var_dic_list()) "
    }
   },
   "types_to_exclude": [
    "module",
    "function",
    "builtin_function_or_method",
    "instance",
    "_Feature"
   ],
   "window_display": false
  }
 },
 "nbformat": 4,
 "nbformat_minor": 2
}
