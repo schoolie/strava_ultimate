{
 "cells": [
  {
   "cell_type": "code",
   "execution_count": 1,
   "metadata": {
    "ExecuteTime": {
     "end_time": "2018-01-03T17:00:51.668824Z",
     "start_time": "2018-01-03T17:00:50.843411Z"
    },
    "collapsed": true
   },
   "outputs": [],
   "source": [
    "import stravalib\n",
    "import logging\n",
    "from xml.dom import minidom\n",
    "import dateutil\n",
    "import numpy as np\n",
    "import pandas as pd\n",
    "\n",
    "import os\n",
    "\n",
    "from datetime import datetime, timedelta, date\n",
    "\n",
    "\n",
    "logger = logging.getLogger()\n",
    "logger.setLevel(logging.ERROR)"
   ]
  },
  {
   "cell_type": "code",
   "execution_count": 2,
   "metadata": {
    "ExecuteTime": {
     "end_time": "2018-01-03T17:00:52.892435Z",
     "start_time": "2018-01-03T17:00:52.093036Z"
    }
   },
   "outputs": [
    {
     "data": {
      "text/html": [
       "<a href=\"https://www.strava.com/oauth/authorize?client_id=19435&redirect_uri=http%3A%2F%2Flocalhost%3A8282%2Fauthorized&approval_prompt=auto&response_type=code&scope=view_private%2Cwrite\">https://www.strava.com/oauth/authorize?client_id=19435&redirect_uri=http%3A%2F%2Flocalhost%3A8282%2Fauthorized&approval_prompt=auto&response_type=code&scope=view_private%2Cwrite</a>"
      ],
      "text/plain": [
       "<IPython.core.display.HTML object>"
      ]
     },
     "metadata": {},
     "output_type": "display_data"
    },
    {
     "name": "stdout",
     "output_type": "stream",
     "text": [
      "athlete name Brian, athlete id 3360678.\n"
     ]
    }
   ],
   "source": [
    "#### Setting up strava API client\n",
    "\n",
    "#Global Variables - put your data in the file 'client.secret' and separate the fields with a comma!\n",
    "client = stravalib.client.Client()\n",
    "access_token = 'e3ccedc91fceef32077fbb31fc44676446d14bdd'\n",
    "\n",
    "client.access_token = access_token\n",
    "athlete = client.get_athlete()\n",
    "\n",
    "## Enable accessing private activities\n",
    "auth_url = client.authorization_url(client_id=19435, redirect_uri='http://localhost:8282/authorized', approval_prompt=u'auto', scope='view_private,write', state=None)\n",
    "from IPython.core.display import display, HTML\n",
    "display(HTML(\"\"\"<a href=\"{}\">{}</a>\"\"\".format(auth_url,auth_url)))\n",
    "\n",
    "code = '6d057263b427852b0489af26e921f8fd25a78852'\n",
    "access_token = client.exchange_code_for_token(client_id=19435, client_secret='45b776d5beceeb34c290b8a56bf9829d6d4ea5d7', code=code)\n",
    "\n",
    "client = stravalib.client.Client(access_token=access_token)\n",
    "athlete = client.get_athlete()\n",
    "print('athlete name %s, athlete id %s.' %(athlete.firstname, athlete.id))"
   ]
  },
  {
   "cell_type": "code",
   "execution_count": 3,
   "metadata": {
    "ExecuteTime": {
     "end_time": "2018-01-03T17:00:54.303140Z",
     "start_time": "2018-01-03T17:00:53.011495Z"
    },
    "collapsed": true
   },
   "outputs": [],
   "source": [
    "### Setting up google sheets client\n",
    "import gspread\n",
    "from oauth2client.service_account import ServiceAccountCredentials\n",
    "\n",
    "\n",
    "# use creds to create a client to interact with the Google Drive API\n",
    "scope = ['https://spreadsheets.google.com/feeds']\n",
    "creds = ServiceAccountCredentials.from_json_keyfile_name('client_secret.json', scope)\n",
    "gspread_client = gspread.authorize(creds)\n",
    " \n"
   ]
  },
  {
   "cell_type": "code",
   "execution_count": 4,
   "metadata": {
    "ExecuteTime": {
     "end_time": "2018-01-03T17:00:55.702840Z",
     "start_time": "2018-01-03T17:00:54.434206Z"
    }
   },
   "outputs": [],
   "source": [
    "## Get last entry from Data Spreadsheet\n",
    "sheet = gspread_client.open(\"Milburn Ultimate Scores\").sheet1\n",
    "\n",
    "dates_recorded = [datetime.strptime(d, '%Y-%m-%d') for d in sheet.col_values(1) if d != '' and d != 'Date']\n",
    "lap_start_date = max(dates_recorded) + timedelta(days=1)"
   ]
  },
  {
   "cell_type": "code",
   "execution_count": 5,
   "metadata": {
    "ExecuteTime": {
     "end_time": "2018-01-03T17:00:56.832404Z",
     "start_time": "2018-01-03T17:00:56.225101Z"
    },
    "scrolled": false
   },
   "outputs": [],
   "source": [
    "runs = []\n",
    "for activity in client.get_activities(after=lap_start_date):\n",
    "    if 'ltimate' in activity.name and activity.type == 'Run':\n",
    "        runs.append(activity)"
   ]
  },
  {
   "cell_type": "code",
   "execution_count": 6,
   "metadata": {
    "ExecuteTime": {
     "end_time": "2018-01-03T17:00:56.956466Z",
     "start_time": "2018-01-03T17:00:56.951464Z"
    },
    "code_folding": [
     0
    ],
    "collapsed": true
   },
   "outputs": [],
   "source": [
    "def get_strava_description(activity):\n",
    "    new_activity = client.get_activity(activity.id)\n",
    "    try:\n",
    "        scores, color = new_activity.description.split(' ')\n",
    "        try:\n",
    "            team_score, opponent_score = scores.split('-')\n",
    "        except ValueError:\n",
    "            team_score, opponent_score, color = None, None, None     \n",
    "    except ValueError:\n",
    "        scores = None\n",
    "        team_score, opponent_score, color = None, None, None           \n",
    "\n",
    "    return team_score, opponent_score, color.lower()"
   ]
  },
  {
   "cell_type": "code",
   "execution_count": 7,
   "metadata": {
    "ExecuteTime": {
     "end_time": "2018-01-03T17:00:57.177577Z",
     "start_time": "2018-01-03T17:00:57.130553Z"
    },
    "code_folding": [
     0
    ]
   },
   "outputs": [],
   "source": [
    "def extract_events(run):\n",
    "    lap_nums = []\n",
    "    start_times = []\n",
    "    elapsed_times = []\n",
    "    for l in run.laps:\n",
    "        lap_nums.append(int(l.name.split(' ')[-1]))\n",
    "        start_times.append(l.start_date_local)\n",
    "        elapsed_times.append(l.elapsed_time)\n",
    "\n",
    "    lap_nums = np.array(lap_nums)\n",
    "    \n",
    "    events = []\n",
    "    for n, s, e in zip(np.diff(lap_nums), start_times, elapsed_times):\n",
    "        events.append([n, s, e])\n",
    "    \n",
    "    return (events)\n",
    "        \n",
    "def process_events(events):\n",
    "    \n",
    "    event_lookup = [\n",
    "        '',\n",
    "        'team_point',\n",
    "        'opponent_point',\n",
    "        'my_point',\n",
    "        'game',\n",
    "        'game'\n",
    "    ]\n",
    "    \n",
    "    games = []\n",
    "    game_num = 0\n",
    "    added = False\n",
    "\n",
    "    base_game = {'my_point': 0, 'team_point': 0, 'opponent_point': 0, 'game_num': 0, 'events':[], 'start_time':None, 'end_time':None}\n",
    "    game = base_game\n",
    "\n",
    "    for event in events:\n",
    "        if game['start_time'] is None:\n",
    "            game['start_time'] = event[1]\n",
    "\n",
    "        game['end_time'] = event[1] + event[2]\n",
    "\n",
    "        event_type = event_lookup[event[0]]\n",
    "        game['events'].append((event_type, event[1], event[2]))\n",
    "\n",
    "\n",
    "        if event_type == 'game':\n",
    "            games.append(game)\n",
    "            game_num += 1\n",
    "            game = {'my_point': 0, 'team_point': 0, 'opponent_point': 0, 'game_num': game_num, 'events':[], 'start_time':None, 'end_time':None}\n",
    "            added = True\n",
    "\n",
    "        elif event_type == 'my_point':\n",
    "            game[event_type] += 1\n",
    "            game['team_point'] += 1\n",
    "            added = False\n",
    "\n",
    "        else:\n",
    "            game[event_type] += 1\n",
    "            added = False\n",
    "\n",
    "\n",
    "    if not added:\n",
    "        games.append(game)\n",
    "    \n",
    "    \n",
    "    ## Assign game winners\n",
    "    for game in games:\n",
    "        if game['team_point'] > game['opponent_point']:\n",
    "            game['win'] = True\n",
    "        else:\n",
    "            game['win'] = False\n",
    "            \n",
    "    return games"
   ]
  },
  {
   "cell_type": "code",
   "execution_count": 8,
   "metadata": {
    "ExecuteTime": {
     "end_time": "2018-01-03T17:01:01.043509Z",
     "start_time": "2018-01-03T17:00:58.751363Z"
    }
   },
   "outputs": [
    {
     "name": "stdout",
     "output_type": "stream",
     "text": [
      "2017-12-18 12:09:17 ('5', '0', 'colors')\n",
      "2017-12-20 12:28:56 ('1', '2', 'white')\n",
      "2018-01-03 12:16:29 ('2', '1', 'white')\n"
     ]
    }
   ],
   "source": [
    "games = []\n",
    "for run in runs:\n",
    "    team_score, opponent_score, color = get_strava_description(run)\n",
    "    print(run.start_date_local, get_strava_description(run))\n",
    "    events = extract_events(run)\n",
    "    current_games = process_events(events)\n",
    "    for g in current_games:\n",
    "        g['my_color'] = color\n",
    "\n",
    "    games = games + current_games\n",
    "    "
   ]
  },
  {
   "cell_type": "code",
   "execution_count": 9,
   "metadata": {
    "ExecuteTime": {
     "end_time": "2018-01-03T17:01:02.571272Z",
     "start_time": "2018-01-03T17:01:02.505239Z"
    }
   },
   "outputs": [
    {
     "data": {
      "text/html": [
       "<div>\n",
       "<table border=\"1\" class=\"dataframe\">\n",
       "  <thead>\n",
       "    <tr style=\"text-align: right;\">\n",
       "      <th></th>\n",
       "      <th></th>\n",
       "      <th>end_time</th>\n",
       "      <th>events</th>\n",
       "      <th>game_num</th>\n",
       "      <th>my_color</th>\n",
       "      <th>my_point</th>\n",
       "      <th>opponent_point</th>\n",
       "      <th>start_time</th>\n",
       "      <th>team_point</th>\n",
       "      <th>win</th>\n",
       "      <th>date</th>\n",
       "    </tr>\n",
       "    <tr>\n",
       "      <th>date</th>\n",
       "      <th>game_num</th>\n",
       "      <th></th>\n",
       "      <th></th>\n",
       "      <th></th>\n",
       "      <th></th>\n",
       "      <th></th>\n",
       "      <th></th>\n",
       "      <th></th>\n",
       "      <th></th>\n",
       "      <th></th>\n",
       "      <th></th>\n",
       "    </tr>\n",
       "  </thead>\n",
       "  <tbody>\n",
       "    <tr>\n",
       "      <th rowspan=\"4\" valign=\"top\">2017-12-18</th>\n",
       "      <th>0</th>\n",
       "      <td>2017-12-18 12:29:15</td>\n",
       "      <td>[(team_point, 2017-12-18 12:09:17, 0:03:56), (...</td>\n",
       "      <td>0</td>\n",
       "      <td>colors</td>\n",
       "      <td>3</td>\n",
       "      <td>4</td>\n",
       "      <td>2017-12-18 12:09:17</td>\n",
       "      <td>5</td>\n",
       "      <td>True</td>\n",
       "      <td>2017-12-18</td>\n",
       "    </tr>\n",
       "    <tr>\n",
       "      <th>1</th>\n",
       "      <td>2017-12-18 12:53:50</td>\n",
       "      <td>[(team_point, 2017-12-18 12:29:19, 0:02:23), (...</td>\n",
       "      <td>1</td>\n",
       "      <td>colors</td>\n",
       "      <td>2</td>\n",
       "      <td>5</td>\n",
       "      <td>2017-12-18 12:29:19</td>\n",
       "      <td>10</td>\n",
       "      <td>True</td>\n",
       "      <td>2017-12-18</td>\n",
       "    </tr>\n",
       "    <tr>\n",
       "      <th>2</th>\n",
       "      <td>2017-12-18 13:08:48</td>\n",
       "      <td>[(opponent_point, 2017-12-18 12:54:02, 0:01:48...</td>\n",
       "      <td>2</td>\n",
       "      <td>colors</td>\n",
       "      <td>1</td>\n",
       "      <td>4</td>\n",
       "      <td>2017-12-18 12:54:02</td>\n",
       "      <td>5</td>\n",
       "      <td>True</td>\n",
       "      <td>2017-12-18</td>\n",
       "    </tr>\n",
       "    <tr>\n",
       "      <th>3</th>\n",
       "      <td>2017-12-18 13:23:36</td>\n",
       "      <td>[(opponent_point, 2017-12-18 13:08:52, 0:00:57...</td>\n",
       "      <td>3</td>\n",
       "      <td>colors</td>\n",
       "      <td>3</td>\n",
       "      <td>4</td>\n",
       "      <td>2017-12-18 13:08:52</td>\n",
       "      <td>5</td>\n",
       "      <td>True</td>\n",
       "      <td>2017-12-18</td>\n",
       "    </tr>\n",
       "    <tr>\n",
       "      <th rowspan=\"3\" valign=\"top\">2017-12-20</th>\n",
       "      <th>0</th>\n",
       "      <td>2017-12-20 12:47:23</td>\n",
       "      <td>[(my_point, 2017-12-20 12:28:56, 0:00:31), (op...</td>\n",
       "      <td>0</td>\n",
       "      <td>white</td>\n",
       "      <td>3</td>\n",
       "      <td>3</td>\n",
       "      <td>2017-12-20 12:28:56</td>\n",
       "      <td>5</td>\n",
       "      <td>True</td>\n",
       "      <td>2017-12-20</td>\n",
       "    </tr>\n",
       "    <tr>\n",
       "      <th>1</th>\n",
       "      <td>2017-12-20 13:04:51</td>\n",
       "      <td>[(team_point, 2017-12-20 12:47:28, 0:01:44), (...</td>\n",
       "      <td>1</td>\n",
       "      <td>white</td>\n",
       "      <td>0</td>\n",
       "      <td>4</td>\n",
       "      <td>2017-12-20 12:47:28</td>\n",
       "      <td>5</td>\n",
       "      <td>True</td>\n",
       "      <td>2017-12-20</td>\n",
       "    </tr>\n",
       "    <tr>\n",
       "      <th>2</th>\n",
       "      <td>2017-12-20 13:14:34</td>\n",
       "      <td>[(opponent_point, 2017-12-20 13:05:03, 0:04:25...</td>\n",
       "      <td>2</td>\n",
       "      <td>white</td>\n",
       "      <td>0</td>\n",
       "      <td>3</td>\n",
       "      <td>2017-12-20 13:05:03</td>\n",
       "      <td>1</td>\n",
       "      <td>False</td>\n",
       "      <td>2017-12-20</td>\n",
       "    </tr>\n",
       "    <tr>\n",
       "      <th rowspan=\"2\" valign=\"top\">2018-01-03</th>\n",
       "      <th>0</th>\n",
       "      <td>2018-01-03 12:47:52</td>\n",
       "      <td>[(opponent_point, 2018-01-03 12:16:29, 0:01:17...</td>\n",
       "      <td>0</td>\n",
       "      <td>white</td>\n",
       "      <td>3</td>\n",
       "      <td>4</td>\n",
       "      <td>2018-01-03 12:16:29</td>\n",
       "      <td>10</td>\n",
       "      <td>True</td>\n",
       "      <td>2018-01-03</td>\n",
       "    </tr>\n",
       "    <tr>\n",
       "      <th>1</th>\n",
       "      <td>2018-01-03 13:07:58</td>\n",
       "      <td>[(opponent_point, 2018-01-03 12:48:15, 0:01:21...</td>\n",
       "      <td>1</td>\n",
       "      <td>white</td>\n",
       "      <td>2</td>\n",
       "      <td>4</td>\n",
       "      <td>2018-01-03 12:48:15</td>\n",
       "      <td>5</td>\n",
       "      <td>True</td>\n",
       "      <td>2018-01-03</td>\n",
       "    </tr>\n",
       "  </tbody>\n",
       "</table>\n",
       "</div>"
      ],
      "text/plain": [
       "                               end_time  \\\n",
       "date       game_num                       \n",
       "2017-12-18 0        2017-12-18 12:29:15   \n",
       "           1        2017-12-18 12:53:50   \n",
       "           2        2017-12-18 13:08:48   \n",
       "           3        2017-12-18 13:23:36   \n",
       "2017-12-20 0        2017-12-20 12:47:23   \n",
       "           1        2017-12-20 13:04:51   \n",
       "           2        2017-12-20 13:14:34   \n",
       "2018-01-03 0        2018-01-03 12:47:52   \n",
       "           1        2018-01-03 13:07:58   \n",
       "\n",
       "                                                                events  \\\n",
       "date       game_num                                                      \n",
       "2017-12-18 0         [(team_point, 2017-12-18 12:09:17, 0:03:56), (...   \n",
       "           1         [(team_point, 2017-12-18 12:29:19, 0:02:23), (...   \n",
       "           2         [(opponent_point, 2017-12-18 12:54:02, 0:01:48...   \n",
       "           3         [(opponent_point, 2017-12-18 13:08:52, 0:00:57...   \n",
       "2017-12-20 0         [(my_point, 2017-12-20 12:28:56, 0:00:31), (op...   \n",
       "           1         [(team_point, 2017-12-20 12:47:28, 0:01:44), (...   \n",
       "           2         [(opponent_point, 2017-12-20 13:05:03, 0:04:25...   \n",
       "2018-01-03 0         [(opponent_point, 2018-01-03 12:16:29, 0:01:17...   \n",
       "           1         [(opponent_point, 2018-01-03 12:48:15, 0:01:21...   \n",
       "\n",
       "                     game_num my_color  my_point  opponent_point  \\\n",
       "date       game_num                                                \n",
       "2017-12-18 0                0   colors         3               4   \n",
       "           1                1   colors         2               5   \n",
       "           2                2   colors         1               4   \n",
       "           3                3   colors         3               4   \n",
       "2017-12-20 0                0    white         3               3   \n",
       "           1                1    white         0               4   \n",
       "           2                2    white         0               3   \n",
       "2018-01-03 0                0    white         3               4   \n",
       "           1                1    white         2               4   \n",
       "\n",
       "                             start_time  team_point    win        date  \n",
       "date       game_num                                                     \n",
       "2017-12-18 0        2017-12-18 12:09:17           5   True  2017-12-18  \n",
       "           1        2017-12-18 12:29:19          10   True  2017-12-18  \n",
       "           2        2017-12-18 12:54:02           5   True  2017-12-18  \n",
       "           3        2017-12-18 13:08:52           5   True  2017-12-18  \n",
       "2017-12-20 0        2017-12-20 12:28:56           5   True  2017-12-20  \n",
       "           1        2017-12-20 12:47:28           5   True  2017-12-20  \n",
       "           2        2017-12-20 13:05:03           1  False  2017-12-20  \n",
       "2018-01-03 0        2018-01-03 12:16:29          10   True  2018-01-03  \n",
       "           1        2018-01-03 12:48:15           5   True  2018-01-03  "
      ]
     },
     "execution_count": 9,
     "metadata": {},
     "output_type": "execute_result"
    }
   ],
   "source": [
    "df = pd.DataFrame(games)\n",
    "df['date'] = df.end_time.apply(lambda x: date(x.year, x.month, x.day))\n",
    "\n",
    "df = df.set_index(['date', 'game_num'], drop=False)\n",
    "df"
   ]
  },
  {
   "cell_type": "code",
   "execution_count": 10,
   "metadata": {
    "ExecuteTime": {
     "end_time": "2018-01-03T17:01:04.258115Z",
     "start_time": "2018-01-03T17:01:04.253113Z"
    },
    "collapsed": true
   },
   "outputs": [],
   "source": [
    "pdf = df"
   ]
  },
  {
   "cell_type": "code",
   "execution_count": 11,
   "metadata": {
    "ExecuteTime": {
     "end_time": "2018-01-03T17:01:05.096534Z",
     "start_time": "2018-01-03T17:01:05.091532Z"
    },
    "collapsed": true
   },
   "outputs": [],
   "source": [
    "pdf['white_wins'] = None\n",
    "pdf['color_wins'] = None\n",
    "pdf['white_point'] = None\n",
    "pdf['color_point'] = None\n",
    "pdf['game_winner'] = None"
   ]
  },
  {
   "cell_type": "code",
   "execution_count": 18,
   "metadata": {
    "ExecuteTime": {
     "end_time": "2018-01-03T17:03:28.779340Z",
     "start_time": "2018-01-03T17:03:28.728314Z"
    },
    "code_folding": []
   },
   "outputs": [],
   "source": [
    "for (date, game_num), row in pdf.iterrows():      \n",
    "    \n",
    "    if 'white' in row.my_color:\n",
    "        if row.win:\n",
    "            pdf.loc[(date, game_num), 'game_winner'] = 'White'\n",
    "        else:\n",
    "            pdf.loc[(date, game_num), 'game_winner'] = 'Color'\n",
    "        pdf.loc[(date, game_num), 'white_wins'] = team_score                \n",
    "        pdf.loc[(date, game_num), 'color_wins'] = opponent_score   \n",
    "        pdf.loc[(date, game_num), 'white_point'] = pdf.loc[(date, game_num), 'team_point']                \n",
    "        pdf.loc[(date, game_num), 'color_point'] = pdf.loc[(date, game_num), 'opponent_point']\n",
    "\n",
    "    else:\n",
    "        if not row.win:\n",
    "            pdf.loc[(date, game_num), 'game_winner'] = 'White'\n",
    "        else:\n",
    "            pdf.loc[(date, game_num), 'game_winner'] = 'Color'\n",
    "        pdf.loc[(date, game_num), 'color_wins'] = team_score                \n",
    "        pdf.loc[(date, game_num), 'white_wins'] = opponent_score   \n",
    "        pdf.loc[(date, game_num), 'color_point'] = pdf.loc[(date, game_num), 'team_point']                \n",
    "        pdf.loc[(date, game_num), 'white_point'] = pdf.loc[(date, game_num), 'opponent_point']\n"
   ]
  },
  {
   "cell_type": "code",
   "execution_count": 19,
   "metadata": {
    "ExecuteTime": {
     "end_time": "2018-01-03T17:03:29.731816Z",
     "start_time": "2018-01-03T17:03:29.696798Z"
    }
   },
   "outputs": [
    {
     "data": {
      "text/html": [
       "<div>\n",
       "<table border=\"1\" class=\"dataframe\">\n",
       "  <thead>\n",
       "    <tr style=\"text-align: right;\">\n",
       "      <th></th>\n",
       "      <th></th>\n",
       "      <th>end_time</th>\n",
       "      <th>events</th>\n",
       "      <th>game_num</th>\n",
       "      <th>my_color</th>\n",
       "      <th>my_point</th>\n",
       "      <th>opponent_point</th>\n",
       "      <th>start_time</th>\n",
       "      <th>team_point</th>\n",
       "      <th>win</th>\n",
       "      <th>date</th>\n",
       "      <th>white_wins</th>\n",
       "      <th>color_wins</th>\n",
       "      <th>white_point</th>\n",
       "      <th>color_point</th>\n",
       "      <th>game_winner</th>\n",
       "    </tr>\n",
       "    <tr>\n",
       "      <th>date</th>\n",
       "      <th>game_num</th>\n",
       "      <th></th>\n",
       "      <th></th>\n",
       "      <th></th>\n",
       "      <th></th>\n",
       "      <th></th>\n",
       "      <th></th>\n",
       "      <th></th>\n",
       "      <th></th>\n",
       "      <th></th>\n",
       "      <th></th>\n",
       "      <th></th>\n",
       "      <th></th>\n",
       "      <th></th>\n",
       "      <th></th>\n",
       "      <th></th>\n",
       "    </tr>\n",
       "  </thead>\n",
       "  <tbody>\n",
       "    <tr>\n",
       "      <th rowspan=\"4\" valign=\"top\">2017-12-18</th>\n",
       "      <th>0</th>\n",
       "      <td>2017-12-18 12:29:15</td>\n",
       "      <td>[(team_point, 2017-12-18 12:09:17, 0:03:56), (...</td>\n",
       "      <td>0</td>\n",
       "      <td>colors</td>\n",
       "      <td>3</td>\n",
       "      <td>4</td>\n",
       "      <td>2017-12-18 12:09:17</td>\n",
       "      <td>5</td>\n",
       "      <td>True</td>\n",
       "      <td>2017-12-18</td>\n",
       "      <td>1</td>\n",
       "      <td>2</td>\n",
       "      <td>4</td>\n",
       "      <td>5</td>\n",
       "      <td>Color</td>\n",
       "    </tr>\n",
       "    <tr>\n",
       "      <th>1</th>\n",
       "      <td>2017-12-18 12:53:50</td>\n",
       "      <td>[(team_point, 2017-12-18 12:29:19, 0:02:23), (...</td>\n",
       "      <td>1</td>\n",
       "      <td>colors</td>\n",
       "      <td>2</td>\n",
       "      <td>5</td>\n",
       "      <td>2017-12-18 12:29:19</td>\n",
       "      <td>10</td>\n",
       "      <td>True</td>\n",
       "      <td>2017-12-18</td>\n",
       "      <td>1</td>\n",
       "      <td>2</td>\n",
       "      <td>5</td>\n",
       "      <td>10</td>\n",
       "      <td>Color</td>\n",
       "    </tr>\n",
       "    <tr>\n",
       "      <th>2</th>\n",
       "      <td>2017-12-18 13:08:48</td>\n",
       "      <td>[(opponent_point, 2017-12-18 12:54:02, 0:01:48...</td>\n",
       "      <td>2</td>\n",
       "      <td>colors</td>\n",
       "      <td>1</td>\n",
       "      <td>4</td>\n",
       "      <td>2017-12-18 12:54:02</td>\n",
       "      <td>5</td>\n",
       "      <td>True</td>\n",
       "      <td>2017-12-18</td>\n",
       "      <td>1</td>\n",
       "      <td>2</td>\n",
       "      <td>4</td>\n",
       "      <td>5</td>\n",
       "      <td>Color</td>\n",
       "    </tr>\n",
       "    <tr>\n",
       "      <th>3</th>\n",
       "      <td>2017-12-18 13:23:36</td>\n",
       "      <td>[(opponent_point, 2017-12-18 13:08:52, 0:00:57...</td>\n",
       "      <td>3</td>\n",
       "      <td>colors</td>\n",
       "      <td>3</td>\n",
       "      <td>4</td>\n",
       "      <td>2017-12-18 13:08:52</td>\n",
       "      <td>5</td>\n",
       "      <td>True</td>\n",
       "      <td>2017-12-18</td>\n",
       "      <td>1</td>\n",
       "      <td>2</td>\n",
       "      <td>4</td>\n",
       "      <td>5</td>\n",
       "      <td>Color</td>\n",
       "    </tr>\n",
       "    <tr>\n",
       "      <th rowspan=\"3\" valign=\"top\">2017-12-20</th>\n",
       "      <th>0</th>\n",
       "      <td>2017-12-20 12:47:23</td>\n",
       "      <td>[(my_point, 2017-12-20 12:28:56, 0:00:31), (op...</td>\n",
       "      <td>0</td>\n",
       "      <td>white</td>\n",
       "      <td>3</td>\n",
       "      <td>3</td>\n",
       "      <td>2017-12-20 12:28:56</td>\n",
       "      <td>5</td>\n",
       "      <td>True</td>\n",
       "      <td>2017-12-20</td>\n",
       "      <td>2</td>\n",
       "      <td>1</td>\n",
       "      <td>5</td>\n",
       "      <td>3</td>\n",
       "      <td>White</td>\n",
       "    </tr>\n",
       "    <tr>\n",
       "      <th>1</th>\n",
       "      <td>2017-12-20 13:04:51</td>\n",
       "      <td>[(team_point, 2017-12-20 12:47:28, 0:01:44), (...</td>\n",
       "      <td>1</td>\n",
       "      <td>white</td>\n",
       "      <td>0</td>\n",
       "      <td>4</td>\n",
       "      <td>2017-12-20 12:47:28</td>\n",
       "      <td>5</td>\n",
       "      <td>True</td>\n",
       "      <td>2017-12-20</td>\n",
       "      <td>2</td>\n",
       "      <td>1</td>\n",
       "      <td>5</td>\n",
       "      <td>4</td>\n",
       "      <td>White</td>\n",
       "    </tr>\n",
       "    <tr>\n",
       "      <th>2</th>\n",
       "      <td>2017-12-20 13:14:34</td>\n",
       "      <td>[(opponent_point, 2017-12-20 13:05:03, 0:04:25...</td>\n",
       "      <td>2</td>\n",
       "      <td>white</td>\n",
       "      <td>0</td>\n",
       "      <td>3</td>\n",
       "      <td>2017-12-20 13:05:03</td>\n",
       "      <td>1</td>\n",
       "      <td>False</td>\n",
       "      <td>2017-12-20</td>\n",
       "      <td>2</td>\n",
       "      <td>1</td>\n",
       "      <td>1</td>\n",
       "      <td>3</td>\n",
       "      <td>Color</td>\n",
       "    </tr>\n",
       "    <tr>\n",
       "      <th rowspan=\"2\" valign=\"top\">2018-01-03</th>\n",
       "      <th>0</th>\n",
       "      <td>2018-01-03 12:47:52</td>\n",
       "      <td>[(opponent_point, 2018-01-03 12:16:29, 0:01:17...</td>\n",
       "      <td>0</td>\n",
       "      <td>white</td>\n",
       "      <td>3</td>\n",
       "      <td>4</td>\n",
       "      <td>2018-01-03 12:16:29</td>\n",
       "      <td>10</td>\n",
       "      <td>True</td>\n",
       "      <td>2018-01-03</td>\n",
       "      <td>2</td>\n",
       "      <td>1</td>\n",
       "      <td>10</td>\n",
       "      <td>4</td>\n",
       "      <td>White</td>\n",
       "    </tr>\n",
       "    <tr>\n",
       "      <th>1</th>\n",
       "      <td>2018-01-03 13:07:58</td>\n",
       "      <td>[(opponent_point, 2018-01-03 12:48:15, 0:01:21...</td>\n",
       "      <td>1</td>\n",
       "      <td>white</td>\n",
       "      <td>2</td>\n",
       "      <td>4</td>\n",
       "      <td>2018-01-03 12:48:15</td>\n",
       "      <td>5</td>\n",
       "      <td>True</td>\n",
       "      <td>2018-01-03</td>\n",
       "      <td>2</td>\n",
       "      <td>1</td>\n",
       "      <td>5</td>\n",
       "      <td>4</td>\n",
       "      <td>White</td>\n",
       "    </tr>\n",
       "  </tbody>\n",
       "</table>\n",
       "</div>"
      ],
      "text/plain": [
       "                               end_time  \\\n",
       "date       game_num                       \n",
       "2017-12-18 0        2017-12-18 12:29:15   \n",
       "           1        2017-12-18 12:53:50   \n",
       "           2        2017-12-18 13:08:48   \n",
       "           3        2017-12-18 13:23:36   \n",
       "2017-12-20 0        2017-12-20 12:47:23   \n",
       "           1        2017-12-20 13:04:51   \n",
       "           2        2017-12-20 13:14:34   \n",
       "2018-01-03 0        2018-01-03 12:47:52   \n",
       "           1        2018-01-03 13:07:58   \n",
       "\n",
       "                                                                events  \\\n",
       "date       game_num                                                      \n",
       "2017-12-18 0         [(team_point, 2017-12-18 12:09:17, 0:03:56), (...   \n",
       "           1         [(team_point, 2017-12-18 12:29:19, 0:02:23), (...   \n",
       "           2         [(opponent_point, 2017-12-18 12:54:02, 0:01:48...   \n",
       "           3         [(opponent_point, 2017-12-18 13:08:52, 0:00:57...   \n",
       "2017-12-20 0         [(my_point, 2017-12-20 12:28:56, 0:00:31), (op...   \n",
       "           1         [(team_point, 2017-12-20 12:47:28, 0:01:44), (...   \n",
       "           2         [(opponent_point, 2017-12-20 13:05:03, 0:04:25...   \n",
       "2018-01-03 0         [(opponent_point, 2018-01-03 12:16:29, 0:01:17...   \n",
       "           1         [(opponent_point, 2018-01-03 12:48:15, 0:01:21...   \n",
       "\n",
       "                     game_num my_color  my_point  opponent_point  \\\n",
       "date       game_num                                                \n",
       "2017-12-18 0                0   colors         3               4   \n",
       "           1                1   colors         2               5   \n",
       "           2                2   colors         1               4   \n",
       "           3                3   colors         3               4   \n",
       "2017-12-20 0                0    white         3               3   \n",
       "           1                1    white         0               4   \n",
       "           2                2    white         0               3   \n",
       "2018-01-03 0                0    white         3               4   \n",
       "           1                1    white         2               4   \n",
       "\n",
       "                             start_time  team_point    win        date  \\\n",
       "date       game_num                                                      \n",
       "2017-12-18 0        2017-12-18 12:09:17           5   True  2017-12-18   \n",
       "           1        2017-12-18 12:29:19          10   True  2017-12-18   \n",
       "           2        2017-12-18 12:54:02           5   True  2017-12-18   \n",
       "           3        2017-12-18 13:08:52           5   True  2017-12-18   \n",
       "2017-12-20 0        2017-12-20 12:28:56           5   True  2017-12-20   \n",
       "           1        2017-12-20 12:47:28           5   True  2017-12-20   \n",
       "           2        2017-12-20 13:05:03           1  False  2017-12-20   \n",
       "2018-01-03 0        2018-01-03 12:16:29          10   True  2018-01-03   \n",
       "           1        2018-01-03 12:48:15           5   True  2018-01-03   \n",
       "\n",
       "                    white_wins color_wins white_point color_point game_winner  \n",
       "date       game_num                                                            \n",
       "2017-12-18 0                 1          2           4           5       Color  \n",
       "           1                 1          2           5          10       Color  \n",
       "           2                 1          2           4           5       Color  \n",
       "           3                 1          2           4           5       Color  \n",
       "2017-12-20 0                 2          1           5           3       White  \n",
       "           1                 2          1           5           4       White  \n",
       "           2                 2          1           1           3       Color  \n",
       "2018-01-03 0                 2          1          10           4       White  \n",
       "           1                 2          1           5           4       White  "
      ]
     },
     "execution_count": 19,
     "metadata": {},
     "output_type": "execute_result"
    }
   ],
   "source": [
    "pdf"
   ]
  },
  {
   "cell_type": "code",
   "execution_count": 21,
   "metadata": {
    "ExecuteTime": {
     "end_time": "2018-01-03T17:04:19.105490Z",
     "start_time": "2018-01-03T17:04:19.092484Z"
    }
   },
   "outputs": [
    {
     "data": {
      "text/plain": [
       "array([['1', '2', 0, 'Color'],\n",
       "       ['1', '2', 1, 'Color'],\n",
       "       ['1', '2', 2, 'Color'],\n",
       "       ['1', '2', 3, 'Color'],\n",
       "       ['2', '1', 0, 'White'],\n",
       "       ['2', '1', 1, 'White'],\n",
       "       ['2', '1', 2, 'Color'],\n",
       "       ['2', '1', 0, 'White'],\n",
       "       ['2', '1', 1, 'White']], dtype=object)"
      ]
     },
     "execution_count": 21,
     "metadata": {},
     "output_type": "execute_result"
    }
   ],
   "source": [
    "pdf[['white_wins', 'color_wins', 'game_num', 'game_winner']].as_matrix()"
   ]
  },
  {
   "cell_type": "code",
   "execution_count": null,
   "metadata": {
    "collapsed": true
   },
   "outputs": [],
   "source": []
  },
  {
   "cell_type": "code",
   "execution_count": null,
   "metadata": {
    "collapsed": true
   },
   "outputs": [],
   "source": []
  },
  {
   "cell_type": "code",
   "execution_count": null,
   "metadata": {
    "collapsed": true
   },
   "outputs": [],
   "source": []
  },
  {
   "cell_type": "code",
   "execution_count": null,
   "metadata": {
    "collapsed": true
   },
   "outputs": [],
   "source": []
  },
  {
   "cell_type": "code",
   "execution_count": null,
   "metadata": {
    "collapsed": true
   },
   "outputs": [],
   "source": []
  }
 ],
 "metadata": {
  "hide_input": false,
  "kernelspec": {
   "display_name": "Python 3",
   "language": "python",
   "name": "python3"
  },
  "language_info": {
   "codemirror_mode": {
    "name": "ipython",
    "version": 3
   },
   "file_extension": ".py",
   "mimetype": "text/x-python",
   "name": "python",
   "nbconvert_exporter": "python",
   "pygments_lexer": "ipython3",
   "version": "3.6.0"
  },
  "varInspector": {
   "cols": {
    "lenName": 16,
    "lenType": 16,
    "lenVar": 40
   },
   "kernels_config": {
    "python": {
     "delete_cmd_postfix": "",
     "delete_cmd_prefix": "del ",
     "library": "var_list.py",
     "varRefreshCmd": "print(var_dic_list())"
    },
    "r": {
     "delete_cmd_postfix": ") ",
     "delete_cmd_prefix": "rm(",
     "library": "var_list.r",
     "varRefreshCmd": "cat(var_dic_list()) "
    }
   },
   "types_to_exclude": [
    "module",
    "function",
    "builtin_function_or_method",
    "instance",
    "_Feature"
   ],
   "window_display": false
  }
 },
 "nbformat": 4,
 "nbformat_minor": 2
}
