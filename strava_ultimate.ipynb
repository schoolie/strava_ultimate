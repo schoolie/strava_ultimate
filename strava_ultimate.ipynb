{
 "cells": [
  {
   "cell_type": "code",
   "execution_count": 13,
   "metadata": {
    "ExecuteTime": {
     "end_time": "2017-10-16T14:12:08.645006Z",
     "start_time": "2017-10-16T14:12:08.641004Z"
    },
    "collapsed": true
   },
   "outputs": [],
   "source": [
    "import stravalib\n",
    "import logging\n",
    "from xml.dom import minidom\n",
    "import dateutil\n",
    "import numpy as np\n",
    "import os\n",
    "\n",
    "logger = logging.getLogger()\n",
    "logger.setLevel(logging.ERROR)"
   ]
  },
  {
   "cell_type": "code",
   "execution_count": 2,
   "metadata": {
    "ExecuteTime": {
     "end_time": "2017-10-16T14:10:19.528475Z",
     "start_time": "2017-10-16T14:10:19.152287Z"
    },
    "collapsed": true
   },
   "outputs": [],
   "source": [
    "#Global Variables - put your data in the file 'client.secret' and separate the fields with a comma!\n",
    "client = stravalib.client.Client()\n",
    "access_token = 'e3ccedc91fceef32077fbb31fc44676446d14bdd'\n",
    "\n",
    "client.access_token = access_token\n",
    "athlete = client.get_athlete()"
   ]
  },
  {
   "cell_type": "code",
   "execution_count": 3,
   "metadata": {
    "ExecuteTime": {
     "end_time": "2017-10-16T14:10:19.543483Z",
     "start_time": "2017-10-16T14:10:19.533478Z"
    }
   },
   "outputs": [
    {
     "data": {
      "text/html": [
       "<a href=\"https://www.strava.com/oauth/authorize?client_id=19435&redirect_uri=http%3A%2F%2Flocalhost%3A8282%2Fauthorized&approval_prompt=auto&response_type=code&scope=view_private%2Cwrite\">https://www.strava.com/oauth/authorize?client_id=19435&redirect_uri=http%3A%2F%2Flocalhost%3A8282%2Fauthorized&approval_prompt=auto&response_type=code&scope=view_private%2Cwrite</a>"
      ],
      "text/plain": [
       "<IPython.core.display.HTML object>"
      ]
     },
     "metadata": {},
     "output_type": "display_data"
    }
   ],
   "source": [
    "auth_url= client.authorization_url(client_id=19435, redirect_uri='http://localhost:8282/authorized', approval_prompt=u'auto', scope='view_private,write', state=None)\n",
    "from IPython.core.display import display, HTML\n",
    "display(HTML(\"\"\"<a href=\"{}\">{}</a>\"\"\".format(auth_url,auth_url)))"
   ]
  },
  {
   "cell_type": "code",
   "execution_count": 4,
   "metadata": {
    "ExecuteTime": {
     "end_time": "2017-10-16T14:10:19.638530Z",
     "start_time": "2017-10-16T14:10:19.549486Z"
    },
    "collapsed": true
   },
   "outputs": [],
   "source": [
    "code = '6d057263b427852b0489af26e921f8fd25a78852'\n",
    "access_token = client.exchange_code_for_token(client_id=19435, client_secret='45b776d5beceeb34c290b8a56bf9829d6d4ea5d7', code=code)\n"
   ]
  },
  {
   "cell_type": "code",
   "execution_count": 5,
   "metadata": {
    "ExecuteTime": {
     "end_time": "2017-10-16T14:10:19.907665Z",
     "start_time": "2017-10-16T14:10:19.644533Z"
    }
   },
   "outputs": [
    {
     "name": "stdout",
     "output_type": "stream",
     "text": [
      "athlete name Brian, athlete id 3360678.\n"
     ]
    }
   ],
   "source": [
    "client = stravalib.client.Client(access_token=access_token)\n",
    "athlete = client.get_athlete()\n",
    "print('athlete name %s, athlete id %s.' %(athlete.firstname, athlete.id))\n"
   ]
  },
  {
   "cell_type": "code",
   "execution_count": 6,
   "metadata": {
    "ExecuteTime": {
     "end_time": "2017-10-16T14:10:19.917670Z",
     "start_time": "2017-10-16T14:10:19.913668Z"
    }
   },
   "outputs": [
    {
     "data": {
      "text/plain": [
       "datetime.datetime(2017, 9, 28, 0, 0)"
      ]
     },
     "execution_count": 6,
     "metadata": {},
     "output_type": "execute_result"
    }
   ],
   "source": [
    "import datetime\n",
    "lap_start_date = datetime.datetime(2017, 9, 28)\n",
    "lap_start_date"
   ]
  },
  {
   "cell_type": "code",
   "execution_count": 7,
   "metadata": {
    "ExecuteTime": {
     "end_time": "2017-10-16T14:10:20.845133Z",
     "start_time": "2017-10-16T14:10:19.923673Z"
    },
    "scrolled": false
   },
   "outputs": [
    {
     "name": "stdout",
     "output_type": "stream",
     "text": [
      "Ultimate Run 2017-09-29 17:16:08+00:00\n",
      "Ultimate Run 2017-10-11 17:17:28+00:00\n",
      "Ultimate Run 2017-10-13 17:11:22+00:00\n",
      "Ultimate Run 2017-10-16 17:13:20+00:00\n"
     ]
    }
   ],
   "source": [
    "runs = []\n",
    "for activity in client.get_activities(after=lap_start_date):\n",
    "    if 'ltimate' in activity.name and activity.type == 'Run':\n",
    "        print(activity.name, activity.type, activity.start_date)\n",
    "        runs.append(activity)"
   ]
  },
  {
   "cell_type": "code",
   "execution_count": 8,
   "metadata": {
    "ExecuteTime": {
     "end_time": "2017-10-16T14:10:21.366394Z",
     "start_time": "2017-10-16T14:10:20.851136Z"
    }
   },
   "outputs": [
    {
     "name": "stdout",
     "output_type": "stream",
     "text": [
      "<Activity id=1207538661 name='Ultimate' resource_state=2>\n",
      "0:19:06\n",
      "0:02:25\n",
      "0:01:37\n",
      "0:03:59\n",
      "0:00:29\n",
      "0:02:36\n",
      "0:01:25\n",
      "0:00:59\n",
      "0:01:26\n",
      "0:00:01\n",
      "0:00:01\n",
      "0:01:49\n",
      "0:04:01\n",
      "0:01:30\n",
      "0:01:16\n",
      "0:00:11\n",
      "0:00:02\n",
      "<Activity id=1225759439 name='Ultimate' resource_state=2>\n",
      "0:19:06\n",
      "0:02:25\n",
      "0:01:37\n",
      "0:03:59\n",
      "0:00:29\n",
      "0:02:36\n",
      "0:01:25\n",
      "0:00:59\n",
      "0:01:26\n",
      "0:00:01\n",
      "0:00:01\n",
      "0:01:49\n",
      "0:04:01\n",
      "0:01:30\n",
      "0:01:16\n",
      "0:00:11\n",
      "0:00:02\n",
      "<Activity id=1228558114 name='Ultimate' resource_state=2>\n",
      "0:19:06\n",
      "0:02:25\n",
      "0:01:37\n",
      "0:03:59\n",
      "0:00:29\n",
      "0:02:36\n",
      "0:01:25\n",
      "0:00:59\n",
      "0:01:26\n",
      "0:00:01\n",
      "0:00:01\n",
      "0:01:49\n",
      "0:04:01\n",
      "0:01:30\n",
      "0:01:16\n",
      "0:00:11\n",
      "0:00:02\n",
      "<Activity id=1233412458 name='Ultimate' resource_state=2>\n",
      "0:19:06\n",
      "0:02:25\n",
      "0:01:37\n",
      "0:03:59\n",
      "0:00:29\n",
      "0:02:36\n",
      "0:01:25\n",
      "0:00:59\n",
      "0:01:26\n",
      "0:00:01\n",
      "0:00:01\n",
      "0:01:49\n",
      "0:04:01\n",
      "0:01:30\n",
      "0:01:16\n",
      "0:00:11\n",
      "0:00:02\n"
     ]
    }
   ],
   "source": [
    "for run in runs:\n",
    "    print(run)\n",
    "    for lap in runs[1].laps:\n",
    "        print(lap.elapsed_time)"
   ]
  },
  {
   "cell_type": "code",
   "execution_count": 9,
   "metadata": {
    "ExecuteTime": {
     "end_time": "2017-10-16T14:10:21.378400Z",
     "start_time": "2017-10-16T14:10:21.372397Z"
    }
   },
   "outputs": [
    {
     "data": {
      "text/plain": [
       "<ActivityLap id=3810821033 name='Lap 33' resource_state=2>"
      ]
     },
     "execution_count": 9,
     "metadata": {},
     "output_type": "execute_result"
    }
   ],
   "source": [
    "lap"
   ]
  },
  {
   "cell_type": "code",
   "execution_count": 10,
   "metadata": {
    "ExecuteTime": {
     "end_time": "2017-10-16T14:10:29.526472Z",
     "start_time": "2017-10-16T14:10:29.520469Z"
    },
    "collapsed": true
   },
   "outputs": [],
   "source": [
    "\n",
    "def xml_to_float(element):\n",
    "    if element is not None:\n",
    "        return float(element[0].firstChild.data)\n",
    "    else:\n",
    "        return np.nan\n",
    "        \n",
    "def xml_to_time(element):\n",
    "    if element is not None:\n",
    "        return datetime.datetime.strptime(element[0].firstChild.data, '%Y-%m-%dT%H:%M:%S.%fZ')\n",
    "#         return dateutil.parser.parse(element[0].firstChild.data)\n",
    "    else:\n",
    "        return np.nan"
   ]
  },
  {
   "cell_type": "code",
   "execution_count": 12,
   "metadata": {
    "ExecuteTime": {
     "end_time": "2017-10-16T14:11:08.459929Z",
     "start_time": "2017-10-16T14:11:08.452925Z"
    },
    "collapsed": true
   },
   "outputs": [],
   "source": [
    "event_lookup = [\n",
    "    '',\n",
    "    'team_point',\n",
    "    'opponent_point',\n",
    "    'my_point',\n",
    "    'game',\n",
    "]"
   ]
  },
  {
   "cell_type": "code",
   "execution_count": 17,
   "metadata": {
    "ExecuteTime": {
     "end_time": "2017-10-16T14:22:36.214634Z",
     "start_time": "2017-10-16T14:22:35.435245Z"
    }
   },
   "outputs": [
    {
     "data": {
      "text/plain": [
       "[{'end_time': datetime.datetime(2017, 10, 11, 17, 36, 39),\n",
       "  'game_num': 0,\n",
       "  'my_point': 0,\n",
       "  'opponent_point': 0,\n",
       "  'team_point': 0},\n",
       " {'end_time': datetime.datetime(2017, 10, 11, 17, 51, 53),\n",
       "  'game_num': 1,\n",
       "  'my_point': 1,\n",
       "  'opponent_point': 5,\n",
       "  'team_point': 3},\n",
       " {'end_time': datetime.datetime(2017, 10, 11, 18, 0, 46),\n",
       "  'game_num': 2,\n",
       "  'my_point': 0,\n",
       "  'opponent_point': 1,\n",
       "  'team_point': 3},\n",
       " {'end_time': datetime.datetime(2017, 10, 13, 17, 29, 1),\n",
       "  'game_num': 0,\n",
       "  'my_point': 0,\n",
       "  'opponent_point': 5,\n",
       "  'team_point': 3},\n",
       " {'end_time': datetime.datetime(2017, 10, 13, 17, 51, 36),\n",
       "  'game_num': 1,\n",
       "  'my_point': 0,\n",
       "  'opponent_point': 5,\n",
       "  'team_point': 4},\n",
       " {'end_time': datetime.datetime(2017, 10, 13, 18, 3, 47),\n",
       "  'game_num': 2,\n",
       "  'my_point': 1,\n",
       "  'opponent_point': 1,\n",
       "  'team_point': 5},\n",
       " {'end_time': datetime.datetime(2017, 10, 13, 18, 16, 8),\n",
       "  'game_num': 3,\n",
       "  'my_point': 1,\n",
       "  'opponent_point': 3,\n",
       "  'team_point': 1},\n",
       " {'end_time': datetime.datetime(2017, 10, 16, 17, 30, 4),\n",
       "  'game_num': 0,\n",
       "  'my_point': 0,\n",
       "  'opponent_point': 5,\n",
       "  'team_point': 3},\n",
       " {'end_time': datetime.datetime(2017, 10, 16, 17, 45, 3),\n",
       "  'game_num': 1,\n",
       "  'my_point': 1,\n",
       "  'opponent_point': 5,\n",
       "  'team_point': 3},\n",
       " {'end_time': datetime.datetime(2017, 10, 16, 17, 57, 21),\n",
       "  'game_num': 2,\n",
       "  'my_point': 2,\n",
       "  'opponent_point': 2,\n",
       "  'team_point': 5}]"
      ]
     },
     "execution_count": 17,
     "metadata": {},
     "output_type": "execute_result"
    }
   ],
   "source": [
    "class Dummy(object):\n",
    "    pass\n",
    "\n",
    "self = Dummy()\n",
    "\n",
    "# filename = 'activity_2088811850.tcx'   \n",
    "filename = 'activity_2101180747.tcx'   \n",
    "       \n",
    "    \n",
    "\n",
    "games = []\n",
    "\n",
    "\n",
    "for filename in os.listdir():\n",
    "    if '.tcx' in filename:\n",
    "\n",
    "        game_num = 0\n",
    "    \n",
    "        doc = minidom.parse(filename)\n",
    "        doc.normalize()\n",
    "        self.tcx = doc.documentElement   \n",
    "\n",
    "        points = []\n",
    "\n",
    "        lap_starts = []\n",
    "        for lap in self.tcx.getElementsByTagName('Lap'):\n",
    "            lap_starts.append(lap.attributes.items()[0][1])\n",
    "\n",
    "        lap_starts = [datetime.datetime.strptime(t, '%Y-%m-%dT%H:%M:%S.000Z') for t in lap_starts]\n",
    "        lap_starts = lap_starts[1:] # Drop first lap (start of day)\n",
    "\n",
    "        press_delta = datetime.timedelta(0,2)\n",
    "\n",
    "        presses = 1\n",
    "\n",
    "        events = []\n",
    "\n",
    "        for n in range(len(lap_starts) - 1):\n",
    "\n",
    "\n",
    "            time = lap_starts[n]\n",
    "\n",
    "            dt = lap_starts[n+1] - lap_starts[n]\n",
    "\n",
    "            # print(presses, time, dt, dt > press_delta)\n",
    "\n",
    "\n",
    "            if dt > press_delta:\n",
    "                events.append([presses, time])\n",
    "                presses = 1\n",
    "\n",
    "            else:        \n",
    "                presses += 1\n",
    "\n",
    "        events.append([presses, time])\n",
    "\n",
    "\n",
    "        base_game = {'my_point': 0, 'team_point': 0, 'opponent_point': 0, 'game_num': 0}\n",
    "        game = base_game\n",
    "        for event in events:\n",
    "            game['end_time'] = event[1]\n",
    "\n",
    "            event_type = event_lookup[event[0]]\n",
    "            if event_type == 'game':\n",
    "                games.append(game)                \n",
    "                game_num += 1\n",
    "                game = {'my_point': 0, 'team_point': 0, 'opponent_point': 0, 'game_num': game_num}\n",
    "                added = True\n",
    "\n",
    "            elif event_type == 'my_point':\n",
    "                game[event_type] += 1\n",
    "                game['team_point'] += 1\n",
    "                added = False\n",
    "\n",
    "            else:\n",
    "                game[event_type] += 1\n",
    "                added = False\n",
    "\n",
    "        if not added:\n",
    "            games.append(game)\n",
    "\n",
    "games"
   ]
  },
  {
   "cell_type": "code",
   "execution_count": 18,
   "metadata": {
    "ExecuteTime": {
     "end_time": "2017-10-16T14:22:37.545299Z",
     "start_time": "2017-10-16T14:22:37.539296Z"
    },
    "collapsed": true
   },
   "outputs": [],
   "source": [
    "import pandas as pd"
   ]
  },
  {
   "cell_type": "code",
   "execution_count": 20,
   "metadata": {
    "ExecuteTime": {
     "end_time": "2017-10-16T14:22:56.749897Z",
     "start_time": "2017-10-16T14:22:56.745895Z"
    }
   },
   "outputs": [],
   "source": [
    "df = pd.DataFrame(games)"
   ]
  },
  {
   "cell_type": "code",
   "execution_count": 23,
   "metadata": {
    "ExecuteTime": {
     "end_time": "2017-10-16T14:24:59.288135Z",
     "start_time": "2017-10-16T14:24:59.276129Z"
    }
   },
   "outputs": [],
   "source": [
    "df['date'] = df.end_time.apply(lambda x: datetime.date(x.year, x.month, x.day))"
   ]
  },
  {
   "cell_type": "code",
   "execution_count": 28,
   "metadata": {
    "ExecuteTime": {
     "end_time": "2017-10-16T14:26:21.690316Z",
     "start_time": "2017-10-16T14:26:21.617279Z"
    }
   },
   "outputs": [
    {
     "data": {
      "text/html": [
       "<div>\n",
       "<table border=\"1\" class=\"dataframe\">\n",
       "  <thead>\n",
       "    <tr>\n",
       "      <th>game_num</th>\n",
       "      <th colspan=\"4\" halign=\"left\">0</th>\n",
       "      <th colspan=\"4\" halign=\"left\">1</th>\n",
       "      <th colspan=\"4\" halign=\"left\">2</th>\n",
       "      <th colspan=\"4\" halign=\"left\">3</th>\n",
       "    </tr>\n",
       "    <tr>\n",
       "      <th></th>\n",
       "      <th>end_time</th>\n",
       "      <th>my_point</th>\n",
       "      <th>opponent_point</th>\n",
       "      <th>team_point</th>\n",
       "      <th>end_time</th>\n",
       "      <th>my_point</th>\n",
       "      <th>opponent_point</th>\n",
       "      <th>team_point</th>\n",
       "      <th>end_time</th>\n",
       "      <th>my_point</th>\n",
       "      <th>opponent_point</th>\n",
       "      <th>team_point</th>\n",
       "      <th>end_time</th>\n",
       "      <th>my_point</th>\n",
       "      <th>opponent_point</th>\n",
       "      <th>team_point</th>\n",
       "    </tr>\n",
       "    <tr>\n",
       "      <th>date</th>\n",
       "      <th></th>\n",
       "      <th></th>\n",
       "      <th></th>\n",
       "      <th></th>\n",
       "      <th></th>\n",
       "      <th></th>\n",
       "      <th></th>\n",
       "      <th></th>\n",
       "      <th></th>\n",
       "      <th></th>\n",
       "      <th></th>\n",
       "      <th></th>\n",
       "      <th></th>\n",
       "      <th></th>\n",
       "      <th></th>\n",
       "      <th></th>\n",
       "    </tr>\n",
       "  </thead>\n",
       "  <tbody>\n",
       "    <tr>\n",
       "      <th>2017-10-11</th>\n",
       "      <td>2017-10-11 17:36:39</td>\n",
       "      <td>0.0</td>\n",
       "      <td>0.0</td>\n",
       "      <td>0.0</td>\n",
       "      <td>2017-10-11 17:51:53</td>\n",
       "      <td>1.0</td>\n",
       "      <td>5.0</td>\n",
       "      <td>3.0</td>\n",
       "      <td>2017-10-11 18:00:46</td>\n",
       "      <td>0.0</td>\n",
       "      <td>1.0</td>\n",
       "      <td>3.0</td>\n",
       "      <td>NaT</td>\n",
       "      <td>NaN</td>\n",
       "      <td>NaN</td>\n",
       "      <td>NaN</td>\n",
       "    </tr>\n",
       "    <tr>\n",
       "      <th>2017-10-13</th>\n",
       "      <td>2017-10-13 17:29:01</td>\n",
       "      <td>0.0</td>\n",
       "      <td>5.0</td>\n",
       "      <td>3.0</td>\n",
       "      <td>2017-10-13 17:51:36</td>\n",
       "      <td>0.0</td>\n",
       "      <td>5.0</td>\n",
       "      <td>4.0</td>\n",
       "      <td>2017-10-13 18:03:47</td>\n",
       "      <td>1.0</td>\n",
       "      <td>1.0</td>\n",
       "      <td>5.0</td>\n",
       "      <td>2017-10-13 18:16:08</td>\n",
       "      <td>1.0</td>\n",
       "      <td>3.0</td>\n",
       "      <td>1.0</td>\n",
       "    </tr>\n",
       "    <tr>\n",
       "      <th>2017-10-16</th>\n",
       "      <td>2017-10-16 17:30:04</td>\n",
       "      <td>0.0</td>\n",
       "      <td>5.0</td>\n",
       "      <td>3.0</td>\n",
       "      <td>2017-10-16 17:45:03</td>\n",
       "      <td>1.0</td>\n",
       "      <td>5.0</td>\n",
       "      <td>3.0</td>\n",
       "      <td>2017-10-16 17:57:21</td>\n",
       "      <td>2.0</td>\n",
       "      <td>2.0</td>\n",
       "      <td>5.0</td>\n",
       "      <td>NaT</td>\n",
       "      <td>NaN</td>\n",
       "      <td>NaN</td>\n",
       "      <td>NaN</td>\n",
       "    </tr>\n",
       "  </tbody>\n",
       "</table>\n",
       "</div>"
      ],
      "text/plain": [
       "game_num                     0                                     \\\n",
       "                      end_time my_point opponent_point team_point   \n",
       "date                                                                \n",
       "2017-10-11 2017-10-11 17:36:39      0.0            0.0        0.0   \n",
       "2017-10-13 2017-10-13 17:29:01      0.0            5.0        3.0   \n",
       "2017-10-16 2017-10-16 17:30:04      0.0            5.0        3.0   \n",
       "\n",
       "game_num                     1                                     \\\n",
       "                      end_time my_point opponent_point team_point   \n",
       "date                                                                \n",
       "2017-10-11 2017-10-11 17:51:53      1.0            5.0        3.0   \n",
       "2017-10-13 2017-10-13 17:51:36      0.0            5.0        4.0   \n",
       "2017-10-16 2017-10-16 17:45:03      1.0            5.0        3.0   \n",
       "\n",
       "game_num                     2                                     \\\n",
       "                      end_time my_point opponent_point team_point   \n",
       "date                                                                \n",
       "2017-10-11 2017-10-11 18:00:46      0.0            1.0        3.0   \n",
       "2017-10-13 2017-10-13 18:03:47      1.0            1.0        5.0   \n",
       "2017-10-16 2017-10-16 17:57:21      2.0            2.0        5.0   \n",
       "\n",
       "game_num                     3                                     \n",
       "                      end_time my_point opponent_point team_point  \n",
       "date                                                               \n",
       "2017-10-11                 NaT      NaN            NaN        NaN  \n",
       "2017-10-13 2017-10-13 18:16:08      1.0            3.0        1.0  \n",
       "2017-10-16                 NaT      NaN            NaN        NaN  "
      ]
     },
     "execution_count": 28,
     "metadata": {},
     "output_type": "execute_result"
    }
   ],
   "source": [
    "df.set_index(['date', 'game_num']).unstack('game_num').reorder_levels([1,0], axis=1).sort_index(axis=1)"
   ]
  }
 ],
 "metadata": {
  "hide_input": false,
  "kernelspec": {
   "display_name": "Python 3",
   "language": "python",
   "name": "python3"
  },
  "language_info": {
   "codemirror_mode": {
    "name": "ipython",
    "version": 3
   },
   "file_extension": ".py",
   "mimetype": "text/x-python",
   "name": "python",
   "nbconvert_exporter": "python",
   "pygments_lexer": "ipython3",
   "version": "3.6.0"
  },
  "varInspector": {
   "cols": {
    "lenName": 16,
    "lenType": 16,
    "lenVar": 40
   },
   "kernels_config": {
    "python": {
     "delete_cmd_postfix": "",
     "delete_cmd_prefix": "del ",
     "library": "var_list.py",
     "varRefreshCmd": "print(var_dic_list())"
    },
    "r": {
     "delete_cmd_postfix": ") ",
     "delete_cmd_prefix": "rm(",
     "library": "var_list.r",
     "varRefreshCmd": "cat(var_dic_list()) "
    }
   },
   "types_to_exclude": [
    "module",
    "function",
    "builtin_function_or_method",
    "instance",
    "_Feature"
   ],
   "window_display": false
  }
 },
 "nbformat": 4,
 "nbformat_minor": 2
}
