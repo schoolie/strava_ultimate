{
 "cells": [
  {
   "cell_type": "code",
   "execution_count": 1,
   "metadata": {
    "ExecuteTime": {
     "end_time": "2018-03-21T15:01:27.513218Z",
     "start_time": "2018-03-21T15:01:26.556740Z"
    },
    "collapsed": true
   },
   "outputs": [],
   "source": [
    "import stravalib\n",
    "import logging\n",
    "from xml.dom import minidom\n",
    "import dateutil\n",
    "import numpy as np\n",
    "import pandas as pd\n",
    "\n",
    "import os\n",
    "\n",
    "from datetime import datetime, timedelta, date\n",
    "\n",
    "\n",
    "logger = logging.getLogger()\n",
    "logger.setLevel(logging.ERROR)"
   ]
  },
  {
   "cell_type": "code",
   "execution_count": 2,
   "metadata": {
    "ExecuteTime": {
     "end_time": "2018-03-21T15:01:28.563743Z",
     "start_time": "2018-03-21T15:01:27.867395Z"
    }
   },
   "outputs": [
    {
     "data": {
      "text/html": [
       "<a href=\"https://www.strava.com/oauth/authorize?client_id=19435&redirect_uri=http%3A%2F%2Flocalhost%3A8282%2Fauthorized&approval_prompt=auto&response_type=code&scope=view_private%2Cwrite\">https://www.strava.com/oauth/authorize?client_id=19435&redirect_uri=http%3A%2F%2Flocalhost%3A8282%2Fauthorized&approval_prompt=auto&response_type=code&scope=view_private%2Cwrite</a>"
      ],
      "text/plain": [
       "<IPython.core.display.HTML object>"
      ]
     },
     "metadata": {},
     "output_type": "display_data"
    },
    {
     "name": "stdout",
     "output_type": "stream",
     "text": [
      "athlete name Brian, athlete id 3360678.\n"
     ]
    }
   ],
   "source": [
    "#### Setting up strava API client\n",
    "\n",
    "#Global Variables - put your data in the file 'client.secret' and separate the fields with a comma!\n",
    "client = stravalib.client.Client()\n",
    "access_token = 'e3ccedc91fceef32077fbb31fc44676446d14bdd'\n",
    "\n",
    "client.access_token = access_token\n",
    "athlete = client.get_athlete()\n",
    "\n",
    "## Enable accessing private activities\n",
    "auth_url = client.authorization_url(client_id=19435, redirect_uri='http://localhost:8282/authorized', approval_prompt=u'auto', scope='view_private,write', state=None)\n",
    "from IPython.core.display import display, HTML\n",
    "display(HTML(\"\"\"<a href=\"{}\">{}</a>\"\"\".format(auth_url,auth_url)))\n",
    "\n",
    "code = '6d057263b427852b0489af26e921f8fd25a78852'\n",
    "access_token = client.exchange_code_for_token(client_id=19435, client_secret='45b776d5beceeb34c290b8a56bf9829d6d4ea5d7', code=code)\n",
    "\n",
    "strava_client = stravalib.client.Client(access_token=access_token)\n",
    "athlete = strava_client.get_athlete()\n",
    "print('athlete name %s, athlete id %s.' %(athlete.firstname, athlete.id))"
   ]
  },
  {
   "cell_type": "code",
   "execution_count": 3,
   "metadata": {
    "ExecuteTime": {
     "end_time": "2018-03-21T15:01:31.834377Z",
     "start_time": "2018-03-21T15:01:29.140031Z"
    },
    "collapsed": true
   },
   "outputs": [],
   "source": [
    "## Set up google sheets client, open worksheet\n",
    "import pygsheets\n",
    "\n",
    "gc = pygsheets.authorize(outh_file='client_secret.json', no_cache=True)\n",
    "\n",
    "# Open spreadsheet and then workseet\n",
    "sh = gc.open('Milburn Ultimate Scores')"
   ]
  },
  {
   "cell_type": "code",
   "execution_count": 4,
   "metadata": {
    "ExecuteTime": {
     "end_time": "2018-03-21T15:01:32.940930Z",
     "start_time": "2018-03-21T15:01:32.543732Z"
    }
   },
   "outputs": [
    {
     "data": {
      "text/plain": [
       "datetime.datetime(2018, 3, 20, 12, 54, 17)"
      ]
     },
     "execution_count": 4,
     "metadata": {},
     "output_type": "execute_result"
    }
   ],
   "source": [
    "## Get last entry from Raw Point Spreadsheet\n",
    "\n",
    "wks = sh.worksheet_by_title('raw_points')\n",
    "\n",
    "dates_recorded = [datetime.strptime(d, '%Y-%m-%d %H:%M:%S') for d in wks.get_col(2) if d != '' and d != 'Start Time']\n",
    "lap_start_date = max(dates_recorded) + timedelta(days=1)\n",
    "# lap_start_date = dates_recorded[20]\n",
    "\n",
    "# lap_start_date = lap_start_date - timedelta(days=5)\n",
    "\n",
    "lap_start_date"
   ]
  },
  {
   "cell_type": "code",
   "execution_count": 5,
   "metadata": {
    "ExecuteTime": {
     "end_time": "2018-03-21T15:01:36.288603Z",
     "start_time": "2018-03-21T15:01:35.620269Z"
    },
    "collapsed": true,
    "scrolled": false
   },
   "outputs": [],
   "source": [
    "runs = []\n",
    "for activity in strava_client.get_activities(after=lap_start_date):\n",
    "    if 'ltimate' in activity.name and activity.type == 'Run':\n",
    "        a = strava_client.get_activity(activity.id)\n",
    "        runs.append(a)"
   ]
  },
  {
   "cell_type": "code",
   "execution_count": 6,
   "metadata": {
    "ExecuteTime": {
     "end_time": "2018-03-21T15:01:37.082000Z",
     "start_time": "2018-03-21T15:01:37.071995Z"
    },
    "code_folding": [
     0
    ],
    "collapsed": true
   },
   "outputs": [],
   "source": [
    "def get_strava_description(activity, p=False):\n",
    "    new_activity = strava_client.get_activity(activity.id)\n",
    "    try:\n",
    "        scores, color = new_activity.description.split(' ')\n",
    "        try:\n",
    "            team_score, opponent_score = scores.split('-')\n",
    "        except ValueError:\n",
    "            team_score, opponent_score, color = None, None, None     \n",
    "    except ValueError:\n",
    "        scores = None\n",
    "        team_score, opponent_score, color = None, None, None           \n",
    "\n",
    "    try:\n",
    "        color = color.lower()\n",
    "    except AttributeError:\n",
    "        color = None\n",
    "        \n",
    "    if p:\n",
    "        print(new_activity.start_date)\n",
    "        print(new_activity.description)\n",
    "        print(team_score, opponent_score, color)\n",
    "        \n",
    "    return team_score, opponent_score, color"
   ]
  },
  {
   "cell_type": "code",
   "execution_count": 7,
   "metadata": {
    "ExecuteTime": {
     "end_time": "2018-03-21T15:01:38.491704Z",
     "start_time": "2018-03-21T15:01:38.432675Z"
    },
    "code_folding": [
     1,
     23
    ],
    "collapsed": true
   },
   "outputs": [],
   "source": [
    "## Functions\n",
    "def extract_events(run):\n",
    "    lap_nums = []\n",
    "    start_times = []\n",
    "    elapsed_times = []\n",
    "    for l in run.laps:\n",
    "        try:\n",
    "            lap_nums.append(int(l['name'].split(' ')[-1]))\n",
    "            start_times.append(datetime.strptime(l['start_date_local'], '%Y-%m-%dT%H:%M:%SZ'))\n",
    "            elapsed_times.append(timedelta(seconds=l['elapsed_time']))\n",
    "        except TypeError:\n",
    "            lap_nums.append(int(l.name.split(' ')[-1]))\n",
    "            start_times.append(l.start_date_local)\n",
    "            elapsed_times.append(l.elapsed_time)\n",
    "\n",
    "    lap_nums = np.array(lap_nums)\n",
    "    \n",
    "    events = []\n",
    "    for n, s, e in zip(np.diff(lap_nums), start_times, elapsed_times):\n",
    "        events.append([n, s, e])\n",
    "    \n",
    "    return (events)\n",
    "        \n",
    "def process_events(events):\n",
    "    \n",
    "    event_lookup = [\n",
    "        '',\n",
    "        'team_point',\n",
    "        'opponent_point',\n",
    "        'my_point',\n",
    "        'game',\n",
    "        'game',\n",
    "        'game'\n",
    "    ]\n",
    "    \n",
    "    games = []\n",
    "    game_num = 0\n",
    "    added = False\n",
    "\n",
    "    base_game = {'my_point': 0, 'team_point': 0, 'opponent_point': 0, 'game_num': 0, 'events':[], 'start_time':None, 'end_time':None}\n",
    "    game = base_game\n",
    "\n",
    "    for event in events:\n",
    "        if game['start_time'] is None:\n",
    "            game['start_time'] = event[1]\n",
    "\n",
    "        game['end_time'] = event[1] + event[2]\n",
    "\n",
    "        event_type = event_lookup[event[0]]\n",
    "        game['events'].append((event_type, event[1], event[2]))\n",
    "\n",
    "\n",
    "        if event_type == 'game':\n",
    "            games.append(game)\n",
    "            game_num += 1\n",
    "            game = {'my_point': 0, 'team_point': 0, 'opponent_point': 0, 'game_num': game_num, 'events':[], 'start_time':None, 'end_time':None}\n",
    "            added = True\n",
    "\n",
    "        elif event_type == 'my_point':\n",
    "            game[event_type] += 1\n",
    "            game['team_point'] += 1\n",
    "            added = False\n",
    "\n",
    "        else:\n",
    "            game[event_type] += 1\n",
    "            added = False\n",
    "\n",
    "\n",
    "    if not added:\n",
    "        games.append(game)\n",
    "    \n",
    "    \n",
    "    ## Assign game winners\n",
    "    for game in games:\n",
    "        if game['team_point'] > game['opponent_point']:\n",
    "            game['win'] = True\n",
    "        else:\n",
    "            game['win'] = False\n",
    "            \n",
    "    return games"
   ]
  },
  {
   "cell_type": "code",
   "execution_count": 8,
   "metadata": {
    "ExecuteTime": {
     "end_time": "2018-03-21T15:01:39.748332Z",
     "start_time": "2018-03-21T15:01:39.425171Z"
    }
   },
   "outputs": [
    {
     "name": "stdout",
     "output_type": "stream",
     "text": [
      "2018-03-21 17:11:45+00:00\n",
      "1-2 colors\n",
      "1 2 colors\n"
     ]
    }
   ],
   "source": [
    "## Compile raw points for export\n",
    "games = []\n",
    "all_data = []\n",
    "for run in reversed(runs):\n",
    "    team_wins, opponent_wins, color = get_strava_description(run, p=True)\n",
    "    \n",
    "    events = extract_events(run)\n",
    "\n",
    "    point_df = pd.DataFrame(events, columns=['count', 'start_time', 'elapsed_time'])\n",
    "    point_df['start_time'] = point_df['start_time'].apply(lambda x: x.strftime('%Y-%m-%d %H:%M:%S'))\n",
    "    point_df['elapsed_time'] = point_df['elapsed_time'].apply(lambda x: x.seconds)\n",
    "    \n",
    "    data = point_df.sort_index(ascending=False).as_matrix().tolist()\n",
    "    all_data = all_data + data\n",
    "    \n",
    "    \n",
    "    "
   ]
  },
  {
   "cell_type": "code",
   "execution_count": 9,
   "metadata": {
    "ExecuteTime": {
     "end_time": "2018-03-21T15:01:41.220068Z",
     "start_time": "2018-03-21T15:01:40.466691Z"
    },
    "collapsed": true
   },
   "outputs": [],
   "source": [
    "## Write raw points to gsheets\n",
    "wks = sh.worksheet_by_title('raw_points')\n",
    "wks.insert_rows(2, values=all_data, number=len(all_data))"
   ]
  },
  {
   "cell_type": "code",
   "execution_count": 10,
   "metadata": {
    "ExecuteTime": {
     "end_time": "2018-03-21T15:05:17.996402Z",
     "start_time": "2018-03-21T15:05:17.132970Z"
    },
    "scrolled": false
   },
   "outputs": [
    {
     "data": {
      "text/plain": [
       "datetime.datetime(2018, 3, 20, 0, 0)"
      ]
     },
     "execution_count": 10,
     "metadata": {},
     "output_type": "execute_result"
    }
   ],
   "source": [
    "## Get last entry from Data Spreadsheet\n",
    "\n",
    "wks = sh.worksheet_by_title('game_summaries')\n",
    "\n",
    "dates_recorded = [datetime.strptime(d, '%Y-%m-%d') for d in wks.get_col(1) if d != '' and d != 'Date']\n",
    "lap_start_date = max(dates_recorded) + timedelta(days=1)\n",
    "# lap_start_date = dates_recorded[20]\n",
    "lap_start_date\n",
    "# from datetime import timedelta\n",
    "# lap_start_date = lap_start_date - timedelta(days=2)"
   ]
  },
  {
   "cell_type": "code",
   "execution_count": 11,
   "metadata": {
    "ExecuteTime": {
     "end_time": "2018-03-21T15:05:26.140472Z",
     "start_time": "2018-03-21T15:05:25.358081Z"
    },
    "scrolled": false
   },
   "outputs": [
    {
     "data": {
      "text/html": [
       "<div>\n",
       "<table border=\"1\" class=\"dataframe\">\n",
       "  <thead>\n",
       "    <tr style=\"text-align: right;\">\n",
       "      <th></th>\n",
       "      <th>Type</th>\n",
       "      <th>Start Time</th>\n",
       "      <th>Elapsed Time (Sec)</th>\n",
       "      <th>Day</th>\n",
       "    </tr>\n",
       "  </thead>\n",
       "  <tbody>\n",
       "    <tr>\n",
       "      <th>0</th>\n",
       "      <td>2</td>\n",
       "      <td>2018-03-21 13:03:02</td>\n",
       "      <td>00:01:37</td>\n",
       "      <td>2018-03-21</td>\n",
       "    </tr>\n",
       "    <tr>\n",
       "      <th>1</th>\n",
       "      <td>2</td>\n",
       "      <td>2018-03-21 13:01:30</td>\n",
       "      <td>00:01:31</td>\n",
       "      <td>2018-03-21</td>\n",
       "    </tr>\n",
       "    <tr>\n",
       "      <th>2</th>\n",
       "      <td>1</td>\n",
       "      <td>2018-03-21 12:59:38</td>\n",
       "      <td>00:01:52</td>\n",
       "      <td>2018-03-21</td>\n",
       "    </tr>\n",
       "    <tr>\n",
       "      <th>3</th>\n",
       "      <td>2</td>\n",
       "      <td>2018-03-21 12:58:16</td>\n",
       "      <td>00:01:19</td>\n",
       "      <td>2018-03-21</td>\n",
       "    </tr>\n",
       "    <tr>\n",
       "      <th>4</th>\n",
       "      <td>3</td>\n",
       "      <td>2018-03-21 12:56:49</td>\n",
       "      <td>00:01:25</td>\n",
       "      <td>2018-03-21</td>\n",
       "    </tr>\n",
       "    <tr>\n",
       "      <th>5</th>\n",
       "      <td>2</td>\n",
       "      <td>2018-03-21 12:55:30</td>\n",
       "      <td>00:01:21</td>\n",
       "      <td>2018-03-21</td>\n",
       "    </tr>\n",
       "    <tr>\n",
       "      <th>6</th>\n",
       "      <td>1</td>\n",
       "      <td>2018-03-21 12:52:20</td>\n",
       "      <td>00:03:16</td>\n",
       "      <td>2018-03-21</td>\n",
       "    </tr>\n",
       "    <tr>\n",
       "      <th>7</th>\n",
       "      <td>2</td>\n",
       "      <td>2018-03-21 12:49:20</td>\n",
       "      <td>00:02:50</td>\n",
       "      <td>2018-03-21</td>\n",
       "    </tr>\n",
       "    <tr>\n",
       "      <th>8</th>\n",
       "      <td>1</td>\n",
       "      <td>2018-03-21 12:48:05</td>\n",
       "      <td>00:01:15</td>\n",
       "      <td>2018-03-21</td>\n",
       "    </tr>\n",
       "    <tr>\n",
       "      <th>9</th>\n",
       "      <td>4</td>\n",
       "      <td>2018-03-21 12:47:44</td>\n",
       "      <td>00:00:16</td>\n",
       "      <td>2018-03-21</td>\n",
       "    </tr>\n",
       "    <tr>\n",
       "      <th>10</th>\n",
       "      <td>2</td>\n",
       "      <td>2018-03-21 12:47:42</td>\n",
       "      <td>00:00:01</td>\n",
       "      <td>2018-03-21</td>\n",
       "    </tr>\n",
       "    <tr>\n",
       "      <th>11</th>\n",
       "      <td>1</td>\n",
       "      <td>2018-03-21 12:45:31</td>\n",
       "      <td>00:02:11</td>\n",
       "      <td>2018-03-21</td>\n",
       "    </tr>\n",
       "    <tr>\n",
       "      <th>12</th>\n",
       "      <td>3</td>\n",
       "      <td>2018-03-21 12:43:54</td>\n",
       "      <td>00:01:37</td>\n",
       "      <td>2018-03-21</td>\n",
       "    </tr>\n",
       "    <tr>\n",
       "      <th>13</th>\n",
       "      <td>2</td>\n",
       "      <td>2018-03-21 12:42:18</td>\n",
       "      <td>00:01:35</td>\n",
       "      <td>2018-03-21</td>\n",
       "    </tr>\n",
       "    <tr>\n",
       "      <th>14</th>\n",
       "      <td>1</td>\n",
       "      <td>2018-03-21 12:39:58</td>\n",
       "      <td>00:02:17</td>\n",
       "      <td>2018-03-21</td>\n",
       "    </tr>\n",
       "    <tr>\n",
       "      <th>15</th>\n",
       "      <td>2</td>\n",
       "      <td>2018-03-21 12:37:49</td>\n",
       "      <td>00:02:09</td>\n",
       "      <td>2018-03-21</td>\n",
       "    </tr>\n",
       "    <tr>\n",
       "      <th>16</th>\n",
       "      <td>2</td>\n",
       "      <td>2018-03-21 12:34:10</td>\n",
       "      <td>00:03:02</td>\n",
       "      <td>2018-03-21</td>\n",
       "    </tr>\n",
       "    <tr>\n",
       "      <th>17</th>\n",
       "      <td>2</td>\n",
       "      <td>2018-03-21 12:31:42</td>\n",
       "      <td>00:02:24</td>\n",
       "      <td>2018-03-21</td>\n",
       "    </tr>\n",
       "    <tr>\n",
       "      <th>18</th>\n",
       "      <td>4</td>\n",
       "      <td>2018-03-21 12:30:58</td>\n",
       "      <td>00:00:34</td>\n",
       "      <td>2018-03-21</td>\n",
       "    </tr>\n",
       "    <tr>\n",
       "      <th>19</th>\n",
       "      <td>1</td>\n",
       "      <td>2018-03-21 12:28:06</td>\n",
       "      <td>00:02:53</td>\n",
       "      <td>2018-03-21</td>\n",
       "    </tr>\n",
       "    <tr>\n",
       "      <th>20</th>\n",
       "      <td>1</td>\n",
       "      <td>2018-03-21 12:26:25</td>\n",
       "      <td>00:01:37</td>\n",
       "      <td>2018-03-21</td>\n",
       "    </tr>\n",
       "    <tr>\n",
       "      <th>21</th>\n",
       "      <td>1</td>\n",
       "      <td>2018-03-21 12:24:03</td>\n",
       "      <td>00:02:24</td>\n",
       "      <td>2018-03-21</td>\n",
       "    </tr>\n",
       "    <tr>\n",
       "      <th>22</th>\n",
       "      <td>1</td>\n",
       "      <td>2018-03-21 12:22:07</td>\n",
       "      <td>00:01:53</td>\n",
       "      <td>2018-03-21</td>\n",
       "    </tr>\n",
       "    <tr>\n",
       "      <th>23</th>\n",
       "      <td>2</td>\n",
       "      <td>2018-03-21 12:20:57</td>\n",
       "      <td>00:01:12</td>\n",
       "      <td>2018-03-21</td>\n",
       "    </tr>\n",
       "    <tr>\n",
       "      <th>24</th>\n",
       "      <td>1</td>\n",
       "      <td>2018-03-21 12:18:58</td>\n",
       "      <td>00:01:53</td>\n",
       "      <td>2018-03-21</td>\n",
       "    </tr>\n",
       "    <tr>\n",
       "      <th>25</th>\n",
       "      <td>2</td>\n",
       "      <td>2018-03-21 12:15:25</td>\n",
       "      <td>00:03:31</td>\n",
       "      <td>2018-03-21</td>\n",
       "    </tr>\n",
       "    <tr>\n",
       "      <th>26</th>\n",
       "      <td>2</td>\n",
       "      <td>2018-03-21 12:13:37</td>\n",
       "      <td>00:01:47</td>\n",
       "      <td>2018-03-21</td>\n",
       "    </tr>\n",
       "    <tr>\n",
       "      <th>27</th>\n",
       "      <td>2</td>\n",
       "      <td>2018-03-21 12:11:45</td>\n",
       "      <td>00:01:49</td>\n",
       "      <td>2018-03-21</td>\n",
       "    </tr>\n",
       "  </tbody>\n",
       "</table>\n",
       "</div>"
      ],
      "text/plain": [
       "    Type          Start Time  Elapsed Time (Sec)        Day\n",
       "0      2 2018-03-21 13:03:02            00:01:37 2018-03-21\n",
       "1      2 2018-03-21 13:01:30            00:01:31 2018-03-21\n",
       "2      1 2018-03-21 12:59:38            00:01:52 2018-03-21\n",
       "3      2 2018-03-21 12:58:16            00:01:19 2018-03-21\n",
       "4      3 2018-03-21 12:56:49            00:01:25 2018-03-21\n",
       "5      2 2018-03-21 12:55:30            00:01:21 2018-03-21\n",
       "6      1 2018-03-21 12:52:20            00:03:16 2018-03-21\n",
       "7      2 2018-03-21 12:49:20            00:02:50 2018-03-21\n",
       "8      1 2018-03-21 12:48:05            00:01:15 2018-03-21\n",
       "9      4 2018-03-21 12:47:44            00:00:16 2018-03-21\n",
       "10     2 2018-03-21 12:47:42            00:00:01 2018-03-21\n",
       "11     1 2018-03-21 12:45:31            00:02:11 2018-03-21\n",
       "12     3 2018-03-21 12:43:54            00:01:37 2018-03-21\n",
       "13     2 2018-03-21 12:42:18            00:01:35 2018-03-21\n",
       "14     1 2018-03-21 12:39:58            00:02:17 2018-03-21\n",
       "15     2 2018-03-21 12:37:49            00:02:09 2018-03-21\n",
       "16     2 2018-03-21 12:34:10            00:03:02 2018-03-21\n",
       "17     2 2018-03-21 12:31:42            00:02:24 2018-03-21\n",
       "18     4 2018-03-21 12:30:58            00:00:34 2018-03-21\n",
       "19     1 2018-03-21 12:28:06            00:02:53 2018-03-21\n",
       "20     1 2018-03-21 12:26:25            00:01:37 2018-03-21\n",
       "21     1 2018-03-21 12:24:03            00:02:24 2018-03-21\n",
       "22     1 2018-03-21 12:22:07            00:01:53 2018-03-21\n",
       "23     2 2018-03-21 12:20:57            00:01:12 2018-03-21\n",
       "24     1 2018-03-21 12:18:58            00:01:53 2018-03-21\n",
       "25     2 2018-03-21 12:15:25            00:03:31 2018-03-21\n",
       "26     2 2018-03-21 12:13:37            00:01:47 2018-03-21\n",
       "27     2 2018-03-21 12:11:45            00:01:49 2018-03-21"
      ]
     },
     "execution_count": 11,
     "metadata": {},
     "output_type": "execute_result"
    }
   ],
   "source": [
    "wks = sh.worksheet_by_title('raw_points')\n",
    "col_names = wks.get_all_values()[1][0:3]\n",
    "\n",
    "val_lists = wks.get_all_values()[2:]\n",
    "val_lists = [v[0:3] for v in val_lists]\n",
    "processed_raw_points = pd.DataFrame(val_lists, columns=col_names)\n",
    "\n",
    "# Process\n",
    "processed_raw_points['Type'] = processed_raw_points['Type'].apply(lambda x: int(x))\n",
    "\n",
    "processed_raw_points['Start Time'] = processed_raw_points['Start Time'].apply(lambda x: datetime.strptime(x, '%Y-%m-%d %H:%M:%S'))\n",
    "processed_raw_points['Day'] = processed_raw_points['Start Time'].apply(lambda x: datetime(year=x.year, month=x.month, day=x.day))\n",
    "processed_raw_points['Elapsed Time (Sec)'] = processed_raw_points['Elapsed Time (Sec)'].apply(lambda x: timedelta(seconds=int(x)))\n",
    "\n",
    "\n",
    "processed_raw_points = processed_raw_points[processed_raw_points['Start Time'] > lap_start_date]\n",
    "processed_raw_points"
   ]
  },
  {
   "cell_type": "code",
   "execution_count": 12,
   "metadata": {
    "ExecuteTime": {
     "end_time": "2018-03-21T15:05:28.500651Z",
     "start_time": "2018-03-21T15:05:28.462632Z"
    }
   },
   "outputs": [
    {
     "name": "stdout",
     "output_type": "stream",
     "text": [
      "2018-03-21 00:00:00\n",
      "[2, Timestamp('2018-03-21 13:03:02'), Timedelta('0 days 00:01:37')]\n",
      "[2, Timestamp('2018-03-21 13:01:30'), Timedelta('0 days 00:01:31')]\n",
      "[1, Timestamp('2018-03-21 12:59:38'), Timedelta('0 days 00:01:52')]\n",
      "[2, Timestamp('2018-03-21 12:58:16'), Timedelta('0 days 00:01:19')]\n",
      "[3, Timestamp('2018-03-21 12:56:49'), Timedelta('0 days 00:01:25')]\n",
      "[2, Timestamp('2018-03-21 12:55:30'), Timedelta('0 days 00:01:21')]\n",
      "[1, Timestamp('2018-03-21 12:52:20'), Timedelta('0 days 00:03:16')]\n",
      "[2, Timestamp('2018-03-21 12:49:20'), Timedelta('0 days 00:02:50')]\n",
      "[1, Timestamp('2018-03-21 12:48:05'), Timedelta('0 days 00:01:15')]\n",
      "[4, Timestamp('2018-03-21 12:47:44'), Timedelta('0 days 00:00:16')]\n",
      "[2, Timestamp('2018-03-21 12:47:42'), Timedelta('0 days 00:00:01')]\n",
      "[1, Timestamp('2018-03-21 12:45:31'), Timedelta('0 days 00:02:11')]\n",
      "[3, Timestamp('2018-03-21 12:43:54'), Timedelta('0 days 00:01:37')]\n",
      "[2, Timestamp('2018-03-21 12:42:18'), Timedelta('0 days 00:01:35')]\n",
      "[1, Timestamp('2018-03-21 12:39:58'), Timedelta('0 days 00:02:17')]\n",
      "[2, Timestamp('2018-03-21 12:37:49'), Timedelta('0 days 00:02:09')]\n",
      "[2, Timestamp('2018-03-21 12:34:10'), Timedelta('0 days 00:03:02')]\n",
      "[2, Timestamp('2018-03-21 12:31:42'), Timedelta('0 days 00:02:24')]\n",
      "[4, Timestamp('2018-03-21 12:30:58'), Timedelta('0 days 00:00:34')]\n",
      "[1, Timestamp('2018-03-21 12:28:06'), Timedelta('0 days 00:02:53')]\n",
      "[1, Timestamp('2018-03-21 12:26:25'), Timedelta('0 days 00:01:37')]\n",
      "[1, Timestamp('2018-03-21 12:24:03'), Timedelta('0 days 00:02:24')]\n",
      "[1, Timestamp('2018-03-21 12:22:07'), Timedelta('0 days 00:01:53')]\n",
      "[2, Timestamp('2018-03-21 12:20:57'), Timedelta('0 days 00:01:12')]\n",
      "[1, Timestamp('2018-03-21 12:18:58'), Timedelta('0 days 00:01:53')]\n",
      "[2, Timestamp('2018-03-21 12:15:25'), Timedelta('0 days 00:03:31')]\n",
      "[2, Timestamp('2018-03-21 12:13:37'), Timedelta('0 days 00:01:47')]\n",
      "[2, Timestamp('2018-03-21 12:11:45'), Timedelta('0 days 00:01:49')]\n"
     ]
    }
   ],
   "source": [
    "for day, pdf in processed_raw_points.groupby('Day', sort=False):\n",
    "    print(day)\n",
    "    events = pdf[['Type', 'Start Time', 'Elapsed Time (Sec)']].as_matrix().tolist()\n",
    "    \n",
    "    for e in events:\n",
    "        print(e)\n",
    "    current_games = process_events(events)\n",
    "    \n",
    "    for g in current_games:\n",
    "        g['my_color'] = color\n",
    "        g['team_wins'] = team_wins\n",
    "        g['opponent_wins'] = opponent_wins\n",
    "        \n",
    "\n",
    "    games = games + current_games\n"
   ]
  },
  {
   "cell_type": "code",
   "execution_count": 13,
   "metadata": {
    "ExecuteTime": {
     "end_time": "2018-03-21T15:05:31.036919Z",
     "start_time": "2018-03-21T15:05:31.020911Z"
    },
    "collapsed": true
   },
   "outputs": [],
   "source": [
    "df = pd.DataFrame(games).dropna()"
   ]
  },
  {
   "cell_type": "code",
   "execution_count": 14,
   "metadata": {
    "ExecuteTime": {
     "end_time": "2018-03-21T15:05:32.340570Z",
     "start_time": "2018-03-21T15:05:32.319560Z"
    }
   },
   "outputs": [
    {
     "data": {
      "text/html": [
       "<div>\n",
       "<table border=\"1\" class=\"dataframe\">\n",
       "  <thead>\n",
       "    <tr style=\"text-align: right;\">\n",
       "      <th></th>\n",
       "      <th></th>\n",
       "      <th>end_time</th>\n",
       "      <th>events</th>\n",
       "      <th>game_num</th>\n",
       "      <th>my_color</th>\n",
       "      <th>my_point</th>\n",
       "      <th>opponent_point</th>\n",
       "      <th>opponent_wins</th>\n",
       "      <th>start_time</th>\n",
       "      <th>team_point</th>\n",
       "      <th>team_wins</th>\n",
       "      <th>win</th>\n",
       "      <th>date</th>\n",
       "    </tr>\n",
       "    <tr>\n",
       "      <th>date</th>\n",
       "      <th>game_num</th>\n",
       "      <th></th>\n",
       "      <th></th>\n",
       "      <th></th>\n",
       "      <th></th>\n",
       "      <th></th>\n",
       "      <th></th>\n",
       "      <th></th>\n",
       "      <th></th>\n",
       "      <th></th>\n",
       "      <th></th>\n",
       "      <th></th>\n",
       "      <th></th>\n",
       "    </tr>\n",
       "  </thead>\n",
       "  <tbody>\n",
       "    <tr>\n",
       "      <th rowspan=\"3\" valign=\"top\">2018-03-21</th>\n",
       "      <th>0</th>\n",
       "      <td>2018-03-21 12:48:00</td>\n",
       "      <td>[(opponent_point, 2018-03-21 13:03:02, 0 days ...</td>\n",
       "      <td>0</td>\n",
       "      <td>colors</td>\n",
       "      <td>1</td>\n",
       "      <td>5</td>\n",
       "      <td>2</td>\n",
       "      <td>2018-03-21 13:03:02</td>\n",
       "      <td>4</td>\n",
       "      <td>1</td>\n",
       "      <td>False</td>\n",
       "      <td>2018-03-21</td>\n",
       "    </tr>\n",
       "    <tr>\n",
       "      <th>1</th>\n",
       "      <td>2018-03-21 12:31:32</td>\n",
       "      <td>[(opponent_point, 2018-03-21 12:47:42, 0 days ...</td>\n",
       "      <td>1</td>\n",
       "      <td>colors</td>\n",
       "      <td>1</td>\n",
       "      <td>5</td>\n",
       "      <td>2</td>\n",
       "      <td>2018-03-21 12:47:42</td>\n",
       "      <td>3</td>\n",
       "      <td>1</td>\n",
       "      <td>False</td>\n",
       "      <td>2018-03-21</td>\n",
       "    </tr>\n",
       "    <tr>\n",
       "      <th>2</th>\n",
       "      <td>2018-03-21 12:13:34</td>\n",
       "      <td>[(team_point, 2018-03-21 12:28:06, 0 days 00:0...</td>\n",
       "      <td>2</td>\n",
       "      <td>colors</td>\n",
       "      <td>0</td>\n",
       "      <td>4</td>\n",
       "      <td>2</td>\n",
       "      <td>2018-03-21 12:28:06</td>\n",
       "      <td>5</td>\n",
       "      <td>1</td>\n",
       "      <td>True</td>\n",
       "      <td>2018-03-21</td>\n",
       "    </tr>\n",
       "  </tbody>\n",
       "</table>\n",
       "</div>"
      ],
      "text/plain": [
       "                               end_time  \\\n",
       "date       game_num                       \n",
       "2018-03-21 0        2018-03-21 12:48:00   \n",
       "           1        2018-03-21 12:31:32   \n",
       "           2        2018-03-21 12:13:34   \n",
       "\n",
       "                                                                events  \\\n",
       "date       game_num                                                      \n",
       "2018-03-21 0         [(opponent_point, 2018-03-21 13:03:02, 0 days ...   \n",
       "           1         [(opponent_point, 2018-03-21 12:47:42, 0 days ...   \n",
       "           2         [(team_point, 2018-03-21 12:28:06, 0 days 00:0...   \n",
       "\n",
       "                     game_num my_color  my_point  opponent_point  \\\n",
       "date       game_num                                                \n",
       "2018-03-21 0                0   colors         1               5   \n",
       "           1                1   colors         1               5   \n",
       "           2                2   colors         0               4   \n",
       "\n",
       "                    opponent_wins          start_time  team_point team_wins  \\\n",
       "date       game_num                                                           \n",
       "2018-03-21 0                    2 2018-03-21 13:03:02           4         1   \n",
       "           1                    2 2018-03-21 12:47:42           3         1   \n",
       "           2                    2 2018-03-21 12:28:06           5         1   \n",
       "\n",
       "                       win        date  \n",
       "date       game_num                     \n",
       "2018-03-21 0         False  2018-03-21  \n",
       "           1         False  2018-03-21  \n",
       "           2          True  2018-03-21  "
      ]
     },
     "execution_count": 14,
     "metadata": {},
     "output_type": "execute_result"
    }
   ],
   "source": [
    "df['date'] = df.end_time.apply(lambda x: date(x.year, x.month, x.day))\n",
    "\n",
    "df = df.set_index(['date', 'game_num'], drop=False)\n",
    "df"
   ]
  },
  {
   "cell_type": "code",
   "execution_count": 15,
   "metadata": {
    "ExecuteTime": {
     "end_time": "2018-03-21T15:05:41.578187Z",
     "start_time": "2018-03-21T15:05:41.575185Z"
    },
    "collapsed": true
   },
   "outputs": [],
   "source": [
    "pdf = df"
   ]
  },
  {
   "cell_type": "code",
   "execution_count": 16,
   "metadata": {
    "ExecuteTime": {
     "end_time": "2018-03-21T15:05:42.372584Z",
     "start_time": "2018-03-21T15:05:42.367581Z"
    },
    "collapsed": true
   },
   "outputs": [],
   "source": [
    "pdf['white_wins'] = None\n",
    "pdf['color_wins'] = None\n",
    "pdf['white_point'] = None\n",
    "pdf['color_point'] = None\n",
    "pdf['game_winner'] = None"
   ]
  },
  {
   "cell_type": "code",
   "execution_count": 17,
   "metadata": {
    "ExecuteTime": {
     "end_time": "2018-03-21T15:05:43.315055Z",
     "start_time": "2018-03-21T15:05:43.289042Z"
    },
    "code_folding": [],
    "collapsed": true
   },
   "outputs": [],
   "source": [
    "for (date, game_num), row in pdf.iterrows():      \n",
    "    \n",
    "    if row.my_color == 'white':\n",
    "        if row.win:\n",
    "            pdf.loc[(date, game_num), 'game_winner'] = 'White'\n",
    "        else:\n",
    "            pdf.loc[(date, game_num), 'game_winner'] = 'Color'\n",
    "        pdf.loc[(date, game_num), 'white_wins'] = pdf.loc[(date, game_num), 'team_wins']            \n",
    "        pdf.loc[(date, game_num), 'color_wins'] = pdf.loc[(date, game_num), 'opponent_wins']            \n",
    "        pdf.loc[(date, game_num), 'white_point'] = pdf.loc[(date, game_num), 'team_point']                \n",
    "        pdf.loc[(date, game_num), 'color_point'] = pdf.loc[(date, game_num), 'opponent_point']\n",
    "\n",
    "    else:\n",
    "        if not row.win:\n",
    "            pdf.loc[(date, game_num), 'game_winner'] = 'White'\n",
    "        else:\n",
    "            pdf.loc[(date, game_num), 'game_winner'] = 'Color'\n",
    "        pdf.loc[(date, game_num), 'color_wins'] = pdf.loc[(date, game_num), 'team_wins']            \n",
    "        pdf.loc[(date, game_num), 'white_wins'] = pdf.loc[(date, game_num), 'opponent_wins']    \n",
    "        pdf.loc[(date, game_num), 'color_point'] = pdf.loc[(date, game_num), 'team_point']                \n",
    "        pdf.loc[(date, game_num), 'white_point'] = pdf.loc[(date, game_num), 'opponent_point']\n"
   ]
  },
  {
   "cell_type": "code",
   "execution_count": 18,
   "metadata": {
    "ExecuteTime": {
     "end_time": "2018-03-21T15:05:44.241518Z",
     "start_time": "2018-03-21T15:05:44.193494Z"
    }
   },
   "outputs": [
    {
     "data": {
      "text/html": [
       "<div>\n",
       "<table border=\"1\" class=\"dataframe\">\n",
       "  <thead>\n",
       "    <tr style=\"text-align: right;\">\n",
       "      <th></th>\n",
       "      <th></th>\n",
       "      <th>end_time</th>\n",
       "      <th>events</th>\n",
       "      <th>game_num</th>\n",
       "      <th>my_color</th>\n",
       "      <th>my_point</th>\n",
       "      <th>opponent_point</th>\n",
       "      <th>opponent_wins</th>\n",
       "      <th>start_time</th>\n",
       "      <th>team_point</th>\n",
       "      <th>team_wins</th>\n",
       "      <th>win</th>\n",
       "      <th>date</th>\n",
       "      <th>white_wins</th>\n",
       "      <th>color_wins</th>\n",
       "      <th>white_point</th>\n",
       "      <th>color_point</th>\n",
       "      <th>game_winner</th>\n",
       "    </tr>\n",
       "    <tr>\n",
       "      <th>date</th>\n",
       "      <th>game_num</th>\n",
       "      <th></th>\n",
       "      <th></th>\n",
       "      <th></th>\n",
       "      <th></th>\n",
       "      <th></th>\n",
       "      <th></th>\n",
       "      <th></th>\n",
       "      <th></th>\n",
       "      <th></th>\n",
       "      <th></th>\n",
       "      <th></th>\n",
       "      <th></th>\n",
       "      <th></th>\n",
       "      <th></th>\n",
       "      <th></th>\n",
       "      <th></th>\n",
       "      <th></th>\n",
       "    </tr>\n",
       "  </thead>\n",
       "  <tbody>\n",
       "    <tr>\n",
       "      <th rowspan=\"3\" valign=\"top\">2018-03-21</th>\n",
       "      <th>0</th>\n",
       "      <td>2018-03-21 12:48:00</td>\n",
       "      <td>[(opponent_point, 2018-03-21 13:03:02, 0 days ...</td>\n",
       "      <td>0</td>\n",
       "      <td>colors</td>\n",
       "      <td>1</td>\n",
       "      <td>5</td>\n",
       "      <td>2</td>\n",
       "      <td>2018-03-21 13:03:02</td>\n",
       "      <td>4</td>\n",
       "      <td>1</td>\n",
       "      <td>False</td>\n",
       "      <td>2018-03-21</td>\n",
       "      <td>2</td>\n",
       "      <td>1</td>\n",
       "      <td>5</td>\n",
       "      <td>4</td>\n",
       "      <td>White</td>\n",
       "    </tr>\n",
       "    <tr>\n",
       "      <th>1</th>\n",
       "      <td>2018-03-21 12:31:32</td>\n",
       "      <td>[(opponent_point, 2018-03-21 12:47:42, 0 days ...</td>\n",
       "      <td>1</td>\n",
       "      <td>colors</td>\n",
       "      <td>1</td>\n",
       "      <td>5</td>\n",
       "      <td>2</td>\n",
       "      <td>2018-03-21 12:47:42</td>\n",
       "      <td>3</td>\n",
       "      <td>1</td>\n",
       "      <td>False</td>\n",
       "      <td>2018-03-21</td>\n",
       "      <td>2</td>\n",
       "      <td>1</td>\n",
       "      <td>5</td>\n",
       "      <td>3</td>\n",
       "      <td>White</td>\n",
       "    </tr>\n",
       "    <tr>\n",
       "      <th>2</th>\n",
       "      <td>2018-03-21 12:13:34</td>\n",
       "      <td>[(team_point, 2018-03-21 12:28:06, 0 days 00:0...</td>\n",
       "      <td>2</td>\n",
       "      <td>colors</td>\n",
       "      <td>0</td>\n",
       "      <td>4</td>\n",
       "      <td>2</td>\n",
       "      <td>2018-03-21 12:28:06</td>\n",
       "      <td>5</td>\n",
       "      <td>1</td>\n",
       "      <td>True</td>\n",
       "      <td>2018-03-21</td>\n",
       "      <td>2</td>\n",
       "      <td>1</td>\n",
       "      <td>4</td>\n",
       "      <td>5</td>\n",
       "      <td>Color</td>\n",
       "    </tr>\n",
       "  </tbody>\n",
       "</table>\n",
       "</div>"
      ],
      "text/plain": [
       "                               end_time  \\\n",
       "date       game_num                       \n",
       "2018-03-21 0        2018-03-21 12:48:00   \n",
       "           1        2018-03-21 12:31:32   \n",
       "           2        2018-03-21 12:13:34   \n",
       "\n",
       "                                                                events  \\\n",
       "date       game_num                                                      \n",
       "2018-03-21 0         [(opponent_point, 2018-03-21 13:03:02, 0 days ...   \n",
       "           1         [(opponent_point, 2018-03-21 12:47:42, 0 days ...   \n",
       "           2         [(team_point, 2018-03-21 12:28:06, 0 days 00:0...   \n",
       "\n",
       "                     game_num my_color  my_point  opponent_point  \\\n",
       "date       game_num                                                \n",
       "2018-03-21 0                0   colors         1               5   \n",
       "           1                1   colors         1               5   \n",
       "           2                2   colors         0               4   \n",
       "\n",
       "                    opponent_wins          start_time  team_point team_wins  \\\n",
       "date       game_num                                                           \n",
       "2018-03-21 0                    2 2018-03-21 13:03:02           4         1   \n",
       "           1                    2 2018-03-21 12:47:42           3         1   \n",
       "           2                    2 2018-03-21 12:28:06           5         1   \n",
       "\n",
       "                       win        date white_wins color_wins white_point  \\\n",
       "date       game_num                                                        \n",
       "2018-03-21 0         False  2018-03-21          2          1           5   \n",
       "           1         False  2018-03-21          2          1           5   \n",
       "           2          True  2018-03-21          2          1           4   \n",
       "\n",
       "                    color_point game_winner  \n",
       "date       game_num                          \n",
       "2018-03-21 0                  4       White  \n",
       "           1                  3       White  \n",
       "           2                  5       Color  "
      ]
     },
     "execution_count": 18,
     "metadata": {},
     "output_type": "execute_result"
    }
   ],
   "source": [
    "pdf"
   ]
  },
  {
   "cell_type": "code",
   "execution_count": 19,
   "metadata": {
    "ExecuteTime": {
     "end_time": "2018-03-21T15:05:57.626207Z",
     "start_time": "2018-03-21T15:05:57.622205Z"
    },
    "collapsed": true
   },
   "outputs": [],
   "source": [
    "def merge_two_dicts(x, y):\n",
    "    \"\"\"Given two dicts, merge them into a new dict as a shallow copy.\"\"\"\n",
    "    z = x.copy()\n",
    "    z.update(y)\n",
    "    return z"
   ]
  },
  {
   "cell_type": "code",
   "execution_count": 28,
   "metadata": {
    "ExecuteTime": {
     "end_time": "2018-03-21T15:08:49.212957Z",
     "start_time": "2018-03-21T15:08:49.186944Z"
    }
   },
   "outputs": [],
   "source": [
    "scores = []\n",
    "for (date, game_num), game in pdf.iterrows():\n",
    "    base_dict = dict(date=date, end_time=game.end_time, game_num=game_num, white_wins=game.white_wins, color_wins=game.color_wins, game_winner=game.game_winner)    \n",
    "    scores.append(merge_two_dicts(base_dict, dict(team='white', team_score=game.white_point, my_score=game.my_point if game.my_color == 'white' else None)))\n",
    "    scores.append(merge_two_dicts(base_dict, dict(team='color', team_score=game.color_point, my_score=game.my_point if game.my_color == 'colors' else None)))\n",
    "\n",
    "score_df = pd.DataFrame(scores).set_index(['date', 'game_num', 'team'], drop=False)"
   ]
  },
  {
   "cell_type": "code",
   "execution_count": 29,
   "metadata": {
    "ExecuteTime": {
     "end_time": "2018-03-21T15:08:50.269485Z",
     "start_time": "2018-03-21T15:08:50.243472Z"
    }
   },
   "outputs": [
    {
     "data": {
      "text/html": [
       "<div>\n",
       "<table border=\"1\" class=\"dataframe\">\n",
       "  <thead>\n",
       "    <tr style=\"text-align: right;\">\n",
       "      <th></th>\n",
       "      <th></th>\n",
       "      <th></th>\n",
       "      <th>color_wins</th>\n",
       "      <th>date</th>\n",
       "      <th>end_time</th>\n",
       "      <th>game_num</th>\n",
       "      <th>game_winner</th>\n",
       "      <th>my_score</th>\n",
       "      <th>team</th>\n",
       "      <th>team_score</th>\n",
       "      <th>white_wins</th>\n",
       "    </tr>\n",
       "    <tr>\n",
       "      <th>date</th>\n",
       "      <th>game_num</th>\n",
       "      <th>team</th>\n",
       "      <th></th>\n",
       "      <th></th>\n",
       "      <th></th>\n",
       "      <th></th>\n",
       "      <th></th>\n",
       "      <th></th>\n",
       "      <th></th>\n",
       "      <th></th>\n",
       "      <th></th>\n",
       "    </tr>\n",
       "  </thead>\n",
       "  <tbody>\n",
       "    <tr>\n",
       "      <th rowspan=\"6\" valign=\"top\">2018-03-21</th>\n",
       "      <th rowspan=\"2\" valign=\"top\">0</th>\n",
       "      <th>white</th>\n",
       "      <td>1</td>\n",
       "      <td>2018-03-21</td>\n",
       "      <td>2018-03-21 12:48:00</td>\n",
       "      <td>0</td>\n",
       "      <td>White</td>\n",
       "      <td>NaN</td>\n",
       "      <td>white</td>\n",
       "      <td>5</td>\n",
       "      <td>2</td>\n",
       "    </tr>\n",
       "    <tr>\n",
       "      <th>color</th>\n",
       "      <td>1</td>\n",
       "      <td>2018-03-21</td>\n",
       "      <td>2018-03-21 12:48:00</td>\n",
       "      <td>0</td>\n",
       "      <td>White</td>\n",
       "      <td>1.0</td>\n",
       "      <td>color</td>\n",
       "      <td>4</td>\n",
       "      <td>2</td>\n",
       "    </tr>\n",
       "    <tr>\n",
       "      <th rowspan=\"2\" valign=\"top\">1</th>\n",
       "      <th>white</th>\n",
       "      <td>1</td>\n",
       "      <td>2018-03-21</td>\n",
       "      <td>2018-03-21 12:31:32</td>\n",
       "      <td>1</td>\n",
       "      <td>White</td>\n",
       "      <td>NaN</td>\n",
       "      <td>white</td>\n",
       "      <td>5</td>\n",
       "      <td>2</td>\n",
       "    </tr>\n",
       "    <tr>\n",
       "      <th>color</th>\n",
       "      <td>1</td>\n",
       "      <td>2018-03-21</td>\n",
       "      <td>2018-03-21 12:31:32</td>\n",
       "      <td>1</td>\n",
       "      <td>White</td>\n",
       "      <td>1.0</td>\n",
       "      <td>color</td>\n",
       "      <td>3</td>\n",
       "      <td>2</td>\n",
       "    </tr>\n",
       "    <tr>\n",
       "      <th rowspan=\"2\" valign=\"top\">2</th>\n",
       "      <th>white</th>\n",
       "      <td>1</td>\n",
       "      <td>2018-03-21</td>\n",
       "      <td>2018-03-21 12:13:34</td>\n",
       "      <td>2</td>\n",
       "      <td>Color</td>\n",
       "      <td>NaN</td>\n",
       "      <td>white</td>\n",
       "      <td>4</td>\n",
       "      <td>2</td>\n",
       "    </tr>\n",
       "    <tr>\n",
       "      <th>color</th>\n",
       "      <td>1</td>\n",
       "      <td>2018-03-21</td>\n",
       "      <td>2018-03-21 12:13:34</td>\n",
       "      <td>2</td>\n",
       "      <td>Color</td>\n",
       "      <td>0.0</td>\n",
       "      <td>color</td>\n",
       "      <td>5</td>\n",
       "      <td>2</td>\n",
       "    </tr>\n",
       "  </tbody>\n",
       "</table>\n",
       "</div>"
      ],
      "text/plain": [
       "                          color_wins       date            end_time  game_num  \\\n",
       "date       game_num team                                                        \n",
       "2018-03-21 0        white          1 2018-03-21 2018-03-21 12:48:00         0   \n",
       "                    color          1 2018-03-21 2018-03-21 12:48:00         0   \n",
       "           1        white          1 2018-03-21 2018-03-21 12:31:32         1   \n",
       "                    color          1 2018-03-21 2018-03-21 12:31:32         1   \n",
       "           2        white          1 2018-03-21 2018-03-21 12:13:34         2   \n",
       "                    color          1 2018-03-21 2018-03-21 12:13:34         2   \n",
       "\n",
       "                          game_winner  my_score   team  team_score white_wins  \n",
       "date       game_num team                                                       \n",
       "2018-03-21 0        white       White       NaN  white           5          2  \n",
       "                    color       White       1.0  color           4          2  \n",
       "           1        white       White       NaN  white           5          2  \n",
       "                    color       White       1.0  color           3          2  \n",
       "           2        white       Color       NaN  white           4          2  \n",
       "                    color       Color       0.0  color           5          2  "
      ]
     },
     "execution_count": 29,
     "metadata": {},
     "output_type": "execute_result"
    }
   ],
   "source": [
    "score_df"
   ]
  },
  {
   "cell_type": "code",
   "execution_count": 38,
   "metadata": {
    "ExecuteTime": {
     "end_time": "2018-03-21T15:12:16.135367Z",
     "start_time": "2018-03-21T15:12:16.119359Z"
    }
   },
   "outputs": [],
   "source": [
    "out_df = score_df[['date', 'white_wins', 'color_wins', 'game_num', 'game_winner', 'team', 'team_score', 'my_score']].fillna(value='')\n",
    "out_df['date'] = out_df['date'].apply(lambda x: x.strftime('%Y-%m-%d'))"
   ]
  },
  {
   "cell_type": "code",
   "execution_count": 39,
   "metadata": {
    "ExecuteTime": {
     "end_time": "2018-03-21T15:12:16.680639Z",
     "start_time": "2018-03-21T15:12:16.665632Z"
    }
   },
   "outputs": [
    {
     "data": {
      "text/html": [
       "<div>\n",
       "<table border=\"1\" class=\"dataframe\">\n",
       "  <thead>\n",
       "    <tr style=\"text-align: right;\">\n",
       "      <th></th>\n",
       "      <th></th>\n",
       "      <th></th>\n",
       "      <th>date</th>\n",
       "      <th>white_wins</th>\n",
       "      <th>color_wins</th>\n",
       "      <th>game_num</th>\n",
       "      <th>game_winner</th>\n",
       "      <th>team</th>\n",
       "      <th>team_score</th>\n",
       "      <th>my_score</th>\n",
       "    </tr>\n",
       "    <tr>\n",
       "      <th>date</th>\n",
       "      <th>game_num</th>\n",
       "      <th>team</th>\n",
       "      <th></th>\n",
       "      <th></th>\n",
       "      <th></th>\n",
       "      <th></th>\n",
       "      <th></th>\n",
       "      <th></th>\n",
       "      <th></th>\n",
       "      <th></th>\n",
       "    </tr>\n",
       "  </thead>\n",
       "  <tbody>\n",
       "    <tr>\n",
       "      <th rowspan=\"6\" valign=\"top\">2018-03-21</th>\n",
       "      <th rowspan=\"2\" valign=\"top\">0</th>\n",
       "      <th>white</th>\n",
       "      <td>2018-03-21</td>\n",
       "      <td>2</td>\n",
       "      <td>1</td>\n",
       "      <td>0</td>\n",
       "      <td>White</td>\n",
       "      <td>white</td>\n",
       "      <td>5</td>\n",
       "      <td></td>\n",
       "    </tr>\n",
       "    <tr>\n",
       "      <th>color</th>\n",
       "      <td>2018-03-21</td>\n",
       "      <td>2</td>\n",
       "      <td>1</td>\n",
       "      <td>0</td>\n",
       "      <td>White</td>\n",
       "      <td>color</td>\n",
       "      <td>4</td>\n",
       "      <td>1</td>\n",
       "    </tr>\n",
       "    <tr>\n",
       "      <th rowspan=\"2\" valign=\"top\">1</th>\n",
       "      <th>white</th>\n",
       "      <td>2018-03-21</td>\n",
       "      <td>2</td>\n",
       "      <td>1</td>\n",
       "      <td>1</td>\n",
       "      <td>White</td>\n",
       "      <td>white</td>\n",
       "      <td>5</td>\n",
       "      <td></td>\n",
       "    </tr>\n",
       "    <tr>\n",
       "      <th>color</th>\n",
       "      <td>2018-03-21</td>\n",
       "      <td>2</td>\n",
       "      <td>1</td>\n",
       "      <td>1</td>\n",
       "      <td>White</td>\n",
       "      <td>color</td>\n",
       "      <td>3</td>\n",
       "      <td>1</td>\n",
       "    </tr>\n",
       "    <tr>\n",
       "      <th rowspan=\"2\" valign=\"top\">2</th>\n",
       "      <th>white</th>\n",
       "      <td>2018-03-21</td>\n",
       "      <td>2</td>\n",
       "      <td>1</td>\n",
       "      <td>2</td>\n",
       "      <td>Color</td>\n",
       "      <td>white</td>\n",
       "      <td>4</td>\n",
       "      <td></td>\n",
       "    </tr>\n",
       "    <tr>\n",
       "      <th>color</th>\n",
       "      <td>2018-03-21</td>\n",
       "      <td>2</td>\n",
       "      <td>1</td>\n",
       "      <td>2</td>\n",
       "      <td>Color</td>\n",
       "      <td>color</td>\n",
       "      <td>5</td>\n",
       "      <td>0</td>\n",
       "    </tr>\n",
       "  </tbody>\n",
       "</table>\n",
       "</div>"
      ],
      "text/plain": [
       "                                 date white_wins color_wins  game_num  \\\n",
       "date       game_num team                                                \n",
       "2018-03-21 0        white  2018-03-21          2          1         0   \n",
       "                    color  2018-03-21          2          1         0   \n",
       "           1        white  2018-03-21          2          1         1   \n",
       "                    color  2018-03-21          2          1         1   \n",
       "           2        white  2018-03-21          2          1         2   \n",
       "                    color  2018-03-21          2          1         2   \n",
       "\n",
       "                          game_winner   team  team_score my_score  \n",
       "date       game_num team                                           \n",
       "2018-03-21 0        white       White  white           5           \n",
       "                    color       White  color           4        1  \n",
       "           1        white       White  white           5           \n",
       "                    color       White  color           3        1  \n",
       "           2        white       Color  white           4           \n",
       "                    color       Color  color           5        0  "
      ]
     },
     "execution_count": 39,
     "metadata": {},
     "output_type": "execute_result"
    }
   ],
   "source": [
    "out_df"
   ]
  },
  {
   "cell_type": "code",
   "execution_count": 40,
   "metadata": {
    "ExecuteTime": {
     "end_time": "2018-03-21T15:13:55.922235Z",
     "start_time": "2018-03-21T15:13:55.063806Z"
    },
    "collapsed": true
   },
   "outputs": [],
   "source": [
    "data = out_df.as_matrix().tolist()\n",
    "wks = sh.worksheet_by_title('game_summaries')\n",
    "wks.insert_rows(2, values=data, number=len(data))"
   ]
  },
  {
   "cell_type": "code",
   "execution_count": null,
   "metadata": {
    "collapsed": true
   },
   "outputs": [],
   "source": []
  },
  {
   "cell_type": "code",
   "execution_count": null,
   "metadata": {
    "collapsed": true
   },
   "outputs": [],
   "source": []
  }
 ],
 "metadata": {
  "git": {
   "suppress_outputs": true
  },
  "hide_input": false,
  "kernelspec": {
   "display_name": "Python 3",
   "language": "python",
   "name": "python3"
  },
  "language_info": {
   "codemirror_mode": {
    "name": "ipython",
    "version": 3
   },
   "file_extension": ".py",
   "mimetype": "text/x-python",
   "name": "python",
   "nbconvert_exporter": "python",
   "pygments_lexer": "ipython3",
   "version": "3.6.0"
  },
  "varInspector": {
   "cols": {
    "lenName": 16,
    "lenType": 16,
    "lenVar": 40
   },
   "kernels_config": {
    "python": {
     "delete_cmd_postfix": "",
     "delete_cmd_prefix": "del ",
     "library": "var_list.py",
     "varRefreshCmd": "print(var_dic_list())"
    },
    "r": {
     "delete_cmd_postfix": ") ",
     "delete_cmd_prefix": "rm(",
     "library": "var_list.r",
     "varRefreshCmd": "cat(var_dic_list()) "
    }
   },
   "types_to_exclude": [
    "module",
    "function",
    "builtin_function_or_method",
    "instance",
    "_Feature"
   ],
   "window_display": false
  }
 },
 "nbformat": 4,
 "nbformat_minor": 2
}
